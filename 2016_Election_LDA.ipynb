{
  "nbformat": 4,
  "nbformat_minor": 0,
  "metadata": {
    "colab": {
      "name": "2016_Election_LDA.ipynb",
      "provenance": [],
      "collapsed_sections": [],
      "mount_file_id": "1f9-TcIuRhssB-i-NHEuQZ8Kj_aB8OnUV",
      "authorship_tag": "ABX9TyMjeajF4KBoDrunweFTbUhM",
      "include_colab_link": true
    },
    "kernelspec": {
      "display_name": "Python 3",
      "name": "python3"
    },
    "language_info": {
      "name": "python"
    }
  },
  "cells": [
    {
      "cell_type": "markdown",
      "metadata": {
        "id": "view-in-github",
        "colab_type": "text"
      },
      "source": [
        "<a href=\"https://colab.research.google.com/github/stock-code/election_2016_twitter/blob/main/2016_Election_LDA.ipynb\" target=\"_parent\"><img src=\"https://colab.research.google.com/assets/colab-badge.svg\" alt=\"Open In Colab\"/></a>"
      ]
    },
    {
      "cell_type": "code",
      "metadata": {
        "id": "5o8LVU0jhUwJ"
      },
      "source": [
        "#add code for remove url\n",
        "import re\n",
        "import numpy as np\n",
        "import pandas as pd\n",
        "from pprint import pprint\n",
        "import string\n",
        "# Gensim\n",
        "import gensim\n",
        "import gensim.corpora as corpora\n",
        "from gensim.utils import simple_preprocess\n",
        "from gensim.models import CoherenceModel\n",
        "\n",
        "# spacy for lemmatization\n",
        "import spacy\n",
        "\n",
        "# Plotting tools\n",
        "!pip install pyLDAvis==2.1.2\n",
        "import pyLDAvis\n",
        "#import pyLDAvis.gensim  # don't skip this\n",
        "import matplotlib.pyplot as plt\n",
        "%matplotlib inline\n",
        "\n",
        "from nltk.corpus import stopwords\n",
        "\n",
        "# Enable logging for gensim - optional\n",
        "import logging\n",
        "logging.basicConfig(format='%(asctime)s : %(levelname)s : %(message)s', level=logging.ERROR)\n",
        "\n",
        "import warnings\n",
        "warnings.filterwarnings(\"ignore\",category=DeprecationWarning)"
      ],
      "execution_count": null,
      "outputs": []
    },
    {
      "cell_type": "code",
      "metadata": {
        "colab": {
          "base_uri": "https://localhost:8080/",
          "height": 400
        },
        "id": "7hRqpG1oh5f-",
        "outputId": "7e8e5722-baed-4be4-d49c-df084bac473d"
      },
      "source": [
        "df= pd.read_csv(\"/content/sample_data/2016_US_election_tweets_100k.csv\")\n",
        "\n",
        "df.head()"
      ],
      "execution_count": null,
      "outputs": [
        {
          "output_type": "execute_result",
          "data": {
            "text/html": [
              "<div>\n",
              "<style scoped>\n",
              "    .dataframe tbody tr th:only-of-type {\n",
              "        vertical-align: middle;\n",
              "    }\n",
              "\n",
              "    .dataframe tbody tr th {\n",
              "        vertical-align: top;\n",
              "    }\n",
              "\n",
              "    .dataframe thead th {\n",
              "        text-align: right;\n",
              "    }\n",
              "</style>\n",
              "<table border=\"1\" class=\"dataframe\">\n",
              "  <thead>\n",
              "    <tr style=\"text-align: right;\">\n",
              "      <th></th>\n",
              "      <th>id</th>\n",
              "      <th>candidate_id</th>\n",
              "      <th>tweet_id</th>\n",
              "      <th>polarity</th>\n",
              "      <th>subjectivity</th>\n",
              "      <th>retweet_count</th>\n",
              "      <th>favorite_count</th>\n",
              "      <th>device</th>\n",
              "      <th>retweeted_status_id</th>\n",
              "      <th>lang</th>\n",
              "      <th>state</th>\n",
              "      <th>tweet_text</th>\n",
              "      <th>created_at</th>\n",
              "      <th>inserted_at</th>\n",
              "      <th>updated_at</th>\n",
              "      <th>tw_user_id</th>\n",
              "      <th>latitude</th>\n",
              "      <th>longitude</th>\n",
              "    </tr>\n",
              "  </thead>\n",
              "  <tbody>\n",
              "    <tr>\n",
              "      <th>0</th>\n",
              "      <td>57486</td>\n",
              "      <td>3</td>\n",
              "      <td>7.707290e+17</td>\n",
              "      <td>0.000000</td>\n",
              "      <td>0.000000</td>\n",
              "      <td>0</td>\n",
              "      <td>0</td>\n",
              "      <td>1</td>\n",
              "      <td>NaN</td>\n",
              "      <td>tr</td>\n",
              "      <td>NaN</td>\n",
              "      <td>Ne farkınız var DAIŞ, El-Kaide, El Nusra, YPG ...</td>\n",
              "      <td>8/30/2016 21:03</td>\n",
              "      <td>8/30/2016 21:03</td>\n",
              "      <td>8/30/2016 21:03</td>\n",
              "      <td>NaN</td>\n",
              "      <td>NaN</td>\n",
              "      <td>NaN</td>\n",
              "    </tr>\n",
              "    <tr>\n",
              "      <th>1</th>\n",
              "      <td>57536</td>\n",
              "      <td>3</td>\n",
              "      <td>7.707290e+17</td>\n",
              "      <td>0.000000</td>\n",
              "      <td>0.000000</td>\n",
              "      <td>0</td>\n",
              "      <td>0</td>\n",
              "      <td>1</td>\n",
              "      <td>NaN</td>\n",
              "      <td>en</td>\n",
              "      <td>NaN</td>\n",
              "      <td>@BarackObama the way you showed up in Louisian...</td>\n",
              "      <td>8/30/2016 21:06</td>\n",
              "      <td>8/30/2016 21:06</td>\n",
              "      <td>8/30/2016 21:06</td>\n",
              "      <td>NaN</td>\n",
              "      <td>NaN</td>\n",
              "      <td>NaN</td>\n",
              "    </tr>\n",
              "    <tr>\n",
              "      <th>2</th>\n",
              "      <td>57586</td>\n",
              "      <td>3</td>\n",
              "      <td>7.707300e+17</td>\n",
              "      <td>-0.472222</td>\n",
              "      <td>0.555556</td>\n",
              "      <td>0</td>\n",
              "      <td>0</td>\n",
              "      <td>1</td>\n",
              "      <td>NaN</td>\n",
              "      <td>en</td>\n",
              "      <td>NaN</td>\n",
              "      <td>White house not taking tax avoid seriously! Ap...</td>\n",
              "      <td>8/30/2016 21:09</td>\n",
              "      <td>8/30/2016 21:09</td>\n",
              "      <td>8/30/2016 21:09</td>\n",
              "      <td>NaN</td>\n",
              "      <td>NaN</td>\n",
              "      <td>NaN</td>\n",
              "    </tr>\n",
              "    <tr>\n",
              "      <th>3</th>\n",
              "      <td>57632</td>\n",
              "      <td>2</td>\n",
              "      <td>7.707480e+17</td>\n",
              "      <td>0.000000</td>\n",
              "      <td>0.000000</td>\n",
              "      <td>0</td>\n",
              "      <td>0</td>\n",
              "      <td>0</td>\n",
              "      <td>NaN</td>\n",
              "      <td>en</td>\n",
              "      <td>NaN</td>\n",
              "      <td>politico: .realDonaldTrump, HillaryClinton ple...</td>\n",
              "      <td>8/30/2016 22:20</td>\n",
              "      <td>8/30/2016 22:20</td>\n",
              "      <td>8/30/2016 22:20</td>\n",
              "      <td>NaN</td>\n",
              "      <td>NaN</td>\n",
              "      <td>NaN</td>\n",
              "    </tr>\n",
              "    <tr>\n",
              "      <th>4</th>\n",
              "      <td>57682</td>\n",
              "      <td>1</td>\n",
              "      <td>7.707480e+17</td>\n",
              "      <td>-0.125000</td>\n",
              "      <td>0.375000</td>\n",
              "      <td>0</td>\n",
              "      <td>0</td>\n",
              "      <td>5</td>\n",
              "      <td>NaN</td>\n",
              "      <td>en</td>\n",
              "      <td>NaN</td>\n",
              "      <td>She's over due by 250 days. https://t.co/IfOO9...</td>\n",
              "      <td>8/30/2016 22:20</td>\n",
              "      <td>8/30/2016 22:20</td>\n",
              "      <td>8/30/2016 22:20</td>\n",
              "      <td>NaN</td>\n",
              "      <td>NaN</td>\n",
              "      <td>NaN</td>\n",
              "    </tr>\n",
              "  </tbody>\n",
              "</table>\n",
              "</div>"
            ],
            "text/plain": [
              "      id  candidate_id      tweet_id  ...  tw_user_id  latitude  longitude\n",
              "0  57486             3  7.707290e+17  ...         NaN       NaN        NaN\n",
              "1  57536             3  7.707290e+17  ...         NaN       NaN        NaN\n",
              "2  57586             3  7.707300e+17  ...         NaN       NaN        NaN\n",
              "3  57632             2  7.707480e+17  ...         NaN       NaN        NaN\n",
              "4  57682             1  7.707480e+17  ...         NaN       NaN        NaN\n",
              "\n",
              "[5 rows x 18 columns]"
            ]
          },
          "metadata": {
            "tags": []
          },
          "execution_count": 242
        }
      ]
    },
    {
      "cell_type": "markdown",
      "metadata": {
        "id": "A47Hk_AS_hKn"
      },
      "source": [
        "# New Section"
      ]
    },
    {
      "cell_type": "code",
      "metadata": {
        "colab": {
          "base_uri": "https://localhost:8080/"
        },
        "id": "c-otJhETkVmY",
        "outputId": "d3b3a7e8-f809-4a49-9ddb-d0ce9dfe97e5"
      },
      "source": [
        "df.info()\n",
        "df.drop(df.index[df['lang'] != 'en'], inplace = True)\n",
        "df = df[df['tweet_text'].notna()]"
      ],
      "execution_count": null,
      "outputs": [
        {
          "output_type": "stream",
          "text": [
            "<class 'pandas.core.frame.DataFrame'>\n",
            "RangeIndex: 100000 entries, 0 to 99999\n",
            "Data columns (total 18 columns):\n",
            " #   Column               Non-Null Count   Dtype  \n",
            "---  ------               --------------   -----  \n",
            " 0   id                   100000 non-null  int64  \n",
            " 1   candidate_id         100000 non-null  int64  \n",
            " 2   tweet_id             100000 non-null  float64\n",
            " 3   polarity             100000 non-null  float64\n",
            " 4   subjectivity         100000 non-null  float64\n",
            " 5   retweet_count        100000 non-null  int64  \n",
            " 6   favorite_count       100000 non-null  int64  \n",
            " 7   device               100000 non-null  int64  \n",
            " 8   retweeted_status_id  44607 non-null   float64\n",
            " 9   lang                 91451 non-null   object \n",
            " 10  state                3279 non-null    object \n",
            " 11  tweet_text           55393 non-null   object \n",
            " 12  created_at           100000 non-null  object \n",
            " 13  inserted_at          100000 non-null  object \n",
            " 14  updated_at           100000 non-null  object \n",
            " 15  tw_user_id           11060 non-null   float64\n",
            " 16  latitude             0 non-null       float64\n",
            " 17  longitude            0 non-null       float64\n",
            "dtypes: float64(7), int64(5), object(6)\n",
            "memory usage: 13.7+ MB\n"
          ],
          "name": "stdout"
        }
      ]
    },
    {
      "cell_type": "code",
      "metadata": {
        "colab": {
          "base_uri": "https://localhost:8080/"
        },
        "id": "3Isdow78kdm9",
        "outputId": "fcc4315d-9692-40be-f7a1-4d8556f3db0b"
      },
      "source": [
        "df.info()\n",
        "# Convert to list\n",
        "data = df.tweet_text.values.tolist()\n",
        "# remove url\n",
        "data= [re.sub(\"https?:\\/\\/.*[\\r\\n]*\", '',sent) for sent in data]\n",
        "#remove mention\n",
        "data=[re.sub(\"@[A-Za-z0-9]+\",\"\",sent) for sent in data]\n",
        "#remove amp\n",
        "data=[re.sub(\"amp\",\"\",sent) for sent in data]\n",
        "data=[re.sub(\"#\",\"\",sent) for sent in data]\n",
        "#remove_email\n",
        "data = [re.sub('\\S*@\\S*\\s?', '', sent) for sent in data]\n",
        "#remove less then 3 len\n",
        "data = [sent for sent in data if len(sent)>3]\n",
        "\n",
        "data=[re.sub(\"\\'\",\"\",sent)for sent in data]\n"
      ],
      "execution_count": null,
      "outputs": [
        {
          "output_type": "stream",
          "text": [
            "<class 'pandas.core.frame.DataFrame'>\n",
            "Int64Index: 46777 entries, 1 to 99999\n",
            "Data columns (total 18 columns):\n",
            " #   Column               Non-Null Count  Dtype  \n",
            "---  ------               --------------  -----  \n",
            " 0   id                   46777 non-null  int64  \n",
            " 1   candidate_id         46777 non-null  int64  \n",
            " 2   tweet_id             46777 non-null  float64\n",
            " 3   polarity             46777 non-null  float64\n",
            " 4   subjectivity         46777 non-null  float64\n",
            " 5   retweet_count        46777 non-null  int64  \n",
            " 6   favorite_count       46777 non-null  int64  \n",
            " 7   device               46777 non-null  int64  \n",
            " 8   retweeted_status_id  0 non-null      float64\n",
            " 9   lang                 46777 non-null  object \n",
            " 10  state                2780 non-null   object \n",
            " 11  tweet_text           46777 non-null  object \n",
            " 12  created_at           46777 non-null  object \n",
            " 13  inserted_at          46777 non-null  object \n",
            " 14  updated_at           46777 non-null  object \n",
            " 15  tw_user_id           9753 non-null   float64\n",
            " 16  latitude             0 non-null      float64\n",
            " 17  longitude            0 non-null      float64\n",
            "dtypes: float64(7), int64(5), object(6)\n",
            "memory usage: 6.8+ MB\n"
          ],
          "name": "stdout"
        }
      ]
    },
    {
      "cell_type": "code",
      "metadata": {
        "id": "LcdquAdNStLx"
      },
      "source": [
        "#remove_punc\n",
        "data=[sent.translate(str.maketrans('', '', string.punctuation)) for sent in data]\n",
        "#remove_digit\n",
        "data=[sent.translate(str.maketrans('', '', string.digits)) for sent in data]"
      ],
      "execution_count": null,
      "outputs": []
    },
    {
      "cell_type": "code",
      "metadata": {
        "colab": {
          "base_uri": "https://localhost:8080/"
        },
        "id": "uBScqCCtRCqV",
        "outputId": "9e845189-277d-42d1-e0f9-750cdfcfe17e"
      },
      "source": [
        "data[1:10]"
      ],
      "execution_count": null,
      "outputs": [
        {
          "output_type": "execute_result",
          "data": {
            "text/plain": [
              "['White house not taking tax avoid seriously Apple disgusting  AppleTax',\n",
              " 'politico realDonaldTrump HillaryClinton pledge to pause caigns for  ',\n",
              " 'Shes over due by  days ',\n",
              " 'Eight Jamaicans selected for  ’s young leaders’ initiative ',\n",
              " ' can we just report the results after Election Day Polls dont mean anything in this election and  is a corrupt liar',\n",
              " 'BarackObama Obama Obama commutes sentences for  more federal prisoners President Barac ',\n",
              " '  Trumpsters are all fools',\n",
              " '  And I see your VOTES sez HILLARY who only cares for MONEY AND POWER ANDHILLARY',\n",
              " 'Let me sck ur dldo 👏  😘 Look my top tweet  whre ']"
            ]
          },
          "metadata": {
            "tags": []
          },
          "execution_count": 281
        }
      ]
    },
    {
      "cell_type": "code",
      "metadata": {
        "colab": {
          "base_uri": "https://localhost:8080/"
        },
        "id": "Quf6jkF_knIG",
        "outputId": "7d05ae25-6e6c-44f5-d135-b8c314102fa8"
      },
      "source": [
        "def sent_to_words(sentences):\n",
        "    for sentence in sentences:\n",
        "      yield(gensim.utils.simple_preprocess(str(sentence), deacc=True))  # deacc=True removes punctuations\n",
        "\n",
        "data_words = list(sent_to_words(data))\n",
        "\n",
        "print(data_words[9:11])"
      ],
      "execution_count": null,
      "outputs": [
        {
          "output_type": "stream",
          "text": [
            "[['let', 'me', 'sck', 'ur', 'dldo', 'look', 'my', 'top', 'tweet', 'whre'], ['baldasaro', 'guess', 'calling', 'for', 'the', 'murder', 'of', 'has', 'its', 'upside']]\n"
          ],
          "name": "stdout"
        }
      ]
    },
    {
      "cell_type": "code",
      "metadata": {
        "colab": {
          "base_uri": "https://localhost:8080/"
        },
        "id": "PRD5ynOxkpkv",
        "outputId": "dfcaa488-ddd5-47ab-9833-b61e9a9a92fe"
      },
      "source": [
        "# Build the bigram and trigram models\n",
        "bigram = gensim.models.Phrases(data_words, min_count=5, threshold=100) # higher threshold fewer phrases.\n",
        "trigram = gensim.models.Phrases(bigram[data_words], threshold=100)  \n",
        "\n",
        "# Faster way to get a sentence clubbed as a trigram/bigram\n",
        "bigram_mod = gensim.models.phrases.Phraser(bigram)\n",
        "trigram_mod = gensim.models.phrases.Phraser(trigram)\n",
        "\n",
        "# See trigram example\n",
        "print(trigram_mod[bigram_mod[data_words[0]]])"
      ],
      "execution_count": null,
      "outputs": [
        {
          "output_type": "stream",
          "text": [
            "/usr/local/lib/python3.7/dist-packages/gensim/models/phrases.py:598: UserWarning: For a faster implementation, use the gensim.models.phrases.Phraser class\n",
            "  warnings.warn(\"For a faster implementation, use the gensim.models.phrases.Phraser class\")\n"
          ],
          "name": "stderr"
        },
        {
          "output_type": "stream",
          "text": [
            "['the', 'way', 'you', 'showed', 'up', 'in', 'louisiana']\n"
          ],
          "name": "stdout"
        }
      ]
    },
    {
      "cell_type": "code",
      "metadata": {
        "id": "s0sw2f2HkrXv"
      },
      "source": [
        ""
      ],
      "execution_count": null,
      "outputs": []
    },
    {
      "cell_type": "code",
      "metadata": {
        "colab": {
          "base_uri": "https://localhost:8080/"
        },
        "id": "UmTprJhxkwYA",
        "outputId": "7be85ac7-4103-4492-a8b4-bf715ac40c35"
      },
      "source": [
        "from nltk.corpus import stopwords\n",
        "import nltk\n",
        "nltk.download('stopwords')"
      ],
      "execution_count": null,
      "outputs": [
        {
          "output_type": "stream",
          "text": [
            "[nltk_data] Downloading package stopwords to /root/nltk_data...\n",
            "[nltk_data]   Package stopwords is already up-to-date!\n"
          ],
          "name": "stdout"
        },
        {
          "output_type": "execute_result",
          "data": {
            "text/plain": [
              "True"
            ]
          },
          "metadata": {
            "tags": []
          },
          "execution_count": 249
        }
      ]
    },
    {
      "cell_type": "code",
      "metadata": {
        "id": "abJcGej5kyva"
      },
      "source": [
        "stop_words = stopwords.words('english')\n",
        "stop_words.extend(['rt', 'retweet', 'lol', 'edu', 'use'])\n",
        "# Define functions for stopwords, bigrams, trigrams and lemmatization\n",
        "def remove_stopwords(texts):\n",
        "    return [[word for word in simple_preprocess(str(doc)) if word not in stop_words] for doc in texts]\n",
        "\n",
        "def make_bigrams(texts):\n",
        "    return [bigram_mod[doc] for doc in texts]\n",
        "\n",
        "def make_trigrams(texts):\n",
        "     return [trigram_mod[bigram_mod[doc]] for doc in texts]\n",
        "\n",
        "def lemmatization(texts):\n",
        "    \"\"\"https://spacy.io/api/annotation\"\"\"\n",
        "    texts_out = []\n",
        "    allowed_postags=['ADJ', 'VERB', 'ADV','NOUN']\n",
        "    for sent in texts:\n",
        "      doc = nlp(\" \".join(sent)) \n",
        "      texts_out.append([token.lemma_ for token in doc if token.pos_ in allowed_postags])\n",
        "    return texts_out\n",
        "\n"
      ],
      "execution_count": null,
      "outputs": []
    },
    {
      "cell_type": "code",
      "metadata": {
        "colab": {
          "base_uri": "https://localhost:8080/"
        },
        "id": "mIbe-zUUlQ0A",
        "outputId": "5a796fb7-46be-4918-afef-c890db4dceff"
      },
      "source": [
        "# Remove Stop Words\n",
        "data_words_nostops = remove_stopwords(data_words)\n",
        "\n",
        "# Form Bigrams\n",
        "data_words_bigrams = make_bigrams(data_words_nostops)\n",
        "\n",
        "# Initialize spacy 'en' model, keeping only tagger component (for efficiency)\n",
        "#python3 -m spacy download en\n",
        "nlp = spacy.load(\"en_core_web_sm\", disable=['parser', 'ner'])\n",
        "\n",
        "# Do lemmatization keeping only noun, adj, vb, adv\n",
        "data_lemmatized = lemmatization(data_words_bigrams)\n",
        "\n",
        "print(data_lemmatized[:1])"
      ],
      "execution_count": null,
      "outputs": [
        {
          "output_type": "stream",
          "text": [
            "[['show']]\n"
          ],
          "name": "stdout"
        }
      ]
    },
    {
      "cell_type": "code",
      "metadata": {
        "colab": {
          "base_uri": "https://localhost:8080/"
        },
        "id": "H8W5waj_nQMk",
        "outputId": "fb53dffd-7e82-4c20-e042-245c0f9d43e4"
      },
      "source": [
        "print(data_lemmatized[:10])\n",
        "#print(data_lemGensim[:10])"
      ],
      "execution_count": null,
      "outputs": [
        {
          "output_type": "stream",
          "text": [
            "[['show'], ['white_house', 'take', 'tax', 'avoid', 'seriously', 'apple', 'disgust', 'appletax'], ['pause_caign'], ['s', 'due', 'day'], ['select', 'young', 'leader'], ['report', 'result', 'election', 'day', 'poll', 'mean', 'election', 'corrupt', 'liar'], ['federal', 'prisoner'], ['trumpster', 'fool'], ['see', 'care', 'andhillary'], ['let', 'dldo', 'look', 'top']]\n"
          ],
          "name": "stdout"
        }
      ]
    },
    {
      "cell_type": "code",
      "metadata": {
        "colab": {
          "base_uri": "https://localhost:8080/"
        },
        "id": "vdFwJ5B7lTBB",
        "outputId": "0618cf11-799c-4037-f76d-e351f0ddbf6d"
      },
      "source": [
        "# Create Dictionary\n",
        "id2word = corpora.Dictionary(data_lemmatized)\n",
        "\n",
        "# Create Corpus\n",
        "texts = data_lemmatized\n",
        "\n",
        "# Term Document Frequency\n",
        "corpus = [id2word.doc2bow(text) for text in texts]\n",
        "\n",
        "# View\n",
        "print(corpus[:2])"
      ],
      "execution_count": null,
      "outputs": [
        {
          "output_type": "stream",
          "text": [
            "[[(0, 1)], [(1, 1), (2, 1), (3, 1), (4, 1), (5, 1), (6, 1), (7, 1), (8, 1)]]\n"
          ],
          "name": "stdout"
        }
      ]
    },
    {
      "cell_type": "code",
      "metadata": {
        "colab": {
          "base_uri": "https://localhost:8080/"
        },
        "id": "YZaOy2MslWpa",
        "outputId": "593b1418-e1c2-4436-ae98-7d0b1d17c4b3"
      },
      "source": [
        "[[(id2word[id], freq) for id, freq in cp] for cp in corpus[:2]]"
      ],
      "execution_count": null,
      "outputs": [
        {
          "output_type": "execute_result",
          "data": {
            "text/plain": [
              "[[('show', 1)],\n",
              " [('apple', 1),\n",
              "  ('appletax', 1),\n",
              "  ('avoid', 1),\n",
              "  ('disgust', 1),\n",
              "  ('seriously', 1),\n",
              "  ('take', 1),\n",
              "  ('tax', 1),\n",
              "  ('white_house', 1)]]"
            ]
          },
          "metadata": {
            "tags": []
          },
          "execution_count": 255
        }
      ]
    },
    {
      "cell_type": "code",
      "metadata": {
        "id": "sXoGBebplYyo"
      },
      "source": [
        "# Build LDA model\n",
        "lda_model = gensim.models.ldamodel.LdaModel(corpus=corpus,id2word=id2word,num_topics=20)\n",
        "# Build LDA model\n",
        "#lda_model = gensim.models.ldamodel.LdaModel(corpus=corpus,id2word=id2word,num_topics=20)"
      ],
      "execution_count": null,
      "outputs": []
    },
    {
      "cell_type": "code",
      "metadata": {
        "colab": {
          "base_uri": "https://localhost:8080/"
        },
        "id": "kEdXregJnRdd",
        "outputId": "0041e023-7e66-4014-a605-754b9bedf6a0"
      },
      "source": [
        "# Print the Keyword in the 10 topics\n",
        "pprint(lda_model.print_topics())\n",
        "doc_lda = lda_model[corpus]"
      ],
      "execution_count": null,
      "outputs": [
        {
          "output_type": "stream",
          "text": [
            "[(0,\n",
            "  '0.037*\"stupid\" + 0.036*\"word\" + 0.032*\"live\" + 0.031*\"stand\" + '\n",
            "  '0.026*\"happen\" + 0.026*\"play\" + 0.022*\"high\" + 0.020*\"trump\" + '\n",
            "  '0.019*\"world\" + 0.018*\"break\"'),\n",
            " (1,\n",
            "  '0.073*\"love\" + 0.062*\"really\" + 0.048*\"people\" + 0.034*\"american\" + '\n",
            "  '0.027*\"hide\" + 0.027*\"woman\" + 0.026*\"use\" + 0.026*\"put\" + 0.019*\"send\" + '\n",
            "  '0.017*\"man\"'),\n",
            " (2,\n",
            "  '0.068*\"thank\" + 0.034*\"supporter\" + 0.033*\"leave\" + 0.022*\"follow\" + '\n",
            "  '0.022*\"hope\" + 0.020*\"away\" + 0.017*\"people\" + 0.016*\"child\" + '\n",
            "  '0.016*\"white\" + 0.015*\"get\"'),\n",
            " (3,\n",
            "  '0.153*\"go\" + 0.046*\"pay\" + 0.035*\"way\" + 0.033*\"help\" + 0.032*\"real\" + '\n",
            "  '0.028*\"fact\" + 0.023*\"back\" + 0.023*\"ask\" + 0.023*\"s\" + 0.022*\"get\"'),\n",
            " (4,\n",
            "  '0.088*\"want\" + 0.070*\"great\" + 0.043*\"trump\" + 0.037*\"create\" + '\n",
            "  '0.035*\"election\" + 0.030*\"lose\" + 0.028*\"win\" + 0.025*\"next\" + 0.025*\"make\" '\n",
            "  '+ 0.024*\"illegal\"'),\n",
            " (5,\n",
            "  '0.121*\"job\" + 0.071*\"join\" + 0.048*\"delete\" + 0.044*\"mm_page\" + '\n",
            "  '0.025*\"delusional\" + 0.025*\"have\" + 0.022*\"forget\" + 0.019*\"great\" + '\n",
            "  '0.014*\"force\" + 0.013*\"follower\"'),\n",
            " (6,\n",
            "  '0.077*\"good\" + 0.053*\"can\" + 0.045*\"make\" + 0.029*\"wait\" + 0.027*\"member\" + '\n",
            "  '0.026*\"nice\" + 0.024*\"hate\" + 0.024*\"wrong\" + 0.024*\"leader\" + '\n",
            "  '0.021*\"like\"'),\n",
            " (7,\n",
            "  '0.060*\"still\" + 0.058*\"president\" + 0.057*\"right\" + 0.036*\"run\" + '\n",
            "  '0.022*\"long\" + 0.021*\"candidate\" + 0.021*\"exactly\" + 0.021*\"elect\" + '\n",
            "  '0.018*\"liberal\" + 0.017*\"sick\"'),\n",
            " (8,\n",
            "  '0.093*\"know\" + 0.067*\"look\" + 0.031*\"care\" + 0.028*\"do\" + 0.025*\"first\" + '\n",
            "  '0.024*\"mean\" + 0.023*\"true\" + 0.020*\"today\" + 0.019*\"stay\" + '\n",
            "  '0.018*\"enough\"'),\n",
            " (9,\n",
            "  '0.071*\"show\" + 0.030*\"turn\" + 0.030*\"poll\" + 0.022*\"continue\" + '\n",
            "  '0.022*\"point\" + 0.022*\"trust\" + 0.021*\"lead\" + 0.021*\"maga\" + 0.018*\"wake\" '\n",
            "  '+ 0.017*\"probably\"'),\n",
            " (10,\n",
            "  '0.079*\"come\" + 0.058*\"talk\" + 0.038*\"big\" + 0.030*\"liar\" + 0.024*\"new\" + '\n",
            "  '0.023*\"criminal\" + 0.019*\"reality\" + 0.018*\"check\" + 0.016*\"fire\" + '\n",
            "  '0.015*\"make\"'),\n",
            " (11,\n",
            "  '0.061*\"much\" + 0.037*\"trump\" + 0.026*\"policy\" + 0.025*\"law\" + '\n",
            "  '0.024*\"change\" + 0.023*\"immigration\" + 0.020*\"yet\" + 0.020*\"expect\" + '\n",
            "  '0.017*\"public\" + 0.016*\"reason\"'),\n",
            " (12,\n",
            "  '0.086*\"take\" + 0.044*\"will\" + 0.035*\"racist\" + 0.031*\"bring\" + '\n",
            "  '0.031*\"already\" + 0.028*\"family\" + 0.026*\"could\" + 0.025*\"fail\" + '\n",
            "  '0.023*\"voter\" + 0.021*\"imwithher\"'),\n",
            " (13,\n",
            "  '0.070*\"call\" + 0.062*\"vote\" + 0.056*\"give\" + 0.040*\"get\" + 0.030*\"wall\" + '\n",
            "  '0.028*\"tell\" + 0.021*\"kill\" + 0.020*\"build\" + 0.019*\"name\" + 0.018*\"would\"'),\n",
            " (14,\n",
            "  '0.083*\"keep\" + 0.082*\"news\" + 0.059*\"work\" + 0.038*\"try\" + 0.035*\"tweet\" + '\n",
            "  '0.025*\"bad\" + 0.019*\"good\" + 0.017*\"hard\" + 0.015*\"fight\" + 0.014*\"write\"'),\n",
            " (15,\n",
            "  '0.190*\"be\" + 0.053*\"support\" + 0.035*\"year\" + 0.031*\"sad\" + 0.026*\"sure\" + '\n",
            "  '0.025*\"speech\" + 0.021*\"proud\" + 0.019*\"last\" + 0.018*\"remember\" + '\n",
            "  '0.016*\"face\"'),\n",
            " (16,\n",
            "  '0.113*\"lie\" + 0.076*\"think\" + 0.066*\"see\" + 0.042*\"never\" + 0.036*\"money\" + '\n",
            "  '0.031*\"speak\" + 0.026*\"maybe\" + 0.020*\"always\" + 0.018*\"feel\" + '\n",
            "  '0.014*\"guy\"'),\n",
            " (17,\n",
            "  '0.101*\"fake\" + 0.081*\"medium\" + 0.038*\"watch\" + 0.033*\"truth\" + '\n",
            "  '0.026*\"rush\" + 0.022*\"yesterday\" + 0.018*\"need\" + 0.018*\"sound\" + '\n",
            "  '0.017*\"mess\" + 0.016*\"meet\"'),\n",
            " (18,\n",
            "  '0.145*\"say\" + 0.045*\"thing\" + 0.042*\"even\" + 0.036*\"stop\" + 0.032*\"hear\" + '\n",
            "  '0.027*\"believe\" + 0.020*\"actually\" + 0.019*\"people\" + 0.017*\"pwilliam\" + '\n",
            "  '0.017*\"know\"'),\n",
            " (19,\n",
            "  '0.083*\"time\" + 0.052*\"ever\" + 0.033*\"start\" + 0.032*\"read\" + 0.027*\"agree\" '\n",
            "  '+ 0.025*\"press\" + 0.023*\"person\" + 0.021*\"crazy\" + 0.021*\"old\" + 0.019*\"s\"')]\n"
          ],
          "name": "stdout"
        }
      ]
    },
    {
      "cell_type": "code",
      "metadata": {
        "colab": {
          "base_uri": "https://localhost:8080/"
        },
        "id": "Bo2qQdQinVnO",
        "outputId": "60c1422e-92de-4a0f-e9d8-0621fe1e07f0"
      },
      "source": [
        "# Compute Perplexity\n",
        "print('\\nPerplexity: ', lda_model.log_perplexity(corpus))  # a measure of how good the model is. lower the better.\n",
        "\n",
        "# Compute Coherence Score\n",
        "coherence_model_lda = CoherenceModel(model=lda_model, texts=data_lemmatized, dictionary=id2word, coherence='c_v')\n",
        "coherence_lda = coherence_model_lda.get_coherence()\n",
        "print('\\nCoherence Score: ', coherence_lda)"
      ],
      "execution_count": null,
      "outputs": [
        {
          "output_type": "stream",
          "text": [
            "\n",
            "Perplexity:  -8.715042051136587\n",
            "\n",
            "Coherence Score:  0.3608425377990102\n"
          ],
          "name": "stdout"
        }
      ]
    },
    {
      "cell_type": "code",
      "metadata": {
        "colab": {
          "base_uri": "https://localhost:8080/",
          "height": 881
        },
        "id": "d-YwPqcKnYeI",
        "outputId": "239848bd-46f1-44b3-eb91-5fd6b59b1330"
      },
      "source": [
        "# Visualize the topics\n",
        "from pyLDAvis import gensim\n",
        "pyLDAvis.enable_notebook()\n",
        "vis = pyLDAvis.gensim.prepare(lda_model, corpus, id2word)\n",
        "vis"
      ],
      "execution_count": null,
      "outputs": [
        {
          "output_type": "execute_result",
          "data": {
            "text/html": [
              "\n",
              "<link rel=\"stylesheet\" type=\"text/css\" href=\"https://cdn.rawgit.com/bmabey/pyLDAvis/files/ldavis.v1.0.0.css\">\n",
              "\n",
              "\n",
              "<div id=\"ldavis_el8961398578264382249094745863\"></div>\n",
              "<script type=\"text/javascript\">\n",
              "\n",
              "var ldavis_el8961398578264382249094745863_data = {\"mdsDat\": {\"x\": [-0.1643403810925505, -0.10792137248601348, -0.14708616466911054, 0.16079032483165243, -0.15248358770165577, 0.07289831382876355, 0.022088793520243368, -0.1256258048868072, 0.03378045007069946, -0.08596389924157777, -0.07432569333945878, 0.11495945461517759, -0.07603833988797819, 0.06052401786250133, 0.06141560449802383, 0.015060303855692729, 0.08808044055663149, 0.08538329216924245, 0.037226961713266137, 0.18157728578325716], \"y\": [0.17836882451391484, -0.19636290835215042, -0.010985813669159138, -0.06561673899096382, 0.013344267587717572, -0.0964015750871233, -0.1251830932031619, -0.04568580374751145, -0.07736499753301755, -0.08408482168378205, 0.009989861106040552, 0.15466417433151688, 0.04807413894235075, 0.07448002356087244, -0.023302681011566937, 0.215502161306648, -0.04702863269977215, -0.015555956818559102, 0.08741410503685129, 0.005735466410855157], \"topics\": [1, 2, 3, 4, 5, 6, 7, 8, 9, 10, 11, 12, 13, 14, 15, 16, 17, 18, 19, 20], \"cluster\": [1, 1, 1, 1, 1, 1, 1, 1, 1, 1, 1, 1, 1, 1, 1, 1, 1, 1, 1, 1], \"Freq\": [6.308961611209579, 6.218766336939777, 5.873044554061829, 5.871795340220079, 5.481557596209305, 5.450532248474812, 5.198138591228959, 5.106891999211611, 5.0671927865125355, 5.032814952911699, 4.77975676589491, 4.714754033348356, 4.682740018162181, 4.677914718031417, 4.64075692189807, 4.605908525348855, 4.495146350531449, 4.266342892164721, 3.9321014246449555, 3.5948823329949]}, \"tinfo\": {\"Term\": [\"be\", \"go\", \"say\", \"lie\", \"know\", \"fake\", \"want\", \"job\", \"news\", \"keep\", \"take\", \"time\", \"medium\", \"think\", \"come\", \"good\", \"great\", \"love\", \"look\", \"call\", \"thank\", \"see\", \"show\", \"vote\", \"really\", \"work\", \"join\", \"much\", \"still\", \"talk\", \"ask\", \"way\", \"fast\", \"poor\", \"quite\", \"pathetic\", \"sorry\", \"bitch\", \"fly\", \"quit\", \"joke\", \"drink\", \"unfit\", \"moron\", \"post\", \"presidency\", \"cut\", \"epic\", \"appear\", \"belong\", \"paper\", \"mock\", \"anger\", \"choo\", \"plane\", \"everyday\", \"hundred\", \"secret\", \"arrest\", \"fine\", \"pay\", \"go\", \"there\", \"fact\", \"real\", \"press_conference\", \"base\", \"help\", \"find\", \"catch\", \"question\", \"back\", \"taxis\", \"well\", \"tax\", \"open\", \"get\", \"s\", \"wife\", \"country\", \"people\", \"day\", \"need\", \"think\", \"drug\", \"pwilliam\", \"video\", \"morning\", \"head\", \"protect\", \"better\", \"fuck\", \"foreign\", \"complete\", \"kind\", \"horrible\", \"scary\", \"actually\", \"large\", \"idiot\", \"official\", \"represent\", \"suggest\", \"democracy\", \"argue\", \"heart\", \"team\", \"group\", \"terrorism\", \"msm\", \"say\", \"nonsense\", \"secure\", \"tone\", \"hear\", \"thing\", \"believe\", \"opposite\", \"honest\", \"even\", \"border\", \"stop\", \"black\", \"racism\", \"stuff\", \"shit\", \"illegally\", \"people\", \"know\", \"would\", \"need\", \"trump\", \"also\", \"vote\", \"many\", \"think\", \"leak\", \"corrupt\", \"true\", \"mexican\", \"million\", \"disaster\", \"life\", \"today\", \"become\", \"water\", \"spend\", \"enough\", \"attack\", \"move\", \"remind\", \"step\", \"do\", \"serious\", \"cause\", \"clinton_foundation\", \"government\", \"best\", \"own\", \"dude\", \"treat\", \"rant\", \"first\", \"tomorrow\", \"depend\", \"embarrassing\", \"care\", \"mad\", \"mean\", \"look\", \"know\", \"stay\", \"tired\", \"s\", \"get\", \"would\", \"people\", \"trump\", \"think\", \"help\", \"want\", \"election\", \"learn\", \"control\", \"create\", \"meeting\", \"simply\", \"penny\", \"insult\", \"together\", \"absolutely\", \"boy\", \"machine\", \"diplomacy\", \"lose\", \"side\", \"alone\", \"next\", \"spotlight\", \"period\", \"republican\", \"address\", \"fund\", \"correct\", \"lying\", \"desperate\", \"left\", \"gross\", \"fix\", \"spin\", \"issue\", \"source\", \"full\", \"great\", \"may\", \"answer\", \"win\", \"illegal\", \"seem\", \"plan\", \"trump\", \"make\", \"s\", \"question\", \"would\", \"need\", \"money\", \"end\", \"office\", \"feel\", \"anymore\", \"least\", \"comment\", \"lunatic\", \"grow\", \"amazing\", \"maybe\", \"level\", \"foundation\", \"awesome\", \"sentence\", \"vet\", \"trumptrain\", \"bias\", \"deny\", \"praise\", \"son\", \"daily\", \"lie\", \"suppose\", \"stage\", \"college\", \"train\", \"price\", \"house\", \"justice\", \"speak\", \"prison\", \"never\", \"media\", \"think\", \"guy\", \"see\", \"always\", \"resist\", \"ready\", \"day\", \"stop\", \"tell\", \"give\", \"get\", \"would\", \"be\", \"sad\", \"sure\", \"epipen_pricegouge\", \"rein\", \"benghazi\", \"dem\", \"loser\", \"steal\", \"judge_garland\", \"hillaryclinton\", \"laugh\", \"staff\", \"important\", \"proud\", \"voting\", \"invite\", \"chance\", \"hopefully\", \"healthcare\", \"system\", \"puppet\", \"excellent\", \"charity\", \"screw\", \"piece\", \"peace\", \"exle\", \"support\", \"disrespectful\", \"year\", \"face\", \"release\", \"crime\", \"remember\", \"last\", \"speech\", \"happy\", \"tell\", \"make\", \"vote\", \"s\", \"trump\", \"news\", \"write\", \"fight\", \"shut\", \"conference\", \"finally\", \"fall\", \"tweet\", \"spread\", \"trumppence\", \"hard\", \"front\", \"neverhillary\", \"history\", \"worry\", \"repeat\", \"propaganda\", \"wear\", \"add\", \"self\", \"fill\", \"tv\", \"crowd\", \"repeal\", \"hypocrite\", \"scandal\", \"serve\", \"journalist\", \"scared\", \"short\", \"keep\", \"corruption\", \"work\", \"expose\", \"try\", \"pocket\", \"debate\", \"bad\", \"good\", \"can\", \"get\", \"look\", \"trump\", \"great\", \"make\", \"tell\", \"love\", \"woman\", \"review\", \"dumb\", \"set\", \"hide\", \"total\", \"die\", \"senate_leader\", \"shame\", \"eye\", \"pick\", \"handle\", \"girl\", \"term\", \"sign\", \"throw\", \"terrorist\", \"jail\", \"info\", \"politic\", \"mouth\", \"ok\", \"fair\", \"bully\", \"credibility\", \"bro\", \"define\", \"concern\", \"qualified\", \"act\", \"server\", \"really\", \"put\", \"american\", \"use\", \"strong\", \"send\", \"people\", \"man\", \"need\", \"would\", \"get\", \"trump\", \"member\", \"leader\", \"nice\", \"fool\", \"like\", \"wonder\", \"twitter\", \"whole\", \"prove\", \"discuss\", \"wrong\", \"reporter\", \"clinton\", \"friend\", \"promise\", \"rich\", \"evil\", \"wait\", \"choice\", \"resign\", \"listen\", \"clearly\", \"caigne\", \"response\", \"dishonest\", \"brain\", \"opinion\", \"non\", \"research\", \"divide\", \"view\", \"political\", \"good\", \"hate\", \"can\", \"fucking\", \"hold\", \"make\", \"s\", \"see\", \"would\", \"wall\", \"name\", \"little\", \"smart\", \"save\", \"message\", \"deserve\", \"donate\", \"ill\", \"account\", \"kill\", \"miss\", \"eat\", \"room\", \"buy\", \"rather\", \"bigly\", \"crooked\", \"measure\", \"uranium\", \"donor\", \"fear\", \"rat\", \"pity\", \"asshole\", \"moment\", \"slow\", \"death\", \"caign\", \"meaning\", \"air\", \"favor\", \"call\", \"figure\", \"pretty\", \"build\", \"give\", \"vote\", \"damn\", \"tell\", \"get\", \"must\", \"would\", \"could\", \"fake\", \"meet\", \"rush\", \"destroy\", \"mess\", \"lot\", \"realdonaldtrump\", \"traitor\", \"future\", \"nee\", \"disgrace\", \"cheat\", \"else\", \"power\", \"limbaugh\", \"inherit\", \"begin\", \"lock\", \"mine\", \"share\", \"article\", \"home\", \"sound\", \"business\", \"suck\", \"alive\", \"fantastic\", \"golf\", \"box\", \"fakepresident\", \"medium\", \"donation\", \"report\", \"understand\", \"war\", \"watch\", \"problem\", \"yesterday\", \"truth\", \"need\", \"tell\", \"well\", \"liar\", \"criminal\", \"reality\", \"mind\", \"place\", \"hispanic\", \"pray\", \"sense\", \"come\", \"company\", \"fire\", \"dead\", \"story\", \"treason\", \"accept\", \"check\", \"fat\", \"gun\", \"enemy\", \"cool\", \"offer\", \"second\", \"impeachtrump\", \"choose\", \"should\", \"completely\", \"normal\", \"impeachment\", \"talk\", \"pander\", \"big\", \"ugly\", \"new\", \"legal\", \"deport\", \"party\", \"instead\", \"health\", \"make\", \"back\", \"s\", \"trump\", \"thank\", \"follow\", \"away\", \"star\", \"white\", \"leave\", \"respect\", \"child\", \"deal\", \"citizen\", \"ass\", \"count\", \"recess\", \"case\", \"baby\", \"kick\", \"half\", \"walk\", \"cover\", \"insurance\", \"administration\", \"truly\", \"book\", \"wonderful\", \"block\", \"hope\", \"appreciate\", \"early\", \"earn\", \"rapist\", \"supporter\", \"kid\", \"sell\", \"none\", \"russian\", \"line\", \"impact_transparency\", \"rally\", \"people\", \"get\", \"country\", \"trump\", \"need\", \"fail\", \"low\", \"cost\", \"popular\", \"imwithher\", \"replacement\", \"fraud\", \"focus\", \"hit\", \"order\", \"pass\", \"free\", \"hour\", \"defend\", \"family\", \"racist\", \"provide\", \"decision\", \"bar\", \"will\", \"agenda\", \"illegal_immigrant\", \"fakenew\", \"possible\", \"service\", \"young\", \"several\", \"form\", \"clear\", \"loss\", \"take\", \"already\", \"voter\", \"bring\", \"state\", \"ppl\", \"important_fact\", \"could\", \"record\", \"illegal\", \"trump\", \"day\", \"agree\", \"hand\", \"press\", \"crazy\", \"nation\", \"funny\", \"waste\", \"replace\", \"position\", \"top\", \"insane\", \"reply\", \"easy\", \"terrible\", \"hair\", \"close\", \"late\", \"wish\", \"disgusting\", \"perhaps\", \"crap\", \"game\", \"person\", \"list\", \"action\", \"effective\", \"rock\", \"literally\", \"negative\", \"sarcastic\", \"read\", \"ever\", \"time\", \"old\", \"start\", \"huge\", \"s\", \"even\", \"bad\", \"trump\", \"call\", \"exactly\", \"long\", \"here\", \"pre\", \"charge\", \"safe\", \"blame\", \"impeach\", \"rating\", \"sleep\", \"still\", \"rise\", \"course\", \"liberal\", \"dear\", \"include\", \"mention\", \"clean\", \"candidate\", \"thought\", \"less\", \"economy\", \"explain\", \"human\", \"worker\", \"allow\", \"straight\", \"hillarys\", \"run\", \"tie\", \"right\", \"elect\", \"president\", \"presidential\", \"far\", \"sick\", \"politician\", \"potu\", \"s\", \"let\", \"expect\", \"visit\", \"taxpayer\", \"failure\", \"rest\", \"embarrassment\", \"dangerous\", \"rule\", \"crook\", \"definitely\", \"military\", \"claim\", \"welcome\", \"other\", \"yet\", \"immigration\", \"week\", \"much\", \"travel\", \"public\", \"veteran\", \"usual\", \"proof\", \"actual\", \"value\", \"apparently\", \"soon\", \"accord\", \"flag\", \"credit\", \"policy\", \"reason\", \"seriously\", \"crookedhillary\", \"change\", \"law\", \"matter\", \"trump\", \"many\", \"vote\", \"see\", \"live\", \"stand\", \"play\", \"word\", \"stupid\", \"guess\", \"idea\", \"break\", \"immigrant\", \"compare\", \"ad\", \"murder\", \"scare\", \"rape\", \"event\", \"demand\", \"sit\", \"security\", \"hell\", \"bet\", \"troll\", \"number\", \"boss\", \"confirm\", \"feed\", \"part\", \"blast\", \"hack\", \"special\", \"happen\", \"high\", \"race\", \"world\", \"trump\", \"give\", \"make\", \"can\", \"s\", \"turn\", \"trust\", \"continue\", \"lead\", \"point\", \"wake\", \"realize\", \"white_supremacist\", \"statement\", \"poll\", \"hire\", \"drop\", \"maga\", \"consider\", \"show\", \"ahead\", \"raise\", \"probably\", \"almost\", \"fan\", \"weak\", \"retweete\", \"push\", \"ball\", \"powerful\", \"refuse\", \"voice\", \"notice\", \"ship\", \"bit\", \"mental\", \"totally\", \"would\", \"trump\", \"get\", \"s\", \"job\", \"join\", \"delete\", \"delusional\", \"forget\", \"force\", \"follower\", \"ignore\", \"entire\", \"ignorant\", \"mm_page\", \"school\", \"difference\", \"false\", \"coal\", \"small\", \"letter\", \"thousands_reminding\", \"positive\", \"energy\", \"trumptrain_member\", \"typical\", \"where\", \"dream\", \"dollar\", \"commit\", \"personal\", \"how\", \"witness\", \"dirt\", \"hurt\", \"afraid\", \"month\", \"have\", \"great\", \"trump\"], \"Freq\": [2280.0, 2215.0, 2010.0, 1376.0, 1468.0, 1063.0, 1133.0, 954.0, 932.0, 969.0, 917.0, 899.0, 871.0, 1221.0, 817.0, 1165.0, 1161.0, 816.0, 998.0, 861.0, 704.0, 1133.0, 617.0, 1153.0, 747.0, 700.0, 558.0, 607.0, 609.0, 615.0, 314.4621176862438, 487.1407128583517, 124.29429981638768, 137.75104747901403, 89.05785905074866, 122.63987353882553, 107.83518613000662, 160.42814236022707, 71.37354565272975, 71.80819658820212, 150.80256964145076, 68.67568430290595, 65.78078900298519, 85.40345549506567, 67.72651615102315, 61.982314706873375, 64.17506622851842, 54.95625044522527, 54.2322225852971, 47.83475460022299, 44.8276108844286, 43.40153898255686, 42.86956790802169, 42.54630958634715, 40.96647643332368, 40.424830934570785, 40.31390804672433, 41.23848314948167, 39.52295710792925, 53.91268346362112, 638.1847602464221, 2109.3138306488727, 48.343908575805024, 382.9296554812716, 437.65682122347107, 200.50638310600428, 121.78485648448425, 458.48295134138465, 226.6249862986918, 106.88715690269086, 242.65226740530875, 323.6127910335771, 137.868131498346, 270.3553398818138, 116.68861303454806, 97.59500595956442, 297.17355161956004, 311.6940805662049, 75.07874395718206, 128.8834837537168, 154.53183335765848, 118.4679091999513, 103.88100089831477, 90.61190553596201, 136.22522038430836, 228.41661299910024, 129.40235999883436, 128.590455101618, 177.655203540488, 119.41220284508707, 214.3080846181585, 101.19755081801233, 84.42237329360883, 100.76752816219106, 68.82435892544369, 71.14699121277053, 67.53460174589908, 276.8171252006579, 60.12341982934034, 175.74156181224498, 54.048581567156326, 52.12079264597816, 49.47937440746866, 47.02994699171039, 46.6391089841533, 49.88920853376179, 88.8822116474785, 44.609226231511144, 43.499209122350926, 41.38786822181997, 1968.9030169562038, 40.56053492432804, 39.671608535335054, 37.80106484609416, 437.0249486605211, 612.0803922288964, 368.411272231256, 51.72065319998155, 63.11952319500779, 565.9563698225771, 115.6608404374392, 496.77188381008386, 212.19251953897037, 57.13284087750231, 58.41682628140425, 155.9464263637212, 60.164126704147655, 252.12009046753133, 228.20740833119055, 223.12586094405702, 174.9001130348709, 176.32536106197455, 89.49755904231424, 96.15825156006102, 82.18422457942525, 82.5723479496471, 207.21431344921797, 206.17957621524098, 299.65725298200465, 149.5692832820789, 152.4655460085621, 134.05794055875273, 188.6165014155174, 256.47116977271287, 161.91702940479377, 140.8001332102856, 95.08903573632368, 231.1426299549471, 172.09978445733987, 163.17419944365253, 72.01166517485889, 115.06789108956798, 358.2464635041364, 67.85507567746082, 90.5536683422083, 60.73726785127068, 97.5736474246776, 104.86657900493475, 57.36668067583587, 53.135970870159476, 46.1117658399376, 46.75551155924192, 318.23937120548305, 51.532386925663715, 42.385779753013416, 42.94322449110552, 396.46819919989616, 43.882502027904735, 304.8336226736374, 864.2309582775641, 1198.7820685077122, 245.19743134955385, 80.87596645862901, 228.85051902197873, 181.37686289997274, 165.42821395180678, 128.407450078301, 133.44079045677148, 110.96107253458825, 101.19582075398326, 1129.0421038128347, 450.3931571765491, 164.54145346030194, 136.59177595473588, 477.61567113110647, 116.16476953543868, 84.59383287699774, 93.32422116043156, 81.74252674962507, 88.2576000340651, 79.28859680007545, 74.96185329810464, 76.00056854002703, 73.839361714868, 389.75942379145835, 118.69570257288727, 68.27388538404543, 324.6839453258524, 71.20172747839187, 59.49725811774739, 63.279290711105716, 60.513976755077074, 57.20162826326961, 54.49569256330866, 55.24798482460075, 48.12577710637207, 47.266948336122226, 45.35150401054744, 64.99303162230957, 42.79963736804745, 181.83321609446736, 73.13617703801918, 148.1428140576442, 905.0211607961322, 244.4172392295333, 168.216365643546, 356.3829150389046, 310.8967634216706, 133.6426139822653, 184.66413658556627, 550.6462668625726, 319.9195993479237, 121.71463324764618, 82.33781847021413, 89.24927979205854, 86.50587859840526, 428.7794247092809, 142.9200530286557, 152.5376579253982, 214.33253046396922, 112.51292854992127, 161.8891892456033, 103.11996998979893, 89.43974494661188, 82.25021238523041, 82.90333714216077, 309.2232056683905, 70.51363491568364, 64.2401810656547, 69.89814689007892, 62.760647165662355, 66.65037427641984, 58.664465923236236, 54.88127558492993, 51.10292121997429, 70.66410916161792, 62.7642587711936, 50.458389400662405, 1351.9365250969388, 45.51472758909492, 45.129940650559796, 43.615559788839484, 43.9475339848809, 43.50483556663148, 43.13568028299631, 43.43621226617744, 367.5816523161408, 98.044836791741, 500.45215019022845, 109.58863503229628, 912.9783660420604, 166.72658263931012, 795.3538080697654, 244.58698354355917, 72.30225739679145, 61.37867693149944, 105.5477292448043, 107.71380922969263, 107.04040692901332, 93.05819351991929, 94.24049675726641, 84.63463796458143, 2273.0887947637625, 365.0752438764981, 307.3661497527336, 153.729170746428, 125.12464875110065, 172.3962303345992, 123.99565571555635, 120.07244799989, 100.50768635178558, 94.34870663844654, 95.71024700110144, 174.83848870438408, 79.52942364427493, 78.80439208843863, 246.140739026817, 73.13375509113891, 69.44772541408351, 61.467491870822016, 56.23348149221724, 54.54103704545789, 61.52891411736162, 50.5167152703917, 48.68933533713984, 48.58155594389973, 49.559147505599675, 80.24120791859218, 43.68300531335444, 43.62280328431103, 633.75946501149, 40.46959450182363, 412.0945878806241, 188.22722650774475, 151.10523060802993, 123.7018028825322, 212.91184287940004, 228.81758640768825, 294.3059200711044, 124.7779402098587, 172.33304586051386, 154.91501090778587, 138.7473458872395, 104.79512482075766, 75.70097040342691, 930.1182032402778, 162.81621195994458, 166.42753136512437, 102.02302841400589, 101.48067945969346, 97.41452025815042, 106.00077717583248, 401.2862699481315, 86.28769848480724, 101.97219612232914, 193.3194677792473, 81.07213994706082, 72.638963086729, 155.28158121168423, 68.76842974361108, 63.94253772713593, 63.47559424680331, 58.32775377972721, 60.9786991435975, 58.04100303296876, 52.62099137713495, 99.52843953179293, 46.724286492909116, 56.962322505555136, 52.200596449255585, 42.58393589694341, 42.30219256565103, 41.91359167752818, 41.65172160920517, 41.50304457837113, 942.1249729113409, 105.16329555432556, 667.3658967035249, 71.29358798270849, 435.60406830617194, 52.46386085348921, 139.4996709200876, 282.03500727891145, 214.8784881662041, 127.15347853545245, 114.69297181277662, 98.29688571166979, 112.5596484728495, 94.1779326051917, 81.70305308915589, 71.8136805790256, 813.3326604134455, 296.9223230122449, 160.47823101770317, 156.97652470916537, 147.38495145384962, 302.0566838576912, 121.20843449484082, 158.987708586313, 97.61717177877465, 92.16562840996097, 91.94849255482866, 84.3399351018055, 81.73378918943914, 79.45528465663628, 80.44991771401651, 77.33988723627509, 76.79173483284666, 82.35233052844276, 84.58480671851379, 100.89258552441477, 71.71039226290866, 59.45583692051909, 57.20355765711249, 53.269220345332876, 52.42828247153653, 52.789394274365236, 48.1717363434467, 47.183947378218754, 42.301377766241956, 40.269531397794445, 121.596068456908, 60.7797728988605, 690.843703568946, 291.27491568506434, 375.7759109219783, 295.75386876513437, 116.03751973864512, 208.28882951535255, 534.7584838348803, 193.7788332931664, 142.08529067800413, 98.77407336500711, 93.37588683029378, 86.85094084122407, 294.82794565655934, 260.89915739331593, 287.2423267624862, 195.03051532286764, 236.89765590868976, 136.9244376883839, 114.00050654275347, 129.00044235848506, 138.89303048740717, 106.34266856455186, 264.69043708159325, 134.2926737948016, 106.15557286656848, 148.3749920877516, 115.08905393446777, 97.93840133769717, 85.41637496195514, 325.1086313824268, 67.68308066585168, 62.32642364611264, 211.57429814914502, 60.130382593726345, 55.414001968196445, 76.31688406005162, 53.70818658090905, 81.02552803401859, 51.7260016685855, 49.38196679244771, 49.165893535804805, 45.710711149526084, 60.815941914451436, 83.87769605532579, 851.0610267522708, 270.5666332518453, 586.1451363054263, 70.89141890476894, 122.14321603039654, 501.588589128259, 198.6319188732545, 147.9723554478287, 150.32642678177226, 331.83447892926034, 206.46977612830995, 189.0311711765956, 128.37394835802485, 120.17428420152781, 111.02221500001272, 100.16920984924768, 100.69502835052802, 87.2260199490893, 83.04434665777129, 229.68481849099308, 103.19186291062083, 77.53288711315186, 72.90144132981244, 177.8658409850361, 56.52531436422641, 53.672718966488034, 106.28400708730598, 64.39564771356552, 64.16286941630706, 49.49947412925055, 67.86946432119623, 45.476365621733954, 44.75255544518287, 43.1586588095392, 42.67140484876258, 41.587285959830616, 96.16515005859642, 151.53194209789976, 40.74269275115886, 42.201123289579925, 48.81772409443877, 766.9898141010805, 63.88277474285225, 61.209589410292324, 217.38818649338327, 616.601595769569, 687.8905075232309, 75.13052104812499, 307.0063269567414, 438.98300312567267, 181.47438966496034, 193.9257931287312, 84.37870131797384, 1060.711236736127, 165.33223434025726, 267.8950053156607, 114.68589802130047, 178.6432096731708, 164.87359963491502, 119.38941922201877, 69.33637817883012, 65.60627599058338, 70.33692625311323, 62.51094022434571, 80.55791850799555, 90.2301188483456, 119.4997879478792, 104.26930352452666, 56.01522883836931, 53.02083853177792, 48.302999621348825, 48.202536781131, 57.81339082968655, 44.627818549071335, 86.68217380720577, 185.54074804529986, 92.76594757375058, 110.72240302743124, 38.6476568363886, 38.47110099961798, 36.13012133729948, 35.55959692365564, 35.437728205555615, 847.6128608268223, 57.563086844293295, 128.98437120415397, 150.51712437166015, 147.11343866513437, 400.74845360368107, 150.49550887119793, 225.3461650160543, 348.2727264039255, 191.28481623353824, 127.05833943901524, 74.46646670508898, 311.0795158541586, 238.0128634193404, 196.79691572340076, 152.891357405949, 146.89193617379473, 117.18543575473558, 113.759679060032, 118.1980597662646, 810.7222559310684, 101.1707579681793, 162.91815471191651, 100.37846613862165, 151.10270440727672, 82.87735878501466, 79.05911555550782, 182.950841328932, 77.46612157368915, 64.69737152921351, 63.56417551570391, 60.46118959905498, 60.56814351418827, 56.613248168852905, 55.00837202156826, 53.23793417578353, 51.97604435637912, 50.990858481697074, 49.88311463403589, 48.73592065060663, 603.9528421378159, 56.53066447410877, 388.0683888814424, 67.11346633862323, 252.70741386890484, 91.37943046331993, 115.1129283540168, 64.93227391003634, 81.40046957259145, 60.855027363520705, 159.54464876992571, 90.53751340203063, 115.67231819968966, 85.29908932810554, 702.4378209983488, 227.20212131270083, 206.02257063840975, 153.07130595522003, 161.96441864758523, 336.53945070856145, 136.80315921306973, 165.01314635138556, 137.5167501666625, 133.38726257149798, 140.9832341464698, 109.04157113419363, 93.74322836933189, 110.41451684302159, 85.95232933752972, 82.57713372470076, 77.47160470287687, 77.66982759620481, 92.6263715083317, 76.33054787559651, 74.52296274870503, 66.76090117425429, 65.8145807640073, 62.31997095009222, 58.386093779032194, 224.87468346631084, 54.676473449631125, 52.697444432950874, 48.09102120867541, 44.991070959314605, 353.09492130534284, 121.79260835034162, 113.24970981376745, 64.61401981596815, 102.29104618067784, 126.12886786974812, 101.13322083521912, 91.41962087087099, 178.18746089367275, 157.3389821875171, 111.01926287229514, 127.83271361089425, 88.30116364117947, 259.1454390119616, 159.88676573065078, 116.38447988579595, 105.34615279325372, 215.68490960264128, 97.52307123686545, 99.59187551449826, 96.03700588018553, 89.08627695016757, 121.27401917153497, 82.41357755903621, 167.11221307452553, 66.74625950622769, 66.60745466401971, 286.2789922000701, 361.8936373045185, 59.91597632747431, 57.82656578326547, 57.55372240130597, 449.0784028993088, 52.26545018744516, 49.03707465693667, 47.08339161250897, 46.19658740441631, 45.76244356855493, 43.35577094782239, 41.877243887319864, 37.919962827193714, 72.8648177911449, 34.99284957812611, 881.8873687241773, 318.8357674168351, 231.02774694467524, 320.1281367303445, 141.2556186324246, 53.1078977249295, 111.76457304953077, 263.9073902493617, 85.14657252492592, 99.73190652260344, 102.51708749076417, 65.8798945771375, 269.42440495272973, 177.53343282375667, 253.4662189172914, 213.77539741547082, 129.1995294771471, 125.05947744575349, 107.73523062408205, 109.86902198349792, 115.54344653083437, 95.79426124294432, 106.24645752332549, 88.35868826307748, 91.09634765117245, 78.9603098978039, 76.3633346925594, 75.65090654485267, 67.97042485209575, 66.17010465704912, 70.24613575323313, 61.132704034528345, 58.518429071913516, 57.14295399911146, 234.77371511583834, 57.80038737776596, 60.72310447137812, 51.92506318567331, 51.64092117898221, 66.67919084131209, 48.911232458852126, 45.93880755350172, 321.80479491248485, 524.1026955163674, 844.5791719860586, 213.4826599616157, 338.4207409157045, 68.53901178872601, 196.25492259350955, 103.21465966135305, 77.01725605480657, 85.0882342133822, 73.05104883557574, 212.53290289404816, 226.4185058168375, 135.45581643317274, 141.49076266617712, 97.00810194380101, 107.36084969624339, 91.55053243212765, 96.3992041026069, 83.76721161896229, 82.59953028928635, 603.1493660388204, 81.27104896960844, 87.1108461174635, 177.86784492671322, 84.08035585891352, 77.90296798708825, 77.42890631630098, 73.75565767527925, 215.20294374468548, 70.05452858025046, 80.88783483042059, 70.77609446001328, 98.58173395813981, 68.06960467211552, 67.4689605727395, 154.34029315557723, 60.908494793093894, 62.400796681025916, 359.4822967370386, 56.502269720871574, 578.6098688792455, 211.99898867658797, 587.0025479016745, 166.87382324394164, 114.23235047846043, 168.35994774400186, 88.97248063799687, 103.86450453239064, 135.4820386226028, 89.1999400454142, 192.9294137742784, 130.2282276763972, 123.18345832597369, 112.7925617617609, 106.45005311912385, 106.08442605322598, 107.58346493074944, 120.10491052377142, 93.05949250563467, 84.95381324227031, 83.92984656314772, 91.82913335939496, 84.10631950384416, 102.90342931792586, 194.10582057805433, 230.9522812789708, 115.92097238488736, 600.045519269548, 69.18785495945356, 167.45996531912925, 61.75004224402157, 60.78397988894024, 62.16606853669581, 73.71129215610317, 50.84670387370717, 51.88287493213283, 126.62623028646047, 44.114590365114005, 44.710945302088696, 42.3299039096499, 252.65694921438043, 161.95460740976895, 131.34144862158752, 90.96660191844661, 232.19690790394498, 245.5732010386997, 70.67894861183342, 365.6361985513559, 158.39067191200883, 145.41272201546857, 103.31107025757781, 301.7396030898455, 288.52040686049, 238.79121703838027, 336.33401279722, 345.47930803455523, 153.71099511814435, 135.87094750873587, 172.10930650966424, 103.88441437823995, 84.24315259497497, 115.06272653149028, 85.27243648563046, 79.28760750502431, 78.57992859757864, 72.72879347584303, 65.4022003088265, 80.09547957095178, 67.79768096579663, 121.26908917337606, 62.68523650519816, 58.26274808509079, 78.72276454912573, 53.34642566214938, 52.94499598110459, 52.44323389980473, 150.5041352430824, 48.06724788066561, 53.39367213634356, 44.67108446353164, 246.18565140811938, 201.23036578272377, 67.6846209972032, 173.24950517534364, 184.86907450810065, 102.5842791307332, 119.83645667598785, 64.76623526592256, 64.05856941239313, 262.5334450683072, 188.65126076134237, 192.16023913198256, 184.63905643735538, 191.93499859609022, 157.91228811859094, 121.30673073250342, 122.08616950311836, 136.63941755317853, 256.2602531130017, 105.94431074942702, 94.67609188538164, 178.27922363493394, 90.94089443937976, 611.155391826138, 93.14710792285952, 89.92216266442712, 142.18557072437238, 82.39051280580381, 78.506537256381, 68.97013273273842, 64.90775419850023, 70.08318929588613, 63.55252916872163, 62.94039658492309, 76.22956414012428, 60.81812494420314, 58.544532601604956, 57.955139029246304, 54.687551106150714, 78.87792506826841, 76.57710606805729, 121.457040811651, 108.48084547034192, 70.1255311799747, 64.76653972392862, 953.2866133847284, 557.1101867031352, 378.85574431179043, 198.2985075653559, 176.34573521863422, 109.45356079189516, 102.7546873259665, 95.82016230831044, 88.91535772067527, 92.45909185656296, 348.0962065150164, 76.31404938368554, 73.6990035232543, 74.57232072368295, 74.31966407024855, 83.83334751075327, 58.63191144107516, 60.38028741660057, 56.303473773924516, 68.60592056491593, 56.99703846976348, 53.580974589705704, 57.27167929521924, 50.76117821186929, 47.15280415724632, 45.4218659272402, 43.02679744652312, 37.53939265153459, 31.50464210337092, 31.25817445633614, 52.4503003174752, 66.47683636693573, 95.48646193600342, 197.49720722730947, 146.12497829414107, 89.03537604738433], \"Total\": [2280.0, 2215.0, 2010.0, 1376.0, 1468.0, 1063.0, 1133.0, 954.0, 932.0, 969.0, 917.0, 899.0, 871.0, 1221.0, 817.0, 1165.0, 1161.0, 816.0, 998.0, 861.0, 704.0, 1133.0, 617.0, 1153.0, 747.0, 700.0, 558.0, 607.0, 609.0, 615.0, 315.604704044245, 489.52239430918615, 125.26488344315929, 138.9311907133321, 89.93007163037232, 123.89644086484954, 109.02675508261423, 162.31383875576526, 72.25758208592879, 72.70766094422575, 152.71145265494778, 69.58450075566986, 66.65300157951187, 86.55731619563592, 68.6791820868334, 62.86364853294446, 65.15286973350133, 55.83212975013471, 55.11216735896846, 48.71474651455606, 45.699823460955315, 44.27655896371231, 43.74554366009138, 43.41860561601485, 41.83868900985039, 41.2970435110975, 41.188889178481055, 42.13968599824371, 40.395169684455965, 55.11300307593957, 659.2358543805069, 2215.466660581074, 49.42847811376081, 402.3820502159693, 461.7716554689383, 209.1337612777964, 132.45933146246992, 567.1456476876397, 278.27129402619175, 122.46762671103228, 326.97407963530287, 459.17884340106923, 177.0790404296342, 435.51007081469, 153.02016561815466, 131.3477011787851, 1607.5086266651508, 1920.967313589825, 89.59755844362162, 739.8526778044329, 1621.8478748986183, 645.8623869615465, 1200.2187856058758, 1221.739395666082, 137.09663912963134, 229.8833781257872, 130.30188689930958, 129.4861443534812, 178.90979553518733, 120.32601326439618, 216.09515692068234, 102.22552395044941, 85.2937920389317, 101.99170023647541, 69.70378864705653, 72.06690565401509, 68.40790719739283, 280.75406000676605, 60.994838574663255, 178.5784845796497, 54.923577934022696, 52.998340324769636, 50.3555162696545, 47.903870024998774, 47.51427531998796, 50.83898530438762, 90.60003142210078, 45.48064497683406, 44.38636520521761, 42.259286967142884, 2010.753040923978, 41.43718075770845, 40.54711132641391, 38.67248360032564, 447.88766577460353, 631.9030135617306, 380.90950924065567, 53.095807833319384, 65.66458778440347, 705.8181705377629, 126.86211637721846, 721.5918542765177, 276.14944891006235, 60.089034985844734, 62.844707808960045, 247.6329920118166, 67.29653971963333, 1621.8478748986183, 1468.3855512984494, 1454.0320229710123, 1200.2187856058758, 2374.181855736015, 226.10884396531276, 1153.949870311892, 429.38360573986745, 1221.739395666082, 208.14713471549703, 207.12057239798355, 301.22700123906316, 150.44508844759986, 153.39126159041908, 134.94334748503667, 189.89398310158688, 258.5486800448242, 163.2556520419324, 142.0530889450144, 96.04944079409339, 233.52474488728095, 173.94258238485165, 164.99740335559025, 72.91177789371682, 116.53905242673011, 362.8775352128223, 68.73745857226771, 91.80806745291876, 61.61307324790366, 99.00472232990921, 106.45186963817453, 58.241001463823196, 54.0132604568865, 46.98926873181347, 47.66435421722188, 324.5620633595842, 52.57315075069768, 43.26010054100074, 43.8404336739699, 404.837710173385, 44.80721558229908, 332.3343942862663, 998.171749676602, 1468.3855512984494, 299.697958770325, 91.59693482171382, 1920.967313589825, 1607.5086266651508, 1454.0320229710123, 1621.8478748986183, 2374.181855736015, 1221.739395666082, 567.1456476876397, 1133.8535322104185, 452.65234366640186, 165.4871905224511, 137.46781039929724, 480.8002661684775, 117.03416071884851, 85.4632240650298, 94.32319607833263, 82.61796034495005, 89.2179821693089, 80.1639676772444, 75.83301954842463, 76.89299492703354, 74.71640294927613, 394.68664191891605, 120.2477155926626, 69.17671287919498, 329.12941956803354, 72.19687888723948, 60.3666493087043, 64.20782348797837, 61.426845489144874, 58.10311330907487, 55.36682531046913, 56.135965571190525, 48.99516828978192, 48.13750881680334, 46.23443996218615, 66.3396872048073, 43.68747562450345, 190.54829646817896, 75.69776670015324, 162.4218561993085, 1161.983324605707, 292.1320738832329, 193.77234875467622, 477.15891744879724, 411.748876362137, 172.23493263271385, 322.77736112441613, 2374.181855736015, 1681.219969575098, 1920.967313589825, 326.97407963530287, 1454.0320229710123, 1200.2187856058758, 431.31682630570873, 143.84748684830487, 153.67011250794755, 216.23706843105765, 113.54695200959301, 163.43467141516433, 104.11599516585565, 90.33474207685039, 83.13421485414659, 83.80423975695909, 312.63170655178254, 71.39900738093431, 65.1167231797133, 70.88895792871003, 63.67216189720148, 67.63322225711282, 59.56927357842544, 55.75244080510874, 51.9740864401531, 71.87358043629199, 63.84606347965456, 51.333625136749376, 1376.5716754270954, 46.387337458994, 46.001105870738606, 44.48672500901829, 44.829973366997486, 44.38202782286733, 44.00684550317512, 44.331474708078595, 376.6775944218079, 100.36672750046766, 526.6146719545278, 114.61606295938508, 1221.739395666082, 193.10251270930686, 1133.6887129144545, 301.3599852381658, 80.8654336948765, 78.99816914025386, 645.8623869615465, 721.5918542765177, 830.5600833365654, 821.4583001498555, 1607.5086266651508, 1454.0320229710123, 2280.3441151331012, 366.8965294439806, 309.0523893017293, 154.6002639817105, 125.9957419863831, 173.74386512772222, 124.98244339074365, 121.04059666571625, 101.37877958706802, 95.22167144360745, 96.60160966705868, 176.62215023080097, 80.40051688885367, 79.694587654883, 249.03404497418308, 74.04564324440146, 70.31881864936595, 62.414765164042365, 57.104574727499696, 55.41213029496492, 62.54243613019682, 51.38780850567416, 49.560428572422296, 49.46284640154147, 50.47168640611418, 81.8292644325349, 44.5540985486369, 44.495450448323126, 647.2467349450208, 41.34068774211882, 422.6896223081906, 192.96885880909352, 156.44538920694262, 129.50727143367078, 227.86647583309812, 257.12025487580536, 368.94471874782914, 144.23257230987198, 830.5600833365654, 1681.219969575098, 1153.949870311892, 1920.967313589825, 2374.181855736015, 932.4858432432051, 163.68828962163312, 167.6089717813936, 102.89510607569434, 102.3554516682025, 98.3304942590628, 107.02713908606518, 405.3367631964769, 87.16862670125934, 103.04920032776982, 195.38978093605792, 81.96838957061968, 73.53407555199051, 157.25059345514347, 69.68187613908235, 64.81461538882438, 64.35093878256471, 59.19983144141569, 61.918606717858566, 58.97855633413562, 53.49306903882343, 101.36107951989064, 47.597978557284804, 58.03254258990796, 53.21903501316992, 43.45601355863189, 43.17427022733951, 42.78773863164516, 42.52379927089365, 42.37839486361315, 969.2706340503313, 107.53614795004904, 700.3381286721893, 73.53641162126512, 517.6432668736761, 54.59647383775678, 182.96180144167582, 570.5454641849743, 1165.8154816408626, 981.7204741413389, 1607.5086266651508, 998.171749676602, 2374.181855736015, 1161.983324605707, 1681.219969575098, 830.5600833365654, 816.4275173914853, 298.3390331984983, 161.34958541175058, 157.86111238677262, 148.27360835785794, 304.1795806310268, 122.1556932346324, 160.28478514837545, 98.4917948340143, 93.06321725300803, 92.84911857420134, 85.21004742572012, 82.60390151335376, 80.34416891219983, 81.35766496934005, 78.21389285403447, 77.66184715676128, 83.33965424800209, 85.66380381183741, 102.19776317473979, 72.64092425777211, 60.33882367368088, 58.07435011943248, 54.13933266924752, 53.29839479545117, 53.66626707376055, 49.04184866736135, 48.0550466030554, 43.1714900901566, 41.13964372170909, 124.32831992705206, 62.32044513514187, 747.071560966776, 308.3986564241525, 406.9982971275894, 323.44321039114595, 126.28470964134425, 280.6807862449727, 1621.8478748986183, 445.1920338365202, 1200.2187856058758, 1454.0320229710123, 1607.5086266651508, 2374.181855736015, 295.7425945944688, 261.79072359187074, 288.5646576618436, 195.94547590627636, 238.08356165859863, 137.9317947688674, 114.88042880767681, 130.10129689890778, 140.08510391493064, 107.30179452981574, 267.1560895093484, 135.58129528823414, 107.20630825720242, 149.84918884285665, 116.23820557066871, 99.00516539599654, 86.38862891969445, 329.28525800496004, 68.56243082396912, 63.19742941345369, 214.73080160580596, 61.032402244753165, 56.2850077355375, 77.52435651326786, 54.5791923482501, 82.37064858725033, 52.59700743592656, 50.25297256662999, 50.07195971362591, 46.58432880113886, 62.061293375530326, 87.08267770420106, 1165.8154816408626, 358.74467930014515, 981.7204741413389, 77.87003394480367, 173.03430998723124, 1681.219969575098, 1920.967313589825, 1133.6887129144545, 1454.0320229710123, 333.22974754942135, 207.5619364232108, 190.28309200791526, 129.26302214925528, 121.05942477060304, 111.8975557254225, 101.056209331204, 101.61097967778036, 88.10626098620428, 83.91313312381003, 232.34654168559808, 104.39076130538409, 78.44372341647183, 73.77022779585118, 180.03829168573236, 57.394100835442565, 54.54543444809676, 108.0377839810352, 65.48719184722621, 65.2594893761933, 50.36899113080953, 69.08651009127819, 46.349495796156724, 45.635323460331655, 44.030023402308, 43.54019131480133, 42.45607242586937, 98.1878547927623, 154.77753758463083, 41.62083858514973, 43.122593756462216, 50.017541438848525, 861.9304466005254, 66.17602612632697, 63.74186044541791, 245.77611066059782, 821.4583001498555, 1153.949870311892, 83.45356253075337, 830.5600833365654, 1607.5086266651508, 500.7503205485423, 1454.0320229710123, 539.1137983882251, 1063.5559675855973, 166.20992577364512, 269.4286070194642, 115.59566871404522, 180.12587574500805, 166.51021814877052, 120.66193317676971, 70.21237304851843, 66.48404822369712, 71.29065870785598, 63.389906359415015, 81.77438296855576, 91.61422371899396, 121.33555912315276, 105.89381935863216, 56.97469036261655, 53.94600780304765, 49.18054228532121, 49.0785316881946, 58.91475945771213, 45.5071094988972, 88.4326730373698, 189.3157287834743, 94.71473144072391, 113.21870932136945, 39.523651706076926, 39.349328502858945, 37.01065438767572, 36.44023440436151, 36.315364997383014, 871.3885664985934, 59.1176549612283, 133.78162392117792, 158.125280698302, 156.5905451547427, 479.02352685088226, 170.20026826387425, 272.9025427282324, 447.4414154196466, 1200.2187856058758, 830.5600833365654, 435.51007081469, 311.9866286793087, 238.8819186677398, 197.7110555708501, 153.7604126543484, 147.9144457679027, 118.05835148392447, 114.63236757442758, 119.11780555925168, 817.237201052525, 102.05836485127176, 164.4292085121587, 101.31825896617569, 152.5639480110687, 83.75273498187721, 79.94063512489, 185.21061673840228, 78.4233715844744, 65.57066821305841, 64.43323076410326, 61.33024484745435, 61.4953578173195, 57.482303417252275, 55.87862458919451, 54.12235506382071, 52.86058601627701, 51.88303064972251, 50.75883667067077, 49.60497590401873, 615.0927495744056, 57.577522451985715, 399.7415703676052, 68.64920640952793, 266.24104020030273, 95.85362231361137, 164.85312854096114, 72.6074109191063, 107.6067462306684, 68.0000915614417, 1681.219969575098, 459.17884340106923, 1920.967313589825, 2374.181855736015, 704.6478949420348, 228.07623880763398, 206.90252932614513, 153.94831289804756, 162.93858017698912, 338.7009926325425, 137.69516949043813, 166.1107095219917, 138.48058908917835, 134.32794690888204, 141.98719732944542, 109.98297865114053, 94.61505223469493, 111.44644576428053, 86.82415206711188, 83.45791510245728, 78.34342743245904, 78.5674025578755, 93.69816359253275, 77.23714113899767, 75.44474224248121, 67.6645941861063, 66.71643786024285, 63.19336802290589, 59.26572867238902, 228.39790215582002, 55.55728535243759, 53.57828257811368, 48.968743306748785, 45.865687842624006, 360.2173884223418, 124.19812462672117, 117.72333450304437, 66.53406572531449, 114.88629994870858, 150.16224703314865, 125.1958468475699, 132.52840641827314, 1621.8478748986183, 1607.5086266651508, 739.8526778044329, 2374.181855736015, 1200.2187856058758, 260.31618031611987, 160.95744359055635, 117.25453491274064, 106.2162078354527, 217.59969068914907, 98.39493001071546, 100.50562409769371, 96.9541790764531, 89.95633197711226, 122.46564578301401, 83.38711725595431, 169.27029817799556, 67.61631453317237, 67.4775096909644, 290.0845230787816, 366.80830972318347, 60.82213686928951, 58.70605939722504, 58.45630995638574, 456.49253037014955, 53.16613597018367, 49.915788983061255, 47.95344664463106, 47.07200164655966, 46.63363912435923, 44.274364026156036, 42.82647363318634, 38.796956971997, 74.67842738919141, 35.86785336504871, 917.3477643326108, 329.17583747845856, 241.78906160464194, 388.41271955179167, 163.97369028431262, 55.20139581441803, 151.75425573200963, 539.1137983882251, 109.08921097877663, 411.748876362137, 2374.181855736015, 645.8623869615465, 270.322391327657, 178.41360954458875, 254.7849272780387, 214.9018792426944, 130.08904617787553, 125.93224340790326, 108.62079881591703, 110.77249829711519, 116.55690183002919, 96.67450860698037, 107.26997768172866, 89.25015833978331, 92.0758791162602, 79.83307585995367, 77.23610065470918, 76.55133250490313, 68.84487023541482, 67.080466171582, 71.24870382901656, 62.00944692601902, 59.396692630215746, 58.01571996126125, 238.44752548690064, 58.74138682607644, 61.72442169229654, 52.80274029817214, 52.52999974410493, 67.86515397453891, 49.78399842100191, 46.81328209415768, 330.9838920673613, 545.4228671525251, 899.4201387082129, 222.15496003799666, 359.9694619070327, 75.2829680753907, 1920.967313589825, 705.8181705377629, 570.5454641849743, 2374.181855736015, 861.9304466005254, 213.4409714409284, 227.47146624464665, 136.33370018635833, 142.7558632692459, 97.91302005958184, 108.37541563072604, 92.43130486803213, 97.39817803170993, 84.6459074649406, 83.47021083464533, 609.5921847042109, 82.14172951496742, 88.04822858561758, 179.809756164236, 85.01683642481989, 78.78701715501435, 78.32691826654367, 74.63584697625966, 217.8697054838792, 70.93073322810594, 81.90713259893215, 71.6784470408472, 99.84022344646806, 68.95077135110573, 68.36717318414307, 156.45903361401318, 61.783431436031535, 63.302779432126066, 364.8384210029416, 57.397379608726965, 592.8226017897639, 216.45745782809692, 622.8319475832374, 179.99882648589787, 134.19036252296794, 248.85353983977149, 103.78089922690407, 162.59539873222894, 1920.967313589825, 578.6099863177126, 194.1013408331591, 131.10922968814367, 124.05232547095896, 113.69044936378573, 107.32168801109343, 106.96375426860791, 108.47703863738087, 121.14952526548674, 93.92835965061994, 85.82268038725559, 84.80186651935458, 92.78597697689993, 85.03752910967384, 104.10633876041881, 196.39531352478272, 233.7114062291696, 117.30992832957389, 607.4378886447852, 70.05824595990781, 169.5692137741361, 62.622739405787854, 61.65284703392552, 63.087086055615636, 74.96783593449844, 51.71612125203978, 52.786418159361986, 129.08910097327217, 44.98704129452653, 45.59560362240152, 43.19877105929443, 258.17584275904414, 165.67573605705093, 134.51576041532897, 93.53537344687585, 246.5571649330589, 303.7797804388023, 78.55592021840451, 2374.181855736015, 429.38360573986745, 1153.949870311892, 1133.6887129144545, 302.8281931119148, 289.81260535162016, 239.8723696288776, 337.90813959809736, 347.5447337676406, 154.81848820929096, 136.87239479994182, 173.47658187078957, 104.75967218897951, 85.11305008310266, 116.25277805064567, 86.19819931753135, 80.15940841980344, 79.47186105229486, 73.60118388760145, 66.27731300460344, 81.19309412138266, 68.73519093472237, 122.95872400722813, 63.571278868928246, 59.130869934353285, 79.9425851093943, 54.21454751141187, 53.83123348140296, 53.343813626066165, 153.24199151082743, 48.94281663821971, 54.42591219027735, 45.539206312794136, 251.0629362346256, 206.41929177085245, 69.04060085137327, 362.7414719663599, 2374.181855736015, 821.4583001498555, 1681.219969575098, 981.7204741413389, 1920.967313589825, 263.5389518753129, 189.52177932665728, 193.06386467575834, 185.57832545449423, 193.11649367697186, 158.88736224337214, 122.17397049895905, 122.98614722419043, 137.78277001879104, 258.59040724887814, 106.93506448629671, 95.56736320077532, 179.9697600351749, 91.80813420583539, 617.259969052813, 94.08748707292652, 90.8425921509942, 143.72937503907983, 83.3009459964555, 79.37884532662538, 69.83737249919405, 65.78557845355483, 71.03454922134517, 64.42835606761143, 63.82472982646429, 77.30926220102509, 61.69032062976122, 59.41177236806059, 58.82237880071467, 55.55994339189273, 80.3090020620199, 78.11184544375969, 1454.0320229710123, 2374.181855736015, 1607.5086266651508, 1920.967313589825, 954.6531820440171, 558.3812967526934, 379.83758463435356, 199.29897073624724, 177.28978235915204, 110.33678786656445, 103.63908047633703, 96.6866908094058, 89.78188622177063, 93.38852190595246, 351.6087624106298, 77.20581645665001, 74.59327215098381, 75.58057477680407, 75.34256752832148, 85.03105062993389, 59.50388560829239, 61.301146315420574, 57.1716514955679, 69.70912371318671, 57.92344212774644, 54.45985956736092, 58.22980289989259, 51.63195340974762, 48.032164241158156, 46.29195383072507, 43.9624317706224, 38.4105036704487, 32.37424544292818, 32.1346118319, 53.985815398645535, 68.67367735066757, 109.7616375815945, 367.6746182604391, 1161.983324605707, 2374.181855736015], \"Category\": [\"Default\", \"Default\", \"Default\", \"Default\", \"Default\", \"Default\", \"Default\", \"Default\", \"Default\", \"Default\", \"Default\", \"Default\", \"Default\", \"Default\", \"Default\", \"Default\", \"Default\", \"Default\", \"Default\", \"Default\", \"Default\", \"Default\", \"Default\", \"Default\", \"Default\", \"Default\", \"Default\", \"Default\", \"Default\", \"Default\", \"Topic1\", \"Topic1\", \"Topic1\", \"Topic1\", \"Topic1\", \"Topic1\", \"Topic1\", \"Topic1\", \"Topic1\", \"Topic1\", \"Topic1\", \"Topic1\", \"Topic1\", \"Topic1\", \"Topic1\", \"Topic1\", \"Topic1\", \"Topic1\", \"Topic1\", \"Topic1\", \"Topic1\", \"Topic1\", \"Topic1\", \"Topic1\", \"Topic1\", \"Topic1\", \"Topic1\", \"Topic1\", \"Topic1\", \"Topic1\", \"Topic1\", \"Topic1\", \"Topic1\", \"Topic1\", \"Topic1\", \"Topic1\", \"Topic1\", \"Topic1\", \"Topic1\", \"Topic1\", \"Topic1\", \"Topic1\", \"Topic1\", \"Topic1\", \"Topic1\", \"Topic1\", \"Topic1\", \"Topic1\", \"Topic1\", \"Topic1\", \"Topic1\", \"Topic1\", \"Topic1\", \"Topic1\", \"Topic2\", \"Topic2\", \"Topic2\", \"Topic2\", \"Topic2\", \"Topic2\", \"Topic2\", \"Topic2\", \"Topic2\", \"Topic2\", \"Topic2\", \"Topic2\", \"Topic2\", \"Topic2\", \"Topic2\", \"Topic2\", \"Topic2\", \"Topic2\", \"Topic2\", \"Topic2\", \"Topic2\", \"Topic2\", \"Topic2\", \"Topic2\", \"Topic2\", \"Topic2\", \"Topic2\", \"Topic2\", \"Topic2\", \"Topic2\", \"Topic2\", \"Topic2\", \"Topic2\", \"Topic2\", \"Topic2\", \"Topic2\", \"Topic2\", \"Topic2\", \"Topic2\", \"Topic2\", \"Topic2\", \"Topic2\", \"Topic2\", \"Topic2\", \"Topic2\", \"Topic2\", \"Topic2\", \"Topic2\", \"Topic2\", \"Topic2\", \"Topic2\", \"Topic2\", \"Topic3\", \"Topic3\", \"Topic3\", \"Topic3\", \"Topic3\", \"Topic3\", \"Topic3\", \"Topic3\", \"Topic3\", \"Topic3\", \"Topic3\", \"Topic3\", \"Topic3\", \"Topic3\", \"Topic3\", \"Topic3\", \"Topic3\", \"Topic3\", \"Topic3\", \"Topic3\", \"Topic3\", \"Topic3\", \"Topic3\", \"Topic3\", \"Topic3\", \"Topic3\", \"Topic3\", \"Topic3\", \"Topic3\", \"Topic3\", \"Topic3\", \"Topic3\", \"Topic3\", \"Topic3\", \"Topic3\", \"Topic3\", \"Topic3\", \"Topic3\", \"Topic3\", \"Topic3\", \"Topic3\", \"Topic3\", \"Topic3\", \"Topic3\", \"Topic4\", \"Topic4\", \"Topic4\", \"Topic4\", \"Topic4\", \"Topic4\", \"Topic4\", \"Topic4\", \"Topic4\", \"Topic4\", \"Topic4\", \"Topic4\", \"Topic4\", \"Topic4\", \"Topic4\", \"Topic4\", \"Topic4\", \"Topic4\", \"Topic4\", \"Topic4\", \"Topic4\", \"Topic4\", \"Topic4\", \"Topic4\", \"Topic4\", \"Topic4\", \"Topic4\", \"Topic4\", \"Topic4\", \"Topic4\", \"Topic4\", \"Topic4\", \"Topic4\", \"Topic4\", \"Topic4\", \"Topic4\", \"Topic4\", \"Topic4\", \"Topic4\", \"Topic4\", \"Topic4\", \"Topic4\", \"Topic4\", \"Topic4\", \"Topic4\", \"Topic4\", \"Topic5\", \"Topic5\", \"Topic5\", \"Topic5\", \"Topic5\", \"Topic5\", \"Topic5\", \"Topic5\", \"Topic5\", \"Topic5\", \"Topic5\", \"Topic5\", \"Topic5\", \"Topic5\", \"Topic5\", \"Topic5\", \"Topic5\", \"Topic5\", \"Topic5\", \"Topic5\", \"Topic5\", \"Topic5\", \"Topic5\", \"Topic5\", \"Topic5\", \"Topic5\", \"Topic5\", \"Topic5\", \"Topic5\", \"Topic5\", \"Topic5\", \"Topic5\", \"Topic5\", \"Topic5\", \"Topic5\", \"Topic5\", \"Topic5\", \"Topic5\", \"Topic5\", \"Topic5\", \"Topic5\", \"Topic5\", \"Topic5\", \"Topic5\", \"Topic5\", \"Topic5\", \"Topic6\", \"Topic6\", \"Topic6\", \"Topic6\", \"Topic6\", \"Topic6\", \"Topic6\", \"Topic6\", \"Topic6\", \"Topic6\", \"Topic6\", \"Topic6\", \"Topic6\", \"Topic6\", \"Topic6\", \"Topic6\", \"Topic6\", \"Topic6\", \"Topic6\", \"Topic6\", \"Topic6\", \"Topic6\", \"Topic6\", \"Topic6\", \"Topic6\", \"Topic6\", \"Topic6\", \"Topic6\", \"Topic6\", \"Topic6\", \"Topic6\", \"Topic6\", \"Topic6\", \"Topic6\", \"Topic6\", \"Topic6\", \"Topic6\", \"Topic6\", \"Topic6\", \"Topic6\", \"Topic6\", \"Topic6\", \"Topic6\", \"Topic7\", \"Topic7\", \"Topic7\", \"Topic7\", \"Topic7\", \"Topic7\", \"Topic7\", \"Topic7\", \"Topic7\", \"Topic7\", \"Topic7\", \"Topic7\", \"Topic7\", \"Topic7\", \"Topic7\", \"Topic7\", \"Topic7\", \"Topic7\", \"Topic7\", \"Topic7\", \"Topic7\", \"Topic7\", \"Topic7\", \"Topic7\", \"Topic7\", \"Topic7\", \"Topic7\", \"Topic7\", \"Topic7\", \"Topic7\", \"Topic7\", \"Topic7\", \"Topic7\", \"Topic7\", \"Topic7\", \"Topic7\", \"Topic7\", \"Topic7\", \"Topic7\", \"Topic7\", \"Topic7\", \"Topic7\", \"Topic7\", \"Topic7\", \"Topic7\", \"Topic7\", \"Topic8\", \"Topic8\", \"Topic8\", \"Topic8\", \"Topic8\", \"Topic8\", \"Topic8\", \"Topic8\", \"Topic8\", \"Topic8\", \"Topic8\", \"Topic8\", \"Topic8\", \"Topic8\", \"Topic8\", \"Topic8\", \"Topic8\", \"Topic8\", \"Topic8\", \"Topic8\", \"Topic8\", \"Topic8\", \"Topic8\", \"Topic8\", \"Topic8\", \"Topic8\", \"Topic8\", \"Topic8\", \"Topic8\", \"Topic8\", \"Topic8\", \"Topic8\", \"Topic8\", \"Topic8\", \"Topic8\", \"Topic8\", \"Topic8\", \"Topic8\", \"Topic8\", \"Topic8\", \"Topic8\", \"Topic8\", \"Topic8\", \"Topic8\", \"Topic9\", \"Topic9\", \"Topic9\", \"Topic9\", \"Topic9\", \"Topic9\", \"Topic9\", \"Topic9\", \"Topic9\", \"Topic9\", \"Topic9\", \"Topic9\", \"Topic9\", \"Topic9\", \"Topic9\", \"Topic9\", \"Topic9\", \"Topic9\", \"Topic9\", \"Topic9\", \"Topic9\", \"Topic9\", \"Topic9\", \"Topic9\", \"Topic9\", \"Topic9\", \"Topic9\", \"Topic9\", \"Topic9\", \"Topic9\", \"Topic9\", \"Topic9\", \"Topic9\", \"Topic9\", \"Topic9\", \"Topic9\", \"Topic9\", \"Topic9\", \"Topic9\", \"Topic9\", \"Topic9\", \"Topic10\", \"Topic10\", \"Topic10\", \"Topic10\", \"Topic10\", \"Topic10\", \"Topic10\", \"Topic10\", \"Topic10\", \"Topic10\", \"Topic10\", \"Topic10\", \"Topic10\", \"Topic10\", \"Topic10\", \"Topic10\", \"Topic10\", \"Topic10\", \"Topic10\", \"Topic10\", \"Topic10\", \"Topic10\", \"Topic10\", \"Topic10\", \"Topic10\", \"Topic10\", \"Topic10\", \"Topic10\", \"Topic10\", \"Topic10\", \"Topic10\", \"Topic10\", \"Topic10\", \"Topic10\", \"Topic10\", \"Topic10\", \"Topic10\", \"Topic10\", \"Topic10\", \"Topic10\", \"Topic10\", \"Topic10\", \"Topic10\", \"Topic10\", \"Topic11\", \"Topic11\", \"Topic11\", \"Topic11\", \"Topic11\", \"Topic11\", \"Topic11\", \"Topic11\", \"Topic11\", \"Topic11\", \"Topic11\", \"Topic11\", \"Topic11\", \"Topic11\", \"Topic11\", \"Topic11\", \"Topic11\", \"Topic11\", \"Topic11\", \"Topic11\", \"Topic11\", \"Topic11\", \"Topic11\", \"Topic11\", \"Topic11\", \"Topic11\", \"Topic11\", \"Topic11\", \"Topic11\", \"Topic11\", \"Topic11\", \"Topic11\", \"Topic11\", \"Topic11\", \"Topic11\", \"Topic11\", \"Topic11\", \"Topic11\", \"Topic11\", \"Topic11\", \"Topic11\", \"Topic11\", \"Topic12\", \"Topic12\", \"Topic12\", \"Topic12\", \"Topic12\", \"Topic12\", \"Topic12\", \"Topic12\", \"Topic12\", \"Topic12\", \"Topic12\", \"Topic12\", \"Topic12\", \"Topic12\", \"Topic12\", \"Topic12\", \"Topic12\", \"Topic12\", \"Topic12\", \"Topic12\", \"Topic12\", \"Topic12\", \"Topic12\", \"Topic12\", \"Topic12\", \"Topic12\", \"Topic12\", \"Topic12\", \"Topic12\", \"Topic12\", \"Topic12\", \"Topic12\", \"Topic12\", \"Topic12\", \"Topic12\", \"Topic12\", \"Topic12\", \"Topic12\", \"Topic12\", \"Topic12\", \"Topic12\", \"Topic12\", \"Topic13\", \"Topic13\", \"Topic13\", \"Topic13\", \"Topic13\", \"Topic13\", \"Topic13\", \"Topic13\", \"Topic13\", \"Topic13\", \"Topic13\", \"Topic13\", \"Topic13\", \"Topic13\", \"Topic13\", \"Topic13\", \"Topic13\", \"Topic13\", \"Topic13\", \"Topic13\", \"Topic13\", \"Topic13\", \"Topic13\", \"Topic13\", \"Topic13\", \"Topic13\", \"Topic13\", \"Topic13\", \"Topic13\", \"Topic13\", \"Topic13\", \"Topic13\", \"Topic13\", \"Topic13\", \"Topic13\", \"Topic13\", \"Topic13\", \"Topic13\", \"Topic13\", \"Topic13\", \"Topic13\", \"Topic13\", \"Topic13\", \"Topic14\", \"Topic14\", \"Topic14\", \"Topic14\", \"Topic14\", \"Topic14\", \"Topic14\", \"Topic14\", \"Topic14\", \"Topic14\", \"Topic14\", \"Topic14\", \"Topic14\", \"Topic14\", \"Topic14\", \"Topic14\", \"Topic14\", \"Topic14\", \"Topic14\", \"Topic14\", \"Topic14\", \"Topic14\", \"Topic14\", \"Topic14\", \"Topic14\", \"Topic14\", \"Topic14\", \"Topic14\", \"Topic14\", \"Topic14\", \"Topic14\", \"Topic14\", \"Topic14\", \"Topic14\", \"Topic14\", \"Topic14\", \"Topic14\", \"Topic14\", \"Topic14\", \"Topic14\", \"Topic14\", \"Topic14\", \"Topic15\", \"Topic15\", \"Topic15\", \"Topic15\", \"Topic15\", \"Topic15\", \"Topic15\", \"Topic15\", \"Topic15\", \"Topic15\", \"Topic15\", \"Topic15\", \"Topic15\", \"Topic15\", \"Topic15\", \"Topic15\", \"Topic15\", \"Topic15\", \"Topic15\", \"Topic15\", \"Topic15\", \"Topic15\", \"Topic15\", \"Topic15\", \"Topic15\", \"Topic15\", \"Topic15\", \"Topic15\", \"Topic15\", \"Topic15\", \"Topic15\", \"Topic15\", \"Topic15\", \"Topic15\", \"Topic15\", \"Topic15\", \"Topic15\", \"Topic15\", \"Topic15\", \"Topic15\", \"Topic15\", \"Topic16\", \"Topic16\", \"Topic16\", \"Topic16\", \"Topic16\", \"Topic16\", \"Topic16\", \"Topic16\", \"Topic16\", \"Topic16\", \"Topic16\", \"Topic16\", \"Topic16\", \"Topic16\", \"Topic16\", \"Topic16\", \"Topic16\", \"Topic16\", \"Topic16\", \"Topic16\", \"Topic16\", \"Topic16\", \"Topic16\", \"Topic16\", \"Topic16\", \"Topic16\", \"Topic16\", \"Topic16\", \"Topic16\", \"Topic16\", \"Topic16\", \"Topic16\", \"Topic16\", \"Topic16\", \"Topic16\", \"Topic16\", \"Topic16\", \"Topic16\", \"Topic16\", \"Topic16\", \"Topic17\", \"Topic17\", \"Topic17\", \"Topic17\", \"Topic17\", \"Topic17\", \"Topic17\", \"Topic17\", \"Topic17\", \"Topic17\", \"Topic17\", \"Topic17\", \"Topic17\", \"Topic17\", \"Topic17\", \"Topic17\", \"Topic17\", \"Topic17\", \"Topic17\", \"Topic17\", \"Topic17\", \"Topic17\", \"Topic17\", \"Topic17\", \"Topic17\", \"Topic17\", \"Topic17\", \"Topic17\", \"Topic17\", \"Topic17\", \"Topic17\", \"Topic17\", \"Topic17\", \"Topic17\", \"Topic17\", \"Topic17\", \"Topic17\", \"Topic17\", \"Topic17\", \"Topic17\", \"Topic17\", \"Topic18\", \"Topic18\", \"Topic18\", \"Topic18\", \"Topic18\", \"Topic18\", \"Topic18\", \"Topic18\", \"Topic18\", \"Topic18\", \"Topic18\", \"Topic18\", \"Topic18\", \"Topic18\", \"Topic18\", \"Topic18\", \"Topic18\", \"Topic18\", \"Topic18\", \"Topic18\", \"Topic18\", \"Topic18\", \"Topic18\", \"Topic18\", \"Topic18\", \"Topic18\", \"Topic18\", \"Topic18\", \"Topic18\", \"Topic18\", \"Topic18\", \"Topic18\", \"Topic18\", \"Topic18\", \"Topic18\", \"Topic18\", \"Topic18\", \"Topic18\", \"Topic19\", \"Topic19\", \"Topic19\", \"Topic19\", \"Topic19\", \"Topic19\", \"Topic19\", \"Topic19\", \"Topic19\", \"Topic19\", \"Topic19\", \"Topic19\", \"Topic19\", \"Topic19\", \"Topic19\", \"Topic19\", \"Topic19\", \"Topic19\", \"Topic19\", \"Topic19\", \"Topic19\", \"Topic19\", \"Topic19\", \"Topic19\", \"Topic19\", \"Topic19\", \"Topic19\", \"Topic19\", \"Topic19\", \"Topic19\", \"Topic19\", \"Topic19\", \"Topic19\", \"Topic19\", \"Topic19\", \"Topic19\", \"Topic20\", \"Topic20\", \"Topic20\", \"Topic20\", \"Topic20\", \"Topic20\", \"Topic20\", \"Topic20\", \"Topic20\", \"Topic20\", \"Topic20\", \"Topic20\", \"Topic20\", \"Topic20\", \"Topic20\", \"Topic20\", \"Topic20\", \"Topic20\", \"Topic20\", \"Topic20\", \"Topic20\", \"Topic20\", \"Topic20\", \"Topic20\", \"Topic20\", \"Topic20\", \"Topic20\", \"Topic20\", \"Topic20\", \"Topic20\", \"Topic20\", \"Topic20\", \"Topic20\", \"Topic20\", \"Topic20\", \"Topic20\"], \"logprob\": [30.0, 29.0, 28.0, 27.0, 26.0, 25.0, 24.0, 23.0, 22.0, 21.0, 20.0, 19.0, 18.0, 17.0, 16.0, 15.0, 14.0, 13.0, 12.0, 11.0, 10.0, 9.0, 8.0, 7.0, 6.0, 5.0, 4.0, 3.0, 2.0, 1.0, -3.782900094985962, -3.3452000617980957, -4.711100101470947, -4.60830020904541, -5.04449987411499, -4.7245001792907715, -4.853099822998047, -4.455900192260742, -5.2657999992370605, -5.259699821472168, -4.5177998542785645, -5.304299831390381, -5.347400188446045, -5.086400032043457, -5.318299770355225, -5.406899929046631, -5.372099876403809, -5.527200222015381, -5.540500164031982, -5.665999889373779, -5.730899810791016, -5.763199806213379, -5.775599956512451, -5.783100128173828, -5.821000099182129, -5.8343000411987305, -5.836999893188477, -5.8144001960754395, -5.856900215148926, -5.54640007019043, -3.0750999450683594, -1.8796000480651855, -5.655399799346924, -3.585900068283081, -3.4523000717163086, -4.232900142669678, -4.731500148773193, -3.4058001041412354, -4.110400199890137, -4.861999988555908, -4.042099952697754, -3.754199981689453, -4.607399940490723, -3.934000015258789, -4.774199962615967, -4.952899932861328, -3.839400053024292, -3.7916998863220215, -5.215199947357178, -4.674799919128418, -4.493299961090088, -4.759099960327148, -4.890500068664551, -5.027200222015381, -4.605000019073486, -4.088200092315674, -4.656400203704834, -4.662700176239014, -4.3394999504089355, -4.736800193786621, -4.151899814605713, -4.902299880981445, -5.083499908447266, -4.906499862670898, -5.287799835205078, -5.2546000480651855, -5.306700229644775, -3.8959999084472656, -5.422900199890137, -4.350299835205078, -5.5295000076293945, -5.565800189971924, -5.617800235748291, -5.668600082397461, -5.6768999099731445, -5.609499931335449, -5.0320000648498535, -5.721399784088135, -5.746600151062012, -5.79640007019043, -1.9341000318527222, -5.816500186920166, -5.838699817657471, -5.88700008392334, -3.4393999576568604, -3.1024999618530273, -3.610100030899048, -5.573500156402588, -5.374300003051758, -3.180799961090088, -4.768700122833252, -3.311199903488159, -4.161799907684326, -5.473999977111816, -5.451700210571289, -4.469799995422363, -5.422299861907959, -3.9893999099731445, -4.089099884033203, -4.111599922180176, -4.355100154876709, -4.3470001220703125, -5.025100231170654, -4.9532999992370605, -5.110400199890137, -5.1057000160217285, -4.128399848937988, -4.133399963378906, -3.759500026702881, -4.454400062561035, -4.435200214385986, -4.563899993896484, -4.222400188446045, -3.91510009765625, -4.375100135803223, -4.514800071716309, -4.907299995422363, -4.019100189208984, -4.3140997886657715, -4.367300033569336, -5.185299873352051, -4.716599941253662, -3.580899953842163, -5.244800090789795, -4.956200122833252, -5.355599880218506, -4.881499767303467, -4.809500217437744, -5.412700176239014, -5.489299774169922, -5.631100177764893, -5.617199897766113, -3.6993000507354736, -5.519899845123291, -5.7153000831604, -5.702300071716309, -3.4795000553131104, -5.680600166320801, -3.7423999309539795, -2.7002999782562256, -2.3731000423431396, -3.960099935531616, -5.069200038909912, -4.029099941253662, -4.261600017547607, -4.353600025177002, -4.606900215148926, -4.56850004196167, -4.752999782562256, -4.845099925994873, -2.432800054550171, -3.351799964904785, -4.358799934387207, -4.544899940490723, -3.293100118637085, -4.706900119781494, -5.024099826812744, -4.925899982452393, -5.0584001541137695, -4.9816999435424805, -5.088799953460693, -5.144999980926514, -5.131199836730957, -5.159999847412109, -3.4964001178741455, -4.685400009155273, -5.238399982452393, -3.6791000366210938, -5.196400165557861, -5.375999927520752, -5.3144001960754395, -5.359099864959717, -5.415299892425537, -5.463799953460693, -5.450099945068359, -5.588099956512451, -5.606100082397461, -5.647500038146973, -5.287700176239014, -5.705399990081787, -4.258800029754639, -5.169600009918213, -4.463799953460693, -2.6540000438690186, -3.963099956512451, -4.336699962615967, -3.585900068283081, -3.7225000858306885, -4.566800117492676, -4.2434000968933105, -3.1507999897003174, -3.6939001083374023, -4.660299777984619, -5.05109977722168, -4.9704999923706055, -5.001699924468994, -3.332200050354004, -4.4309000968933105, -4.365699768066406, -4.025599956512451, -4.670100212097168, -4.30620002746582, -4.757299900054932, -4.899600028991699, -4.983399868011475, -4.975500106811523, -3.65910005569458, -5.137400150299072, -5.230500221252441, -5.146100044250488, -5.253799915313721, -5.193699836730957, -5.321300029754639, -5.388000011444092, -5.4593000411987305, -5.135200023651123, -5.253799915313721, -5.4720001220703125, -2.1839001178741455, -5.575099945068359, -5.583600044250488, -5.617700099945068, -5.610199928283691, -5.620299816131592, -5.628799915313721, -5.6219000816345215, -3.4862000942230225, -4.807700157165527, -3.1775999069213867, -4.696400165557861, -2.5764000415802, -4.276800155639648, -2.714400053024292, -3.8935999870300293, -5.112299919128418, -5.276100158691406, -4.734000205993652, -4.713699817657471, -4.71999979019165, -4.859899997711182, -4.847300052642822, -4.954800128936768, -1.6585999727249146, -3.4874000549316406, -3.65939998626709, -4.35230016708374, -4.558199882507324, -4.23769998550415, -4.567200183868408, -4.599400043487549, -4.777200222015381, -4.8404998779296875, -4.826200008392334, -4.223599910736084, -5.01140022277832, -5.020500183105469, -3.8815999031066895, -5.095200061798096, -5.146900177001953, -5.269000053405762, -5.357999801635742, -5.388500213623047, -5.26800012588501, -5.465199947357178, -5.501999855041504, -5.504199981689453, -5.484300136566162, -5.002399921417236, -5.610499858856201, -5.6118998527526855, -2.935800075531006, -5.6869001388549805, -3.3661999702453613, -4.149799823760986, -4.369500160217285, -4.5696001052856445, -4.026599884033203, -3.9546000957489014, -3.702899932861328, -4.5609002113342285, -4.238100051879883, -4.344600200653076, -4.454800128936768, -4.735499858856201, -5.060699939727783, -2.5048000812530518, -4.247399806976318, -4.225500106811523, -4.714900016784668, -4.720200061798096, -4.761099815368652, -4.676599979400635, -3.345400094985962, -4.882400035858154, -4.715400218963623, -4.075699806213379, -4.944699764251709, -5.054599761962891, -4.2947998046875, -5.109300136566162, -5.18209981918335, -5.1894001960754395, -5.27400016784668, -5.229499816894531, -5.278900146484375, -5.376999855041504, -4.73960018157959, -5.495800018310547, -5.297699928283691, -5.385000228881836, -5.588600158691406, -5.595200061798096, -5.604499816894531, -5.6107001304626465, -5.614299774169922, -2.4918999671936035, -4.684599876403809, -2.836699962615967, -5.073299884796143, -3.2632999420166016, -5.379899978637695, -4.4019999504089355, -3.697999954223633, -3.9700000286102295, -4.494699954986572, -4.597799777984619, -4.752099990844727, -4.616600036621094, -4.794899940490723, -4.936999797821045, -5.065999984741211, -2.6212000846862793, -3.6289000511169434, -4.244200229644775, -4.266300201416016, -4.3292999267578125, -3.6117000579833984, -4.524899959564209, -4.253499984741211, -4.741300106048584, -4.798799991607666, -4.80109977722168, -4.887499809265137, -4.918900012969971, -4.947199821472168, -4.934700012207031, -4.9741997718811035, -4.981299877166748, -4.911399841308594, -4.8846001625061035, -4.7083001136779785, -5.049699783325195, -5.237100124359131, -5.275700092315674, -5.3470001220703125, -5.3628997802734375, -5.356100082397461, -5.4475998878479, -5.468299865722656, -5.577499866485596, -5.626800060272217, -4.521699905395508, -5.215099811553955, -2.78439998626709, -3.648099899291992, -3.393399953842163, -3.6328001022338867, -4.568399906158447, -3.9834001064300537, -3.0404999256134033, -4.055600166320801, -4.365900039672852, -4.729499816894531, -4.785699844360352, -4.8582000732421875, -3.628200054168701, -3.7504000663757324, -3.6542000770568848, -4.041399955749512, -3.84689998626709, -4.395100116729736, -4.578400135040283, -4.454699993133545, -4.380899906158447, -4.647900104522705, -3.7360000610351562, -4.4145002365112305, -4.649700164794922, -4.314799785614014, -4.568900108337402, -4.730199813842773, -4.867000102996826, -3.530400037765503, -5.099699974060059, -5.182199954986572, -3.9600000381469727, -5.2179999351501465, -5.299699783325195, -4.979700088500977, -5.330999851226807, -4.9197998046875, -5.368599891662598, -5.414999961853027, -5.419400215148926, -5.492199897766113, -5.206699848175049, -4.885200023651123, -2.5680999755859375, -3.7139999866485596, -2.940999984741211, -5.053400039672852, -4.509399890899658, -3.0968000888824463, -4.023099899291992, -4.317500114440918, -4.301700115203857, -3.5030999183654785, -3.97760009765625, -4.065800189971924, -4.4527997970581055, -4.518799781799316, -4.5980000495910645, -4.700900077819824, -4.695700168609619, -4.839200019836426, -4.888400077819824, -3.871000051498413, -4.671199798583984, -4.956999778747559, -5.018599987030029, -4.126699924468994, -5.273099899291992, -5.32480001449585, -4.641600131988525, -5.1427001953125, -5.146299839019775, -5.405799865722656, -5.090199947357178, -5.490600109100342, -5.5065999031066895, -5.542900085449219, -5.554200172424316, -5.579999923706055, -4.741700172424316, -4.2870001792907715, -5.600500106811523, -5.565299987792969, -5.4197001457214355, -2.665299892425537, -5.150700092315674, -5.193399906158447, -3.926100015640259, -2.883500099182129, -2.7741000652313232, -4.988500118255615, -3.580899953842163, -3.223299980163574, -4.106599807739258, -4.040299892425537, -4.872399806976318, -2.2894999980926514, -4.148200035095215, -3.665600061416626, -4.513999938964844, -4.070799827575684, -4.151000022888184, -4.473800182342529, -5.017199993133545, -5.072500228881836, -5.002900123596191, -5.120800018310547, -4.867199897766113, -4.753799915313721, -4.472799777984619, -4.6092000007629395, -5.230500221252441, -5.2855000495910645, -5.378699779510498, -5.38070011138916, -5.19890022277832, -5.457799911499023, -4.793900012969971, -4.032899856567383, -4.726099967956543, -4.549099922180176, -5.6016998291015625, -5.606299877166748, -5.669000148773193, -5.684999942779541, -5.688399791717529, -2.513700008392334, -5.2032999992370605, -4.396500110626221, -4.242099761962891, -4.264999866485596, -3.2627999782562256, -4.242199897766113, -3.8385000228881836, -3.4031999111175537, -4.002399921417236, -4.411499977111816, -4.945799827575684, -3.5023999214172363, -3.7701001167297363, -3.9602999687194824, -4.212699890136719, -4.252799987792969, -4.478700160980225, -4.508399963378906, -4.470099925994873, -2.5445001125335693, -4.625699996948242, -4.149199962615967, -4.633500099182129, -4.2245001792907715, -4.825099945068359, -4.872300148010254, -4.033299922943115, -4.892600059509277, -5.072700023651123, -5.090400218963623, -5.140500068664551, -5.138700008392334, -5.206200122833252, -5.235000133514404, -5.2677001953125, -5.2916998863220215, -5.310800075531006, -5.332799911499023, -5.356100082397461, -2.8389999866485596, -5.207699775695801, -3.2813000679016113, -5.036099910736084, -3.710200071334839, -4.727399826049805, -4.496600151062012, -5.0690999031066895, -4.843100070953369, -5.133999824523926, -4.170100212097168, -4.736700057983398, -4.491700172424316, -4.796299934387207, -2.6810998916625977, -3.809799909591675, -3.9077000617980957, -4.204800128936768, -4.1483001708984375, -3.4168999195098877, -4.3171000480651855, -4.1296000480651855, -4.3119001388549805, -4.342400074005127, -4.2870001792907715, -4.543900012969971, -4.695099830627441, -4.531400203704834, -4.781899929046631, -4.821899890899658, -4.885700225830078, -4.883200168609619, -4.707099914550781, -4.900599956512451, -4.924499988555908, -5.0345001220703125, -5.048799991607666, -5.103400230407715, -5.168600082397461, -3.8201000690460205, -5.2342000007629395, -5.271100044250488, -5.362599849700928, -5.429200172424316, -3.3689000606536865, -4.433300018310547, -4.506100177764893, -5.067200183868408, -4.607800006866455, -4.398399829864502, -4.619200229644775, -4.720200061798096, -4.052800178527832, -4.177299976348877, -4.526000022888184, -4.384900093078613, -4.754899978637695, -3.6772000789642334, -4.160200119018555, -4.477700233459473, -4.577400207519531, -3.86080002784729, -4.6545000076293945, -4.633500099182129, -4.669899940490723, -4.744999885559082, -4.436600208282471, -4.82289981842041, -4.116000175476074, -5.033699989318848, -5.035799980163574, -3.577699899673462, -3.3433001041412354, -5.14169979095459, -5.177199840545654, -5.1819000244140625, -3.1273999214172363, -5.278299808502197, -5.3420000076293945, -5.382699966430664, -5.401700019836426, -5.411200046539307, -5.465199947357178, -5.499899864196777, -5.599100112915039, -4.946000099182129, -5.679500102996826, -2.4526000022888184, -3.469899892807007, -3.792099952697754, -3.46589994430542, -4.28410005569458, -5.26230001449585, -4.518199920654297, -3.6589999198913574, -4.790200233459473, -4.6321001052856445, -4.604599952697754, -5.046800136566162, -3.6303999423980713, -4.047500133514404, -3.6914000511169434, -3.8617000579833984, -4.365300178527832, -4.397900104522705, -4.546999931335449, -4.527400016784668, -4.4770002365112305, -4.664400100708008, -4.5609002113342285, -4.745200157165527, -4.714700222015381, -4.857699871063232, -4.89109992980957, -4.9004998207092285, -5.007599830627441, -5.03439998626709, -4.974599838256836, -5.11359977722168, -5.157299995422363, -5.181099891662598, -3.7679998874664307, -5.1697001457214355, -5.120299816131592, -5.276800155639648, -5.282299995422363, -5.026800155639648, -5.336599826812744, -5.3993000984191895, -3.452699899673462, -2.9649999141693115, -2.487799882888794, -3.863100051879883, -3.402400016784668, -4.999199867248535, -3.947200059890747, -4.589799880981445, -4.882599830627441, -4.7829999923706055, -4.935500144958496, -3.859999895095825, -3.7967000007629395, -4.310500144958496, -4.266900062561035, -4.6442999839782715, -4.542900085449219, -4.702199935913086, -4.650599956512451, -4.791100025177002, -4.805099964141846, -2.8169000148773193, -4.821300029754639, -4.7519001960754395, -4.038099765777588, -4.787300109863281, -4.86359977722168, -4.869800090789795, -4.918399810791016, -3.8475000858306885, -4.969799995422363, -4.826000213623047, -4.95959997177124, -4.628200054168701, -4.998600006103516, -5.007400035858154, -4.179999828338623, -5.1097002029418945, -5.0854997634887695, -3.334399938583374, -5.184800148010254, -2.8585000038146973, -3.862499952316284, -2.844099998474121, -4.101900100708008, -4.480899810791016, -4.0929999351501465, -4.730800151824951, -4.576000213623047, -4.310299873352051, -4.7281999588012695, -3.9323999881744385, -4.325500011444092, -4.381100177764893, -4.469200134277344, -4.527100086212158, -4.5304999351501465, -4.516499996185303, -4.406400203704834, -4.661499977111816, -4.752699851989746, -4.764800071716309, -4.674799919128418, -4.762700080871582, -4.560999870300293, -3.9263999462127686, -3.7525999546051025, -4.44189977645874, -2.797800064086914, -4.957900047302246, -4.073999881744385, -5.071700096130371, -5.087399959564209, -5.065000057220459, -4.894599914550781, -5.265999794006348, -5.245800018310547, -4.353499889373779, -5.4079999923706055, -5.394599914550781, -5.4492998123168945, -3.6626999378204346, -4.107500076293945, -4.316999912261963, -4.684299945831299, -3.7472000122070312, -3.691200017929077, -4.936600208282471, -3.293100118637085, -4.129700183868408, -4.215199947357178, -4.557000160217285, -3.433000087738037, -3.477799892425537, -3.6668999195098877, -3.324399948120117, -3.297600030899048, -4.107500076293945, -4.230800151824951, -3.9944000244140625, -4.499199867248535, -4.708799839019775, -4.39709997177124, -4.696700096130371, -4.769400119781494, -4.77839994430542, -4.855800151824951, -4.961999893188477, -4.759300231933594, -4.926000118255615, -4.3445000648498535, -5.00439977645874, -5.077600002288818, -4.776599884033203, -5.1656999588012695, -5.173299789428711, -5.182799816131592, -4.128499984741211, -5.269899845123291, -5.16480016708374, -5.343200206756592, -3.636399984359741, -3.838099956512451, -4.927700042724609, -3.987799882888794, -3.9228999614715576, -4.5117998123168945, -4.356400012969971, -4.971700191497803, -4.982699871063232, -3.490600109100342, -3.821000099182129, -3.8025999069213867, -3.8424999713897705, -3.803800106048584, -3.9988999366760254, -4.262599945068359, -4.256199836730957, -4.143599987030029, -3.5148000717163086, -4.3979997634887695, -4.510499954223633, -3.8775999546051025, -4.5507001876831055, -2.6456000804901123, -4.526800155639648, -4.561999797821045, -4.103799819946289, -4.649499893188477, -4.697800159454346, -4.827300071716309, -4.888000011444092, -4.811299800872803, -4.90910005569458, -4.918799877166748, -4.727200031280518, -4.953100204467773, -4.991199970245361, -5.001299858093262, -5.059299945831299, -4.692999839782715, -4.722599983215332, -4.26140022277832, -4.3744001388549805, -4.810699939727783, -4.890200138092041, -2.1113998889923096, -2.6484999656677246, -3.03410005569458, -3.68149995803833, -3.798799991607666, -4.2758002281188965, -4.338900089263916, -4.40880012512207, -4.48360013961792, -4.444499969482422, -3.118799924850464, -4.63640022277832, -4.671299934387207, -4.6595001220703125, -4.662899971008301, -4.542500019073486, -4.900000095367432, -4.87060022354126, -4.940499782562256, -4.7428998947143555, -4.928299903869629, -4.990099906921387, -4.923500061035156, -5.0441999435424805, -5.1178998947143555, -5.155300140380859, -5.209499835968018, -5.345900058746338, -5.521100044250488, -5.5289998054504395, -5.01140022277832, -4.774400234222412, -4.412300109863281, -3.6856000423431396, -3.986799955368042, -4.4822001457214355], \"loglift\": [30.0, 29.0, 28.0, 27.0, 26.0, 25.0, 24.0, 23.0, 22.0, 21.0, 20.0, 19.0, 18.0, 17.0, 16.0, 15.0, 14.0, 13.0, 12.0, 11.0, 10.0, 9.0, 8.0, 7.0, 6.0, 5.0, 4.0, 3.0, 2.0, 1.0, 2.7596, 2.7583, 2.7554, 2.7547, 2.7535, 2.753, 2.7522, 2.7515, 2.7509, 2.7508, 2.7506, 2.7501, 2.75, 2.7498, 2.7492, 2.7491, 2.7481, 2.7474, 2.7471, 2.745, 2.7439, 2.7432, 2.743, 2.7429, 2.7421, 2.7419, 2.7417, 2.7416, 2.7414, 2.7412, 2.7307, 2.7141, 2.741, 2.7136, 2.7096, 2.7211, 2.6792, 2.5505, 2.5579, 2.6271, 2.4649, 2.4133, 2.5129, 2.2864, 2.4921, 2.4662, 1.0751, 0.9446, 2.5864, 1.0157, 0.4123, 1.0673, 0.3162, 0.1618, 2.7712, 2.7712, 2.7707, 2.7707, 2.7706, 2.77, 2.7693, 2.7675, 2.7673, 2.7655, 2.7649, 2.7648, 2.7648, 2.7635, 2.7632, 2.7616, 2.7615, 2.7609, 2.76, 2.7592, 2.759, 2.7587, 2.7585, 2.7583, 2.7574, 2.7568, 2.7566, 2.7562, 2.7558, 2.7548, 2.753, 2.7457, 2.7442, 2.7514, 2.7381, 2.5568, 2.6852, 2.4043, 2.5142, 2.7272, 2.7045, 2.3152, 2.6656, 0.9162, 0.9159, 0.9032, 0.8516, 0.1775, 1.8508, 0.2926, 1.1242, 0.0832, 2.8303, 2.8302, 2.8296, 2.829, 2.8287, 2.8282, 2.828, 2.8267, 2.8266, 2.8259, 2.8247, 2.8245, 2.8241, 2.8237, 2.8224, 2.8221, 2.822, 2.8219, 2.821, 2.8205, 2.8202, 2.8198, 2.8197, 2.8184, 2.8159, 2.8155, 2.8151, 2.8148, 2.8144, 2.8141, 2.8139, 2.8139, 2.7484, 2.6907, 2.6319, 2.6341, 2.7103, 0.7073, 0.6529, 0.6612, 0.2987, -0.044, 0.4359, 1.1112, 2.8308, 2.83, 2.8293, 2.8286, 2.8284, 2.8276, 2.8248, 2.8244, 2.8244, 2.8242, 2.824, 2.8235, 2.8233, 2.8232, 2.8224, 2.822, 2.8219, 2.8214, 2.8211, 2.8205, 2.8204, 2.82, 2.8194, 2.8192, 2.8191, 2.8171, 2.8168, 2.8157, 2.8145, 2.8145, 2.7882, 2.8006, 2.743, 2.5851, 2.6567, 2.6936, 2.5432, 2.5541, 2.5813, 2.2766, 1.3737, 1.1758, 0.0761, 1.456, 0.0443, 0.205, 2.8979, 2.8973, 2.8964, 2.8949, 2.8946, 2.8943, 2.8942, 2.8938, 2.8931, 2.893, 2.8928, 2.8913, 2.8902, 2.8897, 2.8894, 2.8891, 2.8885, 2.888, 2.8869, 2.8868, 2.8867, 2.8866, 2.8857, 2.8848, 2.8847, 2.884, 2.8839, 2.8838, 2.8838, 2.8834, 2.8793, 2.8804, 2.8528, 2.8589, 2.6125, 2.7569, 2.5493, 2.695, 2.7918, 2.6514, 1.0924, 1.0018, 0.8549, 0.7259, 0.0672, 0.06, 2.9063, 2.9045, 2.904, 2.9038, 2.9025, 2.9017, 2.9015, 2.9014, 2.9008, 2.9002, 2.9002, 2.8993, 2.8986, 2.8982, 2.8978, 2.8971, 2.897, 2.8942, 2.8941, 2.8936, 2.8931, 2.8924, 2.8917, 2.8915, 2.8912, 2.8899, 2.8897, 2.8897, 2.8884, 2.8882, 2.8841, 2.8846, 2.8747, 2.8636, 2.8416, 2.7928, 2.6834, 2.7646, 1.3368, 0.5251, 0.7912, 0.0009, -0.5362, 2.9543, 2.9515, 2.9498, 2.9484, 2.9483, 2.9475, 2.9472, 2.9468, 2.9467, 2.9464, 2.9462, 2.9459, 2.9446, 2.9443, 2.9437, 2.9433, 2.9432, 2.942, 2.9416, 2.9408, 2.9404, 2.9386, 2.9383, 2.9383, 2.9375, 2.9366, 2.9365, 2.9362, 2.9361, 2.936, 2.9285, 2.9346, 2.9086, 2.9259, 2.7843, 2.917, 2.6857, 2.2523, 1.2658, 0.913, 0.3167, 0.6389, -0.0921, 0.4442, -0.0673, 0.5088, 2.9708, 2.9698, 2.9692, 2.969, 2.9686, 2.9676, 2.9668, 2.9665, 2.9657, 2.9649, 2.9648, 2.9643, 2.964, 2.9635, 2.9634, 2.9633, 2.9633, 2.9627, 2.9619, 2.9617, 2.9617, 2.9598, 2.9595, 2.9584, 2.9581, 2.9581, 2.9567, 2.9563, 2.9542, 2.9532, 2.9524, 2.9495, 2.8963, 2.9175, 2.8948, 2.8851, 2.89, 2.6763, 1.8651, 2.1428, 0.8407, 0.2853, 0.1288, -0.3336, 2.9793, 2.979, 2.9778, 2.9777, 2.9774, 2.9751, 2.9747, 2.9739, 2.9738, 2.9734, 2.9731, 2.9728, 2.9725, 2.9725, 2.9724, 2.9715, 2.9711, 2.9696, 2.9695, 2.9685, 2.9676, 2.9675, 2.9668, 2.9667, 2.9663, 2.9659, 2.9657, 2.9649, 2.9641, 2.9635, 2.9621, 2.9449, 2.6677, 2.7003, 2.4666, 2.8885, 2.6341, 1.7729, 0.7133, 0.9462, 0.7131, 2.985, 2.9839, 2.9826, 2.9823, 2.9819, 2.9813, 2.9804, 2.9801, 2.9791, 2.9788, 2.9777, 2.9776, 2.9775, 2.9773, 2.9771, 2.9739, 2.9731, 2.9728, 2.9724, 2.9722, 2.9718, 2.9714, 2.9702, 2.9697, 2.9692, 2.969, 2.9685, 2.9684, 2.968, 2.9679, 2.9676, 2.9649, 2.8725, 2.9539, 2.9487, 2.8665, 2.7023, 2.4719, 2.8841, 1.994, 1.6912, 1.9742, 0.9746, 1.1346, 3.0381, 3.0355, 3.0351, 3.0329, 3.0325, 3.0309, 3.0302, 3.0282, 3.0275, 3.0273, 3.0268, 3.0258, 3.0256, 3.0255, 3.0253, 3.0238, 3.0235, 3.0228, 3.0228, 3.0219, 3.0213, 3.0208, 3.0206, 3.02, 3.0185, 3.0184, 3.0182, 3.0167, 3.0163, 3.0163, 3.0131, 3.0141, 3.0043, 2.9915, 2.9784, 2.8624, 2.9177, 2.8493, 2.7902, 1.2043, 1.1633, 1.2746, 3.0516, 3.0508, 3.0498, 3.0488, 3.0475, 3.0471, 3.0468, 3.0467, 3.0465, 3.0457, 3.0452, 3.0452, 3.0448, 3.044, 3.0434, 3.0422, 3.0422, 3.0411, 3.0409, 3.0402, 3.0393, 3.0392, 3.0388, 3.038, 3.0376, 3.0371, 3.0371, 3.0368, 3.0362, 3.0361, 3.0248, 3.0318, 3.0023, 3.0067, 2.6953, 2.9428, 2.7754, 2.9435, 0.6995, 1.4308, 0.2447, -0.2718, 3.0581, 3.0574, 3.057, 3.0556, 3.0553, 3.0549, 3.0548, 3.0547, 3.0543, 3.0543, 3.0542, 3.0527, 3.052, 3.052, 3.0512, 3.0507, 3.0501, 3.0498, 3.0498, 3.0495, 3.049, 3.0478, 3.0477, 3.0474, 3.0463, 3.0457, 3.0453, 3.0447, 3.0432, 3.042, 3.0413, 3.0417, 3.0225, 3.032, 2.9452, 2.8869, 2.8478, 2.6899, 0.8528, 0.7372, 1.1645, 0.1396, 0.4518, 3.0578, 3.0556, 3.0549, 3.0541, 3.0535, 3.0534, 3.0532, 3.0528, 3.0526, 3.0525, 3.0506, 3.0495, 3.0494, 3.0493, 3.0491, 3.0488, 3.0473, 3.0472, 3.0468, 3.0459, 3.0452, 3.0446, 3.044, 3.0435, 3.0435, 3.0414, 3.0399, 3.0395, 3.0377, 3.0376, 3.0229, 3.0304, 3.0168, 2.869, 2.9132, 3.0237, 2.7564, 2.348, 2.8145, 1.6444, -0.0801, 0.7796, 3.067, 3.0653, 3.0651, 3.065, 3.0634, 3.0633, 3.0621, 3.0621, 3.0616, 3.0611, 3.0607, 3.0603, 3.0596, 3.0593, 3.0589, 3.0585, 3.0575, 3.0566, 3.0561, 3.0561, 3.0554, 3.0551, 3.0548, 3.0541, 3.0539, 3.0535, 3.0532, 3.0527, 3.0526, 3.0514, 3.0422, 3.0304, 3.0074, 3.0305, 3.0086, 2.9764, 0.7891, 1.1477, 1.0677, -0.2584, 0.6023, 3.0736, 3.0732, 3.0714, 3.0689, 3.0685, 3.0684, 3.0683, 3.0675, 3.0674, 3.0673, 3.0672, 3.0672, 3.0671, 3.067, 3.0668, 3.0665, 3.0663, 3.066, 3.0655, 3.0654, 3.0653, 3.0652, 3.0651, 3.065, 3.0646, 3.0642, 3.0636, 3.0635, 3.063, 3.0621, 3.0536, 3.057, 3.0186, 3.0021, 2.9168, 2.6871, 2.9239, 2.6297, 0.4261, 1.2081, 3.0961, 3.0954, 3.0951, 3.0942, 3.094, 3.0939, 3.0939, 3.0935, 3.0929, 3.092, 3.0918, 3.0918, 3.0912, 3.0906, 3.0904, 3.0903, 3.0903, 3.0899, 3.0897, 3.0897, 3.0881, 3.088, 3.0875, 3.0853, 3.0852, 3.0849, 3.0829, 3.0826, 3.0826, 3.0819, 3.0806, 3.0795, 3.0783, 3.0743, 3.0422, 2.8895, 2.9965, 1.2314, 2.1049, 1.0308, 0.7067, 3.1508, 3.1499, 3.1499, 3.1497, 3.1485, 3.1472, 3.1471, 3.1465, 3.146, 3.1441, 3.1441, 3.1436, 3.1435, 3.1431, 3.1425, 3.1411, 3.1408, 3.1407, 3.1406, 3.1404, 3.1396, 3.139, 3.1383, 3.1378, 3.1374, 3.1364, 3.1364, 3.1353, 3.1352, 3.1348, 3.129, 3.1346, 2.4155, 0.6017, 1.074, 0.5133, 0.4359, -0.2464, 3.2322, 3.2314, 3.2313, 3.2309, 3.2299, 3.2298, 3.2289, 3.2287, 3.2277, 3.2269, 3.2267, 3.2266, 3.2266, 3.2265, 3.2261, 3.226, 3.2258, 3.2252, 3.225, 3.2249, 3.2235, 3.2226, 3.2225, 3.2223, 3.222, 3.2219, 3.2218, 3.2213, 3.2211, 3.2202, 3.218, 3.2162, 0.7535, 0.1502, 0.1038, -0.1538, 3.3242, 3.3234, 3.3231, 3.3206, 3.3203, 3.3176, 3.3171, 3.3167, 3.316, 3.3157, 3.3156, 3.314, 3.3136, 3.3122, 3.312, 3.3115, 3.3109, 3.3105, 3.3104, 3.3097, 3.3095, 3.3094, 3.3091, 3.3087, 3.3072, 3.3067, 3.3041, 3.3027, 3.2984, 3.298, 3.2968, 3.2931, 3.1863, 2.7042, 1.2522, 0.0423]}, \"token.table\": {\"Topic\": [4, 12, 17, 10, 8, 11, 20, 15, 17, 2, 11, 15, 18, 18, 7, 4, 13, 11, 20, 14, 15, 19, 10, 11, 14, 16, 19, 4, 13, 14, 15, 2, 3, 4, 5, 6, 9, 10, 15, 16, 2, 3, 5, 7, 15, 16, 5, 8, 14, 17, 20, 1, 4, 16, 5, 17, 1, 13, 2, 1, 11, 1, 13, 10, 2, 3, 5, 13, 5, 13, 1, 3, 5, 7, 9, 12, 13, 14, 16, 17, 20, 2, 4, 5, 7, 8, 9, 10, 11, 15, 18, 19, 14, 1, 15, 5, 6, 7, 18, 3, 11, 2, 4, 11, 12, 14, 16, 17, 1, 6, 3, 16, 18, 2, 14, 5, 2, 3, 4, 8, 11, 12, 15, 17, 19, 20, 10, 19, 1, 18, 1, 2, 8, 19, 16, 18, 13, 13, 2, 4, 18, 11, 4, 9, 18, 1, 4, 6, 13, 14, 16, 18, 20, 8, 10, 20, 8, 11, 13, 10, 19, 10, 17, 9, 6, 7, 8, 9, 10, 14, 15, 18, 2, 3, 4, 5, 6, 7, 8, 9, 10, 11, 13, 14, 16, 17, 18, 14, 16, 1, 3, 4, 6, 7, 8, 9, 19, 13, 1, 3, 4, 3, 6, 5, 6, 7, 9, 15, 17, 16, 6, 11, 7, 11, 12, 13, 9, 1, 12, 13, 17, 16, 14, 15, 9, 9, 3, 15, 20, 5, 11, 12, 14, 17, 5, 20, 12, 18, 2, 12, 8, 7, 18, 19, 19, 4, 12, 4, 3, 7, 16, 14, 1, 3, 4, 5, 7, 10, 12, 13, 14, 15, 18, 13, 1, 2, 3, 5, 8, 10, 11, 12, 13, 14, 16, 18, 19, 16, 13, 15, 15, 3, 4, 8, 17, 6, 12, 12, 17, 10, 5, 17, 7, 1, 5, 3, 10, 17, 1, 3, 5, 7, 9, 11, 12, 13, 14, 16, 17, 18, 19, 12, 13, 16, 10, 12, 1, 4, 5, 7, 9, 18, 14, 14, 8, 17, 20, 20, 6, 18, 2, 5, 3, 4, 8, 12, 10, 4, 11, 8, 20, 4, 20, 3, 9, 11, 15, 9, 6, 9, 2, 3, 7, 20, 10, 11, 10, 20, 1, 19, 2, 3, 8, 13, 13, 15, 10, 16, 15, 10, 13, 16, 4, 18, 11, 3, 17, 5, 12, 20, 2, 3, 8, 20, 1, 6, 1, 2, 4, 7, 9, 10, 14, 15, 17, 18, 2, 4, 13, 15, 1, 9, 16, 6, 6, 17, 16, 7, 17, 19, 8, 2, 6, 1, 4, 11, 14, 17, 8, 7, 11, 14, 11, 7, 20, 13, 14, 19, 11, 10, 15, 16, 19, 1, 12, 10, 10, 18, 5, 15, 7, 6, 10, 7, 7, 1, 3, 4, 6, 12, 15, 16, 1, 10, 12, 3, 6, 12, 4, 17, 1, 14, 13, 20, 9, 20, 2, 20, 14, 5, 14, 5, 14, 9, 10, 7, 2, 2, 9, 11, 4, 5, 15, 4, 15, 11, 15, 1, 3, 4, 5, 6, 7, 8, 9, 10, 11, 12, 13, 14, 15, 16, 18, 19, 20, 8, 5, 6, 10, 13, 17, 18, 1, 5, 6, 7, 8, 9, 10, 11, 13, 15, 16, 17, 18, 11, 2, 3, 6, 7, 9, 10, 11, 13, 15, 16, 18, 20, 3, 13, 2, 4, 7, 9, 11, 17, 18, 19, 20, 4, 2, 5, 18, 12, 5, 8, 11, 18, 15, 13, 15, 8, 5, 15, 16, 18, 6, 9, 16, 1, 7, 2, 6, 8, 9, 10, 18, 2, 3, 6, 11, 20, 2, 12, 16, 6, 2, 6, 7, 2, 10, 18, 1, 3, 4, 7, 11, 13, 16, 8, 16, 2, 11, 16, 18, 6, 16, 19, 12, 7, 14, 1, 9, 1, 11, 1, 2, 9, 13, 17, 6, 2, 14, 5, 20, 8, 15, 16, 1, 17, 20, 7, 18, 2, 3, 20, 20, 10, 4, 14, 14, 2, 8, 18, 18, 16, 17, 6, 11, 13, 16, 12, 12, 6, 2, 3, 11, 14, 12, 14, 16, 8, 11, 15, 10, 12, 16, 4, 13, 6, 4, 12, 18, 8, 20, 20, 1, 7, 7, 6, 5, 1, 7, 8, 10, 13, 16, 19, 20, 13, 10, 13, 10, 13, 17, 2, 2, 3, 5, 6, 7, 8, 9, 10, 11, 16, 17, 18, 2, 2, 5, 6, 10, 17, 18, 19, 15, 6, 2, 13, 14, 17, 19, 9, 3, 4, 2, 5, 1, 13, 19, 4, 12, 13, 16, 1, 2, 3, 4, 5, 6, 7, 8, 9, 12, 13, 14, 15, 16, 18, 19, 20, 20, 5, 12, 16, 18, 2, 5, 6, 7, 8, 10, 11, 12, 15, 16, 3, 9, 11, 15, 7, 13, 15, 9, 11, 15, 10, 18, 11, 16, 1, 3, 4, 7, 8, 10, 11, 12, 13, 15, 17, 1, 4, 12, 17, 6, 14, 11, 8, 17, 14, 5, 4, 4, 3, 9, 19, 1, 2, 3, 4, 5, 6, 7, 9, 10, 11, 12, 13, 14, 15, 16, 17, 18, 20, 2, 3, 4, 8, 9, 10, 11, 13, 14, 15, 16, 20, 2, 3, 4, 7, 8, 11, 12, 13, 15, 17, 19, 14, 17, 19, 4, 5, 11, 12, 2, 5, 18, 3, 8, 10, 12, 10, 10, 5, 7, 10, 2, 3, 7, 9, 11, 19, 11, 4, 9, 4, 19, 16, 11, 10, 3, 17, 3, 12, 11, 10, 4, 20, 1, 10, 5, 17, 10, 20, 2, 1, 8, 3, 7, 2, 1, 2, 5, 17, 18, 1, 2, 3, 4, 5, 6, 7, 8, 10, 12, 14, 17, 18, 19, 10, 15, 11, 1, 2, 3, 4, 5, 6, 7, 8, 9, 10, 11, 13, 14, 16, 18, 19, 15, 5, 14, 15, 16, 19, 20, 7, 12, 16, 18, 19, 7, 16, 4, 13, 9, 9, 12, 13, 2, 12, 19, 18, 12, 5, 2, 8, 13, 15, 1, 8, 9, 2, 12, 14, 17, 3, 12, 1, 11, 18, 3, 12, 14, 1, 1, 5, 14, 6, 4, 1, 2, 3, 5, 6, 7, 8, 9, 10, 11, 12, 13, 14, 15, 17, 18, 19, 20, 15, 4, 3, 15, 20, 8, 6, 14, 10, 12, 2, 4, 6, 13, 15, 16, 17, 1, 18, 7, 13, 19, 1, 12, 17, 18, 8, 9, 10, 15, 16, 16, 17, 19, 1, 14, 15, 20, 14, 1, 3, 5, 16, 5, 11, 19, 11, 14, 19, 5, 12, 16, 1, 3, 6, 7, 15, 16, 15, 16, 17, 15, 1, 3, 3, 10, 5, 5, 14, 11, 19, 3, 11, 9, 17, 7, 2, 6, 13, 9, 14, 6, 17, 6, 19, 3, 5, 8, 2, 5, 8, 1, 4, 11, 1, 1, 18, 2, 19, 2, 12, 14, 19, 13, 17, 18, 3, 18, 13, 10, 10, 16, 11, 13, 15, 5, 7, 1, 7, 10, 11, 12, 17, 18, 11, 12, 19, 1, 3, 6, 7, 8, 15, 16, 17, 19, 3, 17, 13, 14, 18, 20, 19, 6, 6, 14, 5, 6, 17, 3, 7, 7, 15, 14, 15, 11, 12, 17, 9, 2, 4, 9, 9, 5, 10, 13, 9, 17, 19, 8, 9, 3, 10, 16, 18, 16, 15, 10, 17, 3, 12, 16, 11, 5, 7, 13, 1, 3, 4, 5, 6, 8, 9, 10, 11, 12, 13, 15, 16, 17, 18, 19, 20, 1, 6, 16, 15, 10, 2, 3, 5, 6, 8, 9, 10, 11, 12, 14, 15, 16, 17, 18, 19, 20, 7, 18, 7, 2, 20, 6, 12, 1, 2, 18, 1, 2, 3, 4, 5, 6, 7, 9, 11, 13, 14, 16, 17, 18, 19, 4, 11, 17, 7, 4, 11, 13, 8, 2, 4, 7, 8, 11, 13, 14, 12, 5, 3, 5, 17, 7, 8, 20, 14, 8, 14, 8, 11, 19, 2, 4, 6, 18, 7, 12, 9, 17, 19, 7, 1, 2, 15, 16, 4, 17, 8, 4, 18, 16, 10, 20, 10, 5, 10, 17, 1, 11, 13, 16, 18, 1, 2, 4, 2, 5, 7, 9, 13, 18, 20, 18, 3, 4, 6, 7, 18, 3, 4, 4, 7, 6, 5, 18, 13, 2, 4, 9, 13, 15, 16, 3, 11, 13, 14, 19, 3, 13, 6, 3, 10, 3, 7, 8, 11, 16, 2, 4, 5, 8, 10, 11, 12, 13, 12, 19, 16, 8, 13, 2, 16, 17, 13, 18, 11, 19, 2, 6, 9, 11, 13, 14, 16, 17, 2, 13, 5, 6, 6, 3, 4, 9, 13, 14, 18, 2, 12, 18, 1, 14, 16, 1, 5, 6, 17, 2, 7, 2, 5, 6, 7, 10, 11, 12, 15, 18, 8, 15, 2, 8, 2, 13, 1, 1, 2, 4, 6, 7, 9, 10, 12, 17, 1, 2, 3, 5, 7, 11, 16, 20, 8, 16, 3, 8, 10, 15, 16, 19, 3, 14, 15, 1, 3, 4, 3, 2, 15, 8, 2, 19, 5, 11, 17, 12, 3, 18, 3, 6, 13, 2, 3, 4, 5, 6, 7, 8, 9, 11, 12, 13, 14, 15, 16, 17, 18, 19, 20, 7, 5, 20, 19, 2, 3, 4, 7, 9, 11, 15, 17, 2, 3, 4, 7, 11, 13, 14, 19, 7, 9, 5, 6, 7, 9, 20, 8, 12, 11, 13, 16, 19, 1, 10, 7, 8, 16, 19, 17, 17, 5, 17, 2, 9, 17, 19, 2, 3, 4, 6, 7, 8, 10, 11, 13, 17, 19, 4, 12, 14, 18, 6, 9, 14, 15, 16, 19, 13, 10, 3, 4, 13, 15, 11, 14, 15, 2, 6, 7, 11, 18, 3, 1, 7, 19, 7, 15, 17, 17, 1, 3, 4, 11, 14, 17, 18, 20, 13, 19, 9, 1, 11, 12, 3, 10, 14, 18, 1, 2, 4, 5, 6, 7, 9, 13, 14, 15, 17, 15, 20, 8, 9, 13, 18, 19, 1, 7, 13, 14, 16, 20, 16, 2, 6, 7, 8, 14, 17, 18, 7, 1, 2, 3, 4, 5, 8, 9, 10, 11, 13, 14, 15, 16, 17, 18, 19, 20, 7, 3, 9, 2, 5, 6, 15, 17, 2, 4, 5, 11, 7, 16, 17, 14], \"Freq\": [0.9854801638320753, 0.9882333293522068, 0.9780594307577498, 0.9891181142949014, 0.9812728111469843, 0.008043219763499872, 0.008043219763499872, 0.9882636131301826, 0.987089984358838, 0.9866286528263364, 0.007123672583583656, 0.003561836291791828, 0.003561836291791828, 0.98922367214227, 0.9851642863663852, 0.993051157262824, 0.9941050598191217, 0.014561620093441509, 0.9610669261671396, 0.9780661891464587, 0.9951080954812429, 0.9884417460093964, 0.9739673878894637, 0.9867509280273206, 0.0063914494222622855, 0.9842832110283919, 0.9843825783621851, 0.9829897543520186, 0.003037890045819176, 0.9690869246163171, 0.024303120366553407, 0.3936157402744204, 0.11056621917820798, 0.05749443397266815, 0.00442264876712832, 0.17248330191800446, 0.12825681424672125, 0.09729827287682302, 0.01769059506851328, 0.01769059506851328, 0.12609504201418273, 0.009954871737961793, 0.8129811919335465, 0.01659145289660299, 0.026546324634564782, 0.006636581158641196, 0.9904033523925344, 0.9238367891306636, 0.004914025474099274, 0.05651129295214166, 0.012285063685248187, 0.9829572660958485, 0.8669967674938747, 0.12385668107055352, 0.995183032217837, 0.9851018844092093, 0.9798199306566107, 0.9899691759793094, 0.9891764040064899, 0.9902174025374122, 0.9888564774937092, 0.9949154622105377, 0.9930472792757865, 0.9766063398854791, 0.005749023535752038, 0.9888320481493506, 0.005749023535752038, 0.9956379009522767, 0.9874598533440989, 0.9905078017177197, 0.7056074221542532, 0.04137821302756423, 0.008711202742645101, 0.006533402056983826, 0.0021778006856612753, 0.19817986239517607, 0.021778006856612755, 0.004355601371322551, 0.0021778006856612753, 0.006533402056983826, 0.0021778006856612753, 0.13145315265478044, 0.09464626991144193, 0.0017527087020637393, 0.4942638539819745, 0.008763543510318696, 0.005258126106191218, 0.0893881438052507, 0.033301465339211044, 0.13495857005890793, 0.0035054174041274787, 0.9933514357069438, 0.9921939999851822, 0.9210374131668225, 0.07549486993170676, 0.0004385303048621813, 0.9967793829517382, 0.0008770606097243626, 0.0008770606097243626, 0.9923086764456407, 0.9824638033179129, 0.9661087241786355, 0.010501181784550385, 0.002625295446137596, 0.005250590892275192, 0.005250590892275192, 0.005250590892275192, 0.002625295446137596, 0.9853279229454167, 0.9899630117792058, 0.9863612575043598, 0.009393916738136759, 0.9910135696639655, 0.9903044707223523, 0.004627590984683889, 0.9865038948206947, 0.005003232458812791, 0.005003232458812791, 0.005003232458812791, 0.0025016162294063957, 0.0025016162294063957, 0.9706270970096815, 0.0025016162294063957, 0.0025016162294063957, 0.0025016162294063957, 0.0025016162294063957, 0.9900003647671781, 0.9899218149316107, 0.9857446612469877, 0.006160904132793673, 0.003621227577845664, 0.7677002465032807, 0.21727365467073984, 0.007242455155691328, 0.9953337793007692, 0.9807363633117212, 0.9786431602083938, 0.9892614491537507, 0.9143785655843825, 0.07882573841244676, 0.9775973872850969, 0.9879190018517329, 0.9890150813803124, 0.9833599879233865, 0.9914882928008728, 0.11070698212360242, 0.002574580979618661, 0.002574580979618661, 0.005149161959237322, 0.8238659134779714, 0.005149161959237322, 0.025745809796186608, 0.025745809796186608, 0.9787559258944754, 0.8829173812570583, 0.10985607969557869, 0.9756391388439716, 0.9818958316764372, 0.010558019695445562, 0.9886785657281711, 0.005554373964765007, 0.982054646766091, 0.01292177166797488, 0.977169626740121, 0.006961118526052938, 0.006961118526052938, 0.001160186421008823, 0.001160186421008823, 0.8898629849137673, 0.001160186421008823, 0.08469360873364408, 0.005800932105044115, 0.03463307621218563, 0.018335157994686508, 0.07130339220155865, 0.00407447955437478, 0.00611171933156217, 0.12936472585139927, 0.00203723977718739, 0.5969112547159052, 0.03463307621218563, 0.023428257437654986, 0.001018619888593695, 0.00611171933156217, 0.00407447955437478, 0.00203723977718739, 0.06621029275859018, 0.009179798520212282, 0.9868283409228203, 0.00247012562039173, 0.978169745675125, 0.00247012562039173, 0.00247012562039173, 0.00247012562039173, 0.00494025124078346, 0.00247012562039173, 0.00247012562039173, 0.9870211584195346, 0.8737002820547113, 0.09798507836127604, 0.016330846393546004, 0.9911982957997328, 0.9773328448753433, 0.004055854553127683, 0.012167563659383047, 0.012167563659383047, 0.01622341821251073, 0.012167563659383047, 0.9409582563256224, 0.9906751925430729, 0.9906425441474989, 0.9905302499334844, 0.005399258517736236, 0.005399258517736236, 0.9880643087457311, 0.9933134382172712, 0.9917968074175617, 0.9903588424806427, 0.9792626344050025, 0.9901141427421442, 0.9915291404745826, 0.9914806758143723, 0.9775246018445972, 0.013390747970473935, 0.9830843583607768, 0.9887477866105758, 0.9900496239582641, 0.9927978718741726, 0.9821804914225042, 0.989059095518503, 0.0012236349479833929, 0.9923679428145316, 0.0012236349479833929, 0.0036709048439501784, 0.989281232301743, 0.9720911794855466, 0.9896298078769525, 0.9869226859804001, 0.9902766574713817, 0.9829803571868401, 0.972864265567157, 0.9867574062142155, 0.9845585280580627, 0.991197575107849, 0.99448957122274, 0.9965969458745403, 0.9783101331037721, 0.975313280058868, 0.9945897581055813, 0.9764158564501763, 0.01859839726571764, 0.9893007557134208, 0.011129375686428447, 0.16508573934868864, 0.003709791895476149, 0.0018548959477380745, 0.11314865281202255, 0.15581125960999825, 0.003709791895476149, 0.009274479738690373, 0.4896925302028517, 0.018548959477380746, 0.02411364732059497, 0.9910624474514509, 0.1743590364271127, 0.09596505105678296, 0.09055856930710506, 0.047306715309681745, 0.03379051093548696, 0.03379051093548696, 0.08380046712000766, 0.06352616055871549, 0.1500298685535621, 0.02432916787355061, 0.09731667149420244, 0.07839398537032974, 0.02432916787355061, 0.9880948361772175, 0.9925488017505992, 0.9933213010245298, 0.9958032975520149, 0.004159731474231711, 0.994175822341379, 0.9875849931420642, 0.9722498804966233, 0.9574751952326367, 0.03860787077550954, 0.9963081397174876, 0.9901163008267886, 0.9811382286275613, 0.010691142432525357, 0.9728939613598075, 0.9874368917460407, 0.9823051580349877, 0.9740204372242037, 0.08387898356550613, 0.8987033953447084, 0.9956023998868966, 0.18270145836349116, 0.004644952331275199, 0.16412164903839035, 0.041804570981476795, 0.11302717339436318, 0.03715961865020159, 0.05264279308778559, 0.0325146663189264, 0.10218895128805439, 0.12076876061315518, 0.08360914196295359, 0.03870793609395999, 0.026321396543892796, 0.9869889299359578, 0.9965295562913236, 0.9880395875972277, 0.9777176637845889, 0.010184558997756134, 0.06012183916710372, 0.11477805659174348, 0.005465621742463975, 0.7597214222024925, 0.027328108712319873, 0.027328108712319873, 0.9879729723903353, 0.9929234245135704, 0.9780450404768035, 0.9904141844143829, 0.9977948874249507, 0.9934823008295095, 0.992139348823001, 0.9807277491090394, 0.9811315865601863, 0.9812582287276037, 0.9708715299954874, 0.2790362573469169, 0.01819801678349458, 0.6975906433672922, 0.9895482985341123, 0.9796884402172884, 0.9948469633795817, 0.9919843599179665, 0.9920465729163487, 0.9904117045120269, 0.9646919079702816, 0.9930093072195258, 0.9878679146465346, 0.9938490781607362, 0.9824740133937985, 0.9893880373942786, 0.9675697765242329, 0.9874565370763789, 0.005511501280527133, 0.9865587292143568, 0.0027557506402635665, 0.9785109778527592, 0.993987070297739, 0.9810943962178253, 0.9728207553878888, 0.9877604202821366, 0.9916001300674383, 0.9940632117307312, 0.9920009772916868, 0.9812405241173084, 0.9945451265751706, 0.9892067727764401, 0.9802171090918056, 0.9883152990057067, 0.9943434172022149, 0.9905348529599061, 0.9847973742718817, 0.009239690884609443, 0.0046198454423047215, 0.979407233768601, 0.9941404397800786, 0.0022092009772890636, 0.9823802063318767, 0.9808297134964497, 0.9909898986325056, 0.9941084347952593, 0.9932762836976256, 0.9898273902265025, 0.004282201445001838, 0.9891885337954245, 0.004282201445001838, 0.9912912698243018, 0.9850958622954428, 0.9961173159330342, 0.0014167954888977992, 0.8019062467161544, 0.0028335909777955984, 0.02408552331126259, 0.0042503864666933976, 0.011334363911182394, 0.0014167954888977992, 0.14592993535647333, 0.005667181955591197, 0.9918318720454342, 0.031168476834774927, 0.0036668796276205793, 0.0018334398138102896, 0.9607224624365918, 0.9685923397700624, 0.9839257904997508, 0.9979339887841054, 0.9886920152112215, 0.9888651436645519, 0.9943259493807116, 0.9915843192506618, 0.9655080855137669, 0.013598705429771363, 0.013598705429771363, 0.990854855843109, 0.015546549938236082, 0.9742504627961278, 0.9518317225990414, 0.0024852003201019358, 0.0422484054417329, 0.9949439166074059, 0.9939269361001781, 0.9789555464931933, 0.001880484018664524, 0.9975967719015298, 0.9801172447165942, 0.9637793810559855, 0.9904030034359864, 0.9923184657100246, 0.010341813372736383, 0.9859195415342019, 0.9952273767013551, 0.9657089827400508, 0.052164699970922906, 0.05961679996676903, 0.8495393995264587, 0.029808399983384515, 0.9899023300992952, 0.9818501607911463, 0.9796563083754812, 0.9842731947258203, 0.9748084447901281, 0.9896545562364073, 0.004624554001104707, 0.9904004435783299, 0.015111212602749011, 0.9671176065759367, 0.990782562158369, 0.98646915924619, 0.8157506896080846, 0.0035936153727228397, 0.0035936153727228397, 0.035936153727228394, 0.10780846118168519, 0.021561692236337037, 0.007187230745445679, 0.9798050729624374, 0.00608164455116291, 0.9913080618395543, 0.9797817918346358, 0.012324299268360197, 0.0030810748170900493, 0.9798056448371342, 0.9869372576502333, 0.9825958460050148, 0.9901584533483525, 0.9952812322175231, 0.9938335956533024, 0.9951748010414458, 0.9878844772227637, 0.9848313457755383, 0.9927250045547509, 0.979458260796788, 0.982850439561719, 0.9949691959804933, 0.00590771098511597, 0.9865877345143669, 0.9876596673152775, 0.0066733761305086325, 0.9881858168045944, 0.9880115659662116, 0.012841910415870968, 0.9117756395268387, 0.06420955207935483, 0.9112074166815863, 0.006156806869470178, 0.08003848930311232, 0.9810145576329629, 0.9925972619666303, 0.9927193328831534, 0.9824923320448411, 0.18475795095180292, 0.11259659637130076, 0.011197451572836541, 0.05847558043592416, 0.0024883225717414535, 0.07153927393756679, 0.057853499792988795, 0.017418258002190174, 0.2730934022486245, 0.006220806429353634, 0.02052866121686699, 0.09766666094085205, 0.023016983788608444, 0.0024883225717414535, 0.0043545645005475435, 0.00933120964403045, 0.043545645005475433, 0.003110403214676817, 0.9832698635084677, 0.11321329394691655, 0.0012173472467410383, 0.7511032512392206, 0.0012173472467410383, 0.006086736233705191, 0.12538676641432694, 0.9519439120996974, 0.018957631250918584, 0.0009027443452818372, 0.0009027443452818372, 0.0018054886905636744, 0.0004513721726409186, 0.004513721726409186, 0.004062349553768268, 0.002708233035845512, 0.0009027443452818372, 0.0004513721726409186, 0.003610977381127349, 0.009027443452818373, 0.9726928798099754, 0.034310746966321616, 0.029164134921373375, 0.0017155373483160809, 0.1844202649439787, 0.7299611417084924, 0.0034310746966321618, 0.0017155373483160809, 0.002573306022474121, 0.0017155373483160809, 0.0017155373483160809, 0.0008577686741580404, 0.0068621493932643236, 0.9898517736703385, 0.010100528302758555, 0.0008605975480236153, 0.7788407809613719, 0.08089616951421984, 0.0008605975480236153, 0.002581792644070846, 0.006884780384188922, 0.0008605975480236153, 0.0008605975480236153, 0.12564724201144783, 0.9733004235977387, 0.9894318786138834, 0.9863568224450487, 0.9947132398800814, 0.9912968980092723, 0.8648256185635392, 0.10875052688523547, 0.020714386073378183, 0.9738008582145165, 0.9839958174450666, 0.9828520722607238, 0.9976817377012633, 0.9926891889815139, 0.003983065023446834, 0.003983065023446834, 0.007966130046893668, 0.9798339957679212, 0.8666558323001246, 0.006933246658400997, 0.11786519319281694, 0.005117974927907074, 0.9877691610860653, 0.06132495133563671, 0.002787497787983487, 0.1728248628549762, 0.7554119005435249, 0.002787497787983487, 0.002787497787983487, 0.2012649128463438, 0.21214409732452455, 0.0407969417931778, 0.0054395922390903725, 0.5357998355504017, 0.9949147807560464, 0.8970576156486973, 0.08823517530970794, 0.9925624535138587, 0.9756910792446724, 0.0022327026985003943, 0.017861621588003154, 0.9834972059460988, 0.008132810486397166, 0.9840700688540572, 0.8075527016161596, 0.178084766076926, 0.0017632155057121387, 0.0017632155057121387, 0.0052896465171364156, 0.0017632155057121387, 0.9902173843698567, 0.9928345596817998, 0.003287531654575496, 0.004844508434367206, 0.009689016868734412, 0.009689016868734412, 0.9737461953078085, 0.9937722604299022, 0.9794198699675909, 0.9912557729236089, 0.9910353526826217, 0.9856878539807516, 0.9893689309457885, 0.28896003343897325, 0.7050624815910947, 0.011308037693007662, 0.9837992792916666, 0.03045781702866391, 0.9594212364029131, 0.004378323927501617, 0.9851228836878638, 0.004378323927501617, 0.9806569835644399, 0.9851956228128181, 0.9908851208849898, 0.9771207072067349, 0.9893127235724191, 0.07969930189244682, 0.9165419717631386, 0.9862108670798723, 0.9711356824086874, 0.018523384200381816, 0.9632159784198544, 0.9770940038114511, 0.9936262180462544, 0.9855610568892489, 0.011199557464650555, 0.985131771253958, 0.9928977731717031, 0.9874440139233976, 0.7553147509417185, 0.24286647940248185, 0.9816533204879918, 0.8915763016934939, 0.08915763016934938, 0.014859605028224898, 0.9927484291129787, 0.008557562646466928, 0.9883984856669302, 0.18371216441391433, 0.007987485409300624, 0.8067360263393629, 0.985644720877071, 0.9878041286585986, 0.9842761951344734, 0.9912843810938466, 0.006589601030800412, 0.07248561133880453, 0.17791922783161113, 0.7380353154496462, 0.004595594767772648, 0.9926484698388919, 0.9900108268667427, 0.9882799472558726, 0.9828925728878365, 0.9881609215441742, 0.14868956232262628, 0.7527409092582955, 0.09293097645164142, 0.9925202662669241, 0.9839825617474462, 0.981245153506602, 0.9551384261805431, 0.03673609331463627, 0.005248013330662325, 0.9922510584132421, 0.9982682904377091, 0.9975262481735573, 0.9887928991231927, 0.006548297345186707, 0.981589617567156, 0.9871702373515786, 0.9699654767443151, 0.017538961155731496, 0.9718647887470041, 0.002063407194791941, 0.0010317035973959705, 0.0010317035973959705, 0.0030951107921879115, 0.0010317035973959705, 0.0010317035973959705, 0.9945132214015278, 0.00805165136756703, 0.9823014668431778, 0.9899006816775723, 0.004303916007293793, 0.004303916007293793, 0.98990315073661, 0.15527257115706866, 0.8165430386724796, 0.0013620400978690236, 0.0006810200489345118, 0.0013620400978690236, 0.014301421027624746, 0.0006810200489345118, 0.0013620400978690236, 0.0034051002446725586, 0.0020430601468035352, 0.0013620400978690236, 0.0013620400978690236, 0.9836897908427861, 0.023335384460077366, 0.0038892307433462275, 0.8906338402262861, 0.007778461486692455, 0.03500307669011605, 0.007778461486692455, 0.03111384594676982, 0.9877279130235007, 0.9908157033040237, 0.016459291638099234, 0.07571274153525648, 0.09546389150097556, 0.8097971485944824, 0.9968836584063474, 0.9969795584006121, 0.9944888277368555, 0.9970560227597495, 0.006118652739599871, 0.9912217438151791, 0.0029524566557290913, 0.9949778929807037, 0.0029524566557290913, 0.9763695952540388, 0.9493642264479958, 0.04173029566804377, 0.9889248644147509, 0.0846857143130853, 0.06048979593791807, 0.0034565597678810323, 0.11060991257219303, 0.0034565597678810323, 0.08122915454520427, 0.09678367350066891, 0.06913119535762065, 0.034565597678810324, 0.015554518955464646, 0.08295743442914479, 0.07950087466126375, 0.0017282798839405162, 0.15381690967070594, 0.06913119535762065, 0.05357667640215601, 0.0017282798839405162, 0.9915318873189322, 0.9944115836400149, 0.9968375930613268, 0.9899351614570736, 0.005561433491331874, 0.00508509663895865, 0.9821500936960135, 0.0007264423769940928, 0.0021793271309822784, 0.0007264423769940928, 0.0007264423769940928, 0.003632211884970464, 0.0029057695079763714, 0.0007264423769940928, 0.0007264423769940928, 0.9952921989049615, 0.9954488178392072, 0.9821158650230725, 0.009443421779068005, 0.15316766001059307, 0.8390923983189011, 0.9873787994098341, 0.9872826740021254, 0.009313987490586088, 0.9872518675067989, 0.993256931057953, 0.9972651386801072, 0.975995744852257, 0.993531205170744, 0.0180329687810057, 0.8655825014882736, 0.0030054947968342835, 0.09817949669658659, 0.001001831598944761, 0.001001831598944761, 0.004007326395779044, 0.001001831598944761, 0.0030054947968342835, 0.0030054947968342835, 0.001001831598944761, 0.002533655547950971, 0.9881256637008787, 0.005067311095901942, 0.002533655547950971, 0.9914029119619253, 0.9758041453940373, 0.9909301773455056, 0.995801810548429, 0.0012248484754593223, 0.9940515730792053, 0.9852244878751645, 0.9797640325657191, 0.9883865243136786, 0.9819846966206495, 0.005556489044629226, 0.9890550499440023, 0.016059766412853057, 0.007137673961268026, 0.04698968691168117, 0.1903379723004807, 0.020223409556926072, 0.09219495533304534, 0.048774105401998176, 0.29859269404637906, 0.0017844184903170065, 0.027955889681633102, 0.09516898615024035, 0.00832728628814603, 0.023197440374121085, 0.03866240062353514, 0.004758449307512017, 0.0005948061634390022, 0.07137673961268026, 0.00832728628814603, 0.1010799757852912, 0.006738665052352747, 0.022462216841175824, 0.43576700671881097, 0.07637153725999779, 0.13252707936293734, 0.015723551788823075, 0.08311020231235054, 0.03369332526176373, 0.07187909389176263, 0.008984886736470328, 0.008984886736470328, 0.19097142718969545, 0.1071303128137316, 0.051236236563089024, 0.0046578396875535475, 0.07219651515707999, 0.0442494770317587, 0.0535651564068658, 0.08617003421974063, 0.006986759531330322, 0.36796933531673026, 0.01164459921888387, 0.01272978532005936, 0.9038147577242146, 0.07637871192035615, 0.8352386533822657, 0.00342310923517322, 0.044500420057251855, 0.10953949552554304, 0.0031986518930841893, 0.9883834349630145, 0.0031986518930841893, 0.9177503299200475, 0.006018034950295393, 0.06619838445324933, 0.0030090174751476965, 0.9850834676509559, 0.9772903402134626, 0.9597258635465362, 0.017449561155391567, 0.017449561155391567, 0.0011475936665294934, 0.002295187333058987, 0.002295187333058987, 0.0011475936665294934, 0.9731594292170104, 0.018361498664471895, 0.9927204962759392, 0.9911635994781653, 0.9974890509245478, 0.012451904199080125, 0.9837004317273299, 0.9830592305185784, 0.9937495057811578, 0.9919787727300768, 0.9970415222444774, 0.9905442350237472, 0.9909299814344446, 0.9950545615661307, 0.9780243692894742, 0.9866773525933433, 0.008532210572432834, 0.9897364264022087, 0.9711685145912414, 0.9875932719060493, 0.9946284815142672, 0.0023184813088910658, 0.11843846617481515, 0.8655118682005722, 0.9962455878510517, 0.9820082661514586, 0.9778115715195015, 0.9878943346078871, 0.006060701439312192, 0.9702009414375118, 0.0016462588499888185, 0.003292517699977637, 0.0016462588499888185, 0.9877553099932911, 0.9860994855226906, 0.07388911895147404, 0.09186214788561639, 0.08786814145580697, 0.007988012859618816, 0.005991009644714112, 0.057913093232236416, 0.06190709966204583, 0.09186214788561639, 0.3614575818977514, 0.06190709966204583, 0.07788312538128346, 0.003994006429809408, 0.003994006429809408, 0.00998501607452352, 0.9924748417261532, 0.9916284559701788, 0.9818958229416141, 0.08665086836438769, 0.14580674965161391, 0.08081859837832314, 0.07248678411251663, 0.03499361991638734, 0.01749680995819367, 0.0474913413150971, 0.11831176257445243, 0.0008331814265806509, 0.02832816850374213, 0.1591376524769043, 0.07331996553909728, 0.04165907132903254, 0.06582133269987142, 0.00916499569238716, 0.01832999138477432, 0.9842519997214372, 0.9494608233079652, 0.003797843293231861, 0.005696764939847792, 0.013292451526311514, 0.017090294819543373, 0.009494608233079653, 0.9927370331648093, 0.95026671999801, 0.007511989881407194, 0.03380395446633237, 0.003755994940703597, 0.9973341758899424, 0.0010724023396666048, 0.9874535081869825, 0.009114955460187531, 0.9945777917693678, 0.9750666974979701, 0.015029894672730422, 0.9769431537274774, 0.9894495535238091, 0.9850501563778109, 0.9930691788571863, 0.988209224056184, 0.9919447933160901, 0.99563927886164, 0.9831843086564362, 0.9815004366433197, 0.036010899772985966, 0.9587902064557513, 0.7461112689487153, 0.25124154974803675, 0.9886494029787944, 0.9793616882756659, 0.018833878620685883, 0.988032188344388, 0.9893729932913611, 0.9786919621463918, 0.989969654347887, 0.9846865171907453, 0.013051252990657515, 0.9853696007946423, 0.09640889148077283, 0.8952254208928906, 0.9833653290628024, 0.9927645955074093, 0.9677871671581599, 0.02730434013925843, 0.0030338155710287144, 0.9875634662873489, 0.9859716789363906, 0.0955699991342832, 0.1553783211731572, 0.07892232186573064, 0.04254406413074542, 0.02836270942049695, 0.025279806222616847, 0.329870642173171, 0.03822799965371328, 0.0024663225583040826, 0.034528515816257155, 0.0006165806395760207, 0.10975135384453168, 0.008015548314488268, 0.016031096628976536, 0.02651296750176889, 0.001849741918728062, 0.004932645116608165, 0.0012331612791520413, 0.9837210783830511, 0.9773608553008218, 0.008387589663243841, 0.9855417854311512, 0.9781078586452185, 0.9857992400863883, 0.9776453516328127, 0.01222056689541016, 0.9860782522800806, 0.9938177386045337, 0.061962214234383375, 0.5731504816680462, 0.01858866427031501, 0.009294332135157506, 0.0030981107117191687, 0.13321876060392426, 0.20137719626174597, 0.9799542234783473, 0.9963631925168067, 0.9524424627591762, 0.018316201206907235, 0.994218548319133, 0.0038733290818897463, 0.007746658163779493, 0.9799522577181059, 0.0038733290818897463, 0.991176815764379, 0.9646005636772886, 0.02296668008755449, 0.13489958271984845, 0.8575759187190365, 0.0038671194753081405, 0.0038671194753081405, 0.989982585678884, 0.9932974682751156, 0.9885496963200116, 0.9952220604590083, 0.9795064255637477, 0.9772263424315628, 0.9901108011744418, 0.22140847945695427, 0.12915494634989, 0.639624496208979, 0.00824160705424387, 0.9807512394550205, 0.9870782088900857, 0.01811548395192591, 0.9601206494520733, 0.01811548395192591, 0.9878455973531703, 0.9944835164115667, 0.9877002371108622, 0.9862615588961265, 0.051378225096141865, 0.0016055695342544333, 0.0016055695342544333, 0.0016055695342544333, 0.9424693166073523, 0.04444473420290196, 0.9277838264855784, 0.016666775326088235, 0.992994376484089, 0.9611073734431995, 0.03825302978878406, 0.015688277577908145, 0.9569849322523969, 0.9913922855352163, 0.9764192022654457, 0.009963461247606588, 0.006957519990107111, 0.9879678385952099, 0.11163319655021268, 0.8813147096069422, 0.9893476885281413, 0.9827684852228348, 0.9790066965902487, 0.9889798288132219, 0.987816746202321, 0.008031030456929438, 0.9922539664489267, 0.9864829334908715, 0.00589729690751522, 0.9848485835550417, 0.9924532974463907, 0.9854359711902796, 0.04539578791402147, 0.0032425562795729617, 0.9435838773557319, 0.9918072453035005, 0.004350031777646932, 0.9722981625845313, 0.7431781756860817, 0.2507844049640276, 0.003058346402000336, 0.9902670374065726, 0.9896578350988635, 0.9849276970573675, 0.94859236819875, 0.03328394274381579, 0.008178658772109028, 0.0027262195907030097, 0.9868914918344894, 0.9907247015849826, 0.6866452442866833, 0.18109325124044393, 0.12827438629531446, 0.9860618227576482, 0.9940625392931927, 0.9811255890112368, 0.9708843478666574, 0.9931334260889894, 0.9923693007224462, 0.0030212950659136055, 0.021149065461395236, 0.9728570112241809, 0.7721697941087748, 0.21519486065326512, 0.9485207565527214, 0.008662290014180105, 0.002165572503545026, 0.030318015049630366, 0.002165572503545026, 0.002165572503545026, 0.004331145007090052, 0.9862265328176454, 0.9964035619111077, 0.9903909933174427, 0.020078397818528503, 0.002677119709137134, 0.001338559854568567, 0.029448316800508474, 0.9249448595068798, 0.001338559854568567, 0.00936991898197997, 0.005354239418274268, 0.002677119709137134, 0.018107660611007884, 0.9778136729944258, 0.9934994250896858, 0.7791787953855198, 0.2016698058644875, 0.009166809357476704, 0.9830646139446959, 0.9920970187509137, 0.9651930348695699, 0.019176020560322582, 0.035108279841303366, 0.9347579507747021, 0.026331209880977525, 0.98749477903219, 0.9822075245400754, 0.9874316096155553, 0.9930262627548294, 0.9959862768267385, 0.9859926484945399, 0.9642579916357183, 0.014949736304429742, 0.007474868152214871, 0.9883369215136022, 0.9811628002188014, 0.9811888423814192, 0.9785916165503264, 0.9810525614005626, 0.8903680684094544, 0.09892978537882827, 0.9949513879607345, 0.9803370633201325, 0.9876848003829681, 0.9880585004795625, 0.99163564375882, 0.9898473439039658, 0.013494762136004198, 0.005060535801001574, 0.9766834095933038, 0.0033736905340010495, 0.9861004933581368, 0.9899105321399815, 0.9895590969573432, 0.9905115165497539, 0.005481878784865903, 0.005481878784865903, 0.9839972418834295, 0.9946976416674232, 0.01740851607974935, 0.08704258039874674, 0.8878343200672167, 0.16241817223685456, 0.11921077385333236, 0.06350966991312904, 0.01874055833502168, 0.0546599618104799, 0.04008397199435193, 0.10359364190748095, 0.02186398472419196, 0.03227540602142623, 0.06038624352395875, 0.034878261345734796, 0.10203192871289582, 0.0702770937563313, 0.030713692826841086, 0.03331654815114966, 0.03383711921601137, 0.018219987270159967, 0.0027255640752870203, 0.9948308874797623, 0.9873087856436688, 0.9826271079963612, 0.9912487212572622, 0.9792351223277068, 0.0004973261159612528, 0.0009946522319225057, 0.002486630579806264, 0.0004973261159612528, 0.0034812828117287697, 0.0009946522319225057, 0.0004973261159612528, 0.003978608927690023, 0.0004973261159612528, 0.0014919783478837584, 0.0009946522319225057, 0.0009946522319225057, 0.0004973261159612528, 0.0019893044638450113, 0.0004973261159612528, 0.9895063186590591, 0.9855362153656188, 0.9876822090247196, 0.9940371338036142, 0.9843817925644622, 0.9906544353933646, 0.9916095321763407, 0.9729545683304044, 0.9865067742555188, 0.9893040097114071, 0.0008820763483030793, 0.007938687134727713, 0.01146699252794003, 0.0052924580898184755, 0.701250696900948, 0.0008820763483030793, 0.0008820763483030793, 0.13054729954885572, 0.009702839831333871, 0.0008820763483030793, 0.010584916179636951, 0.0017641526966061586, 0.09085386387521716, 0.024698137752486218, 0.0008820763483030793, 0.778007097350868, 0.01741806934367615, 0.20321080900955507, 0.9834082691242605, 0.025483477958419695, 0.008494492652806565, 0.9598776697671418, 0.9950067431013608, 0.039190427485832305, 0.017813830675378322, 0.017813830675378322, 0.7410553560957381, 0.017813830675378322, 0.10332021791719426, 0.06056702429628629, 0.9906159658163308, 0.9894433944572719, 0.9892713727335092, 0.014868146259031864, 0.9738635799665871, 0.9728016195489525, 0.9788120073231428, 0.01604609848070726, 0.9864124023718268, 0.9914104177273133, 0.9807018051435853, 0.9885753224056557, 0.9844731699470194, 0.9860192869196804, 0.6299645242446368, 0.008076468259546625, 0.258446984305492, 0.10095585324433282, 0.9910710430437267, 0.9837197034476308, 0.0016200629396630121, 0.004860188818989036, 0.9898584561341004, 0.9913007905834136, 0.20092139349190427, 0.012055283609514255, 0.1084975524856283, 0.6750958821327984, 0.9896237896369756, 0.008316166299470382, 0.9844798307597362, 0.9945798433174329, 0.9853054729063657, 0.9943667228111258, 0.9892577810473236, 0.9878744220811624, 0.9902290529166422, 0.9867483845746547, 0.007746587376164697, 0.9838165967729164, 0.9905825402045928, 0.9824857194656732, 0.005282181287449856, 0.005282181287449856, 0.005282181287449856, 0.013210429363934928, 0.013210429363934928, 0.9643613435672498, 0.0026547902365548944, 0.9769628070522012, 0.0026547902365548944, 0.0026547902365548944, 0.005309580473109789, 0.0026547902365548944, 0.010619160946219577, 0.9881595144831796, 0.06776082900670902, 0.013552165801341803, 0.796867349118898, 0.013552165801341803, 0.10570689325046606, 0.9890739520665911, 0.9842637823615091, 0.9834220134486863, 0.9865934941792256, 0.9950184786820793, 0.9782373520855852, 0.9971961007333195, 0.9938400565735619, 0.008334040293603554, 0.005556026862402369, 0.005556026862402369, 0.008334040293603554, 0.9389685397460004, 0.030558147743213027, 0.012197078668731652, 0.04268977534056078, 0.07928101134675573, 0.8598940461455814, 0.9943188105545833, 0.8174897186662421, 0.17684471465024829, 0.9962637192062199, 0.9867936765000064, 0.008580814578260926, 0.001640440978562126, 0.004921322935686378, 0.001640440978562126, 0.001640440978562126, 0.989185910072962, 0.6887550033367575, 0.10255104677448704, 0.1496690952924946, 0.004157474869235961, 0.03741727382312365, 0.004157474869235961, 0.012472424607707883, 0.001385824956411987, 0.9897489018116178, 0.006554628488818661, 0.9873197163410603, 0.9185593436406243, 0.07126753528246223, 0.9229098522712947, 0.015912238832263705, 0.04773671649679111, 0.002877327442597862, 0.9926779676962623, 0.9804033332064255, 0.017664924922638298, 0.9730810769093163, 0.979533716850428, 0.0030900117250802148, 0.0015450058625401074, 0.0015450058625401074, 0.0015450058625401074, 0.0015450058625401074, 0.007725029312700536, 0.016656608461569373, 0.9799637978223315, 0.9916499312051182, 0.9933590893558, 0.9913269107543619, 0.02834257738548644, 0.0054504956510550845, 0.0010900991302110169, 0.0010900991302110169, 0.9614674328461169, 0.0010900991302110169, 0.008128855369307467, 0.981965728612342, 0.006503084295445973, 0.7646051063097193, 0.22872802325504424, 0.006535086378715549, 0.7793130099710303, 0.0056471957244277554, 0.20894624180382695, 0.9915170838840477, 0.9823396151526005, 0.011037523765759557, 0.015652088585543122, 0.12882872912716262, 0.20708917205487823, 0.08668849062762345, 0.3696300919816722, 0.1529088654126136, 0.002408013628545096, 0.004816027257090192, 0.03250818398535879, 0.9833123901742793, 0.989564778120098, 0.9687659667826407, 0.9839253683004786, 0.001419148495550762, 0.9962422438766348, 0.9711000992085345, 0.0031650426680622564, 0.9685030564270504, 0.0015825213340311282, 0.0015825213340311282, 0.0015825213340311282, 0.00791260667015564, 0.006330085336124513, 0.00791260667015564, 0.0015825213340311282, 0.0744839695951587, 0.06793592831206782, 0.09085407280288588, 0.747295211432746, 0.006548041283090874, 0.012277577405795388, 0.986878279897195, 0.978774519015915, 0.9914778339559019, 0.9930766942422133, 0.05225589018665235, 0.0022236549015596744, 0.0011118274507798372, 0.9394941959089625, 0.0011118274507798372, 0.0022236549015596744, 0.8843090673029625, 0.010917395892629168, 0.09825656303366251, 0.0038677435902075828, 0.9901423590931412, 0.9863482434852927, 0.9890980330736584, 0.9826107987458044, 0.9930228907630396, 0.9905391782893608, 0.012802155605451636, 0.985765981619776, 0.9814861954031744, 0.9827327720759323, 0.9848947694106785, 0.9910124131225077, 0.978946922169408, 0.9808751345006632, 0.995926655864129, 0.0033197555195470965, 0.9901781102199714, 0.0741307998689252, 0.05601929762822189, 0.23207994731691925, 0.00505437271833581, 0.032011027216126794, 0.0475953430976622, 0.03664420220793462, 0.01432072270195146, 0.016426711334591382, 0.03580180675487865, 0.05391330899558197, 0.043383365832382365, 0.03580180675487865, 0.0016847909061119366, 0.1541583679092422, 0.07792157940767706, 0.04548935446502229, 0.037486597660990585, 0.9898184525019833, 0.990443503097684, 0.9840575405427417, 0.9972468635081885, 0.03799380078407814, 0.022349294578869493, 0.008939717831547797, 0.08269238994181712, 0.02458422403675644, 0.7777554513446583, 0.033523941868304236, 0.008939717831547797, 0.001931832333180983, 0.01352282633226688, 0.12170543699040193, 0.8422788972669086, 0.003863664666361966, 0.003863664666361966, 0.011590993999085898, 0.9979549441497063, 0.9865719709543588, 0.009865719709543587, 0.002467084387100794, 0.002467084387100794, 0.9893008392274185, 0.9923361288183321, 0.9915559905770207, 0.014566810780513384, 0.9759763222943967, 0.9549390162861003, 0.0063240994456033135, 0.0063240994456033135, 0.03162049722801657, 0.9902029681479102, 0.9807002876021159, 0.06801812279007183, 0.9151529248118754, 0.012366931416376695, 0.0030917328540941737, 0.989410918305747, 0.9861528429684481, 0.99063740812606, 0.990055698430045, 0.9900086872854297, 0.9828992707401619, 0.9915396521604003, 0.9888099036815804, 0.08319252202355455, 0.00779929893970824, 0.01906495296373125, 0.12045583917993836, 0.0008665887710786933, 0.044196027325013355, 0.596213074502141, 0.0008665887710786933, 0.0008665887710786933, 0.12565537180641054, 0.0008665887710786933, 0.01654334556515441, 0.008271672782577205, 0.9553782063876672, 0.012407509173865808, 0.9858783961002253, 0.986986183253623, 0.003036880563857301, 0.003036880563857301, 0.003036880563857301, 0.9944151490033994, 0.9927781428505603, 0.9963096105360792, 0.0017638962557192473, 0.995719436353515, 0.0008819481278596236, 0.0008819481278596236, 0.9387539960010656, 0.05747473444904483, 0.9942847150574807, 0.004175160274795001, 0.0020875801373975004, 0.10437900686987502, 0.8371196350963976, 0.050101923297540006, 0.9925866522661677, 0.9948472340826291, 0.00204280746218199, 0.9880096792128926, 0.979732519296055, 0.00852442767836812, 0.9888336106907017, 0.9877991620813003, 0.6199627014248433, 0.19058112673430366, 0.0022961581534253453, 0.16991570335347556, 0.0022961581534253453, 0.011480790767126728, 0.0022961581534253453, 0.9788801809615114, 0.9942396688619135, 0.991981639831413, 0.9915350813161877, 0.8370763813524339, 0.06696611050819472, 0.07812712892622717, 0.0021906163485066106, 0.006571849045519831, 0.9835867404794681, 0.004381232697013221, 0.07963803800036429, 0.012574427052689097, 0.7460826717928865, 0.004191475684229699, 0.0062872135263445485, 0.008382951368459398, 0.0020957378421148495, 0.0062872135263445485, 0.12155279484266128, 0.0020957378421148495, 0.008382951368459398, 0.9838929835577122, 0.9884400257733288, 0.9955117063156553, 0.9932445251623905, 0.9811156129156888, 0.9943530818749531, 0.0029593841722468845, 0.03569704258055879, 0.9523970960493084, 0.0014278817032223514, 0.004283645109667054, 0.002855763406444703, 0.0014278817032223514, 0.9800024906622852, 0.14059600002044892, 0.02756784314126449, 0.19297490198885145, 0.002756784314126449, 0.02756784314126449, 0.13232564707806957, 0.4769236863438757, 0.9902144405853632, 0.04470327955170204, 0.15336663600045466, 0.11347755578508978, 0.06120910584771509, 0.05845813479837959, 0.06808653347105387, 0.10316141435008162, 0.13342209589277224, 0.01856905458301469, 0.04332779402703428, 0.005501942098671019, 0.024070996681685712, 0.022695511157017956, 0.025446482206353465, 0.03163616706735836, 0.08321687424239918, 0.008940655910340408, 0.9957951199610913, 0.0037431300998475186, 0.9919294764595925, 0.0023658021092149784, 0.004731604218429957, 0.9747104689965711, 0.01419481265528987, 0.0023658021092149784, 0.0036643117722645817, 0.15756540620737702, 0.007328623544529163, 0.824470148759531, 0.005091771193785701, 0.005091771193785701, 0.9878036115944261, 0.9712166610591362], \"Term\": [\"absolutely\", \"accept\", \"accord\", \"account\", \"act\", \"act\", \"act\", \"action\", \"actual\", \"actually\", \"actually\", \"actually\", \"actually\", \"ad\", \"add\", \"address\", \"administration\", \"afraid\", \"afraid\", \"agenda\", \"agree\", \"ahead\", \"air\", \"alive\", \"allow\", \"allow\", \"almost\", \"alone\", \"already\", \"already\", \"already\", \"also\", \"also\", \"also\", \"also\", \"also\", \"also\", \"also\", \"also\", \"also\", \"always\", \"always\", \"always\", \"always\", \"always\", \"always\", \"amazing\", \"american\", \"american\", \"american\", \"american\", \"anger\", \"answer\", \"answer\", \"anymore\", \"apparently\", \"appear\", \"appreciate\", \"argue\", \"arrest\", \"article\", \"ask\", \"ass\", \"asshole\", \"attack\", \"attack\", \"attack\", \"away\", \"awesome\", \"baby\", \"back\", \"back\", \"back\", \"back\", \"back\", \"back\", \"back\", \"back\", \"back\", \"back\", \"back\", \"bad\", \"bad\", \"bad\", \"bad\", \"bad\", \"bad\", \"bad\", \"bad\", \"bad\", \"bad\", \"ball\", \"bar\", \"base\", \"base\", \"be\", \"be\", \"be\", \"be\", \"become\", \"begin\", \"believe\", \"believe\", \"believe\", \"believe\", \"believe\", \"believe\", \"believe\", \"belong\", \"benghazi\", \"best\", \"best\", \"bet\", \"better\", \"better\", \"bias\", \"big\", \"big\", \"big\", \"big\", \"big\", \"big\", \"big\", \"big\", \"big\", \"big\", \"bigly\", \"bit\", \"bitch\", \"bitch\", \"black\", \"black\", \"black\", \"black\", \"blame\", \"blast\", \"block\", \"book\", \"border\", \"border\", \"boss\", \"box\", \"boy\", \"brain\", \"break\", \"bring\", \"bring\", \"bring\", \"bring\", \"bring\", \"bring\", \"bring\", \"bring\", \"bro\", \"build\", \"build\", \"bully\", \"business\", \"business\", \"buy\", \"buy\", \"caign\", \"caign\", \"caigne\", \"call\", \"call\", \"call\", \"call\", \"call\", \"call\", \"call\", \"call\", \"can\", \"can\", \"can\", \"can\", \"can\", \"can\", \"can\", \"can\", \"can\", \"can\", \"can\", \"can\", \"can\", \"can\", \"can\", \"candidate\", \"candidate\", \"care\", \"care\", \"care\", \"care\", \"care\", \"care\", \"care\", \"care\", \"case\", \"catch\", \"catch\", \"catch\", \"cause\", \"chance\", \"change\", \"change\", \"change\", \"change\", \"change\", \"change\", \"charge\", \"charity\", \"cheat\", \"check\", \"check\", \"check\", \"child\", \"choice\", \"choo\", \"choose\", \"citizen\", \"claim\", \"clean\", \"clear\", \"clear\", \"clearly\", \"clinton\", \"clinton_foundation\", \"close\", \"coal\", \"college\", \"come\", \"come\", \"come\", \"come\", \"comment\", \"commit\", \"company\", \"compare\", \"complete\", \"completely\", \"concern\", \"conference\", \"confirm\", \"consider\", \"continue\", \"control\", \"cool\", \"correct\", \"corrupt\", \"corruption\", \"corruption\", \"cost\", \"could\", \"could\", \"could\", \"could\", \"could\", \"could\", \"could\", \"could\", \"could\", \"could\", \"could\", \"count\", \"country\", \"country\", \"country\", \"country\", \"country\", \"country\", \"country\", \"country\", \"country\", \"country\", \"country\", \"country\", \"country\", \"course\", \"cover\", \"crap\", \"crazy\", \"create\", \"create\", \"credibility\", \"credit\", \"crime\", \"crime\", \"criminal\", \"crook\", \"crooked\", \"crookedhillary\", \"crookedhillary\", \"crowd\", \"cut\", \"daily\", \"damn\", \"damn\", \"dangerous\", \"day\", \"day\", \"day\", \"day\", \"day\", \"day\", \"day\", \"day\", \"day\", \"day\", \"day\", \"day\", \"day\", \"dead\", \"deal\", \"dear\", \"death\", \"death\", \"debate\", \"debate\", \"debate\", \"debate\", \"debate\", \"debate\", \"decision\", \"defend\", \"define\", \"definitely\", \"delete\", \"delusional\", \"dem\", \"demand\", \"democracy\", \"deny\", \"depend\", \"deport\", \"deport\", \"deport\", \"deserve\", \"desperate\", \"destroy\", \"die\", \"difference\", \"diplomacy\", \"dirt\", \"disaster\", \"discuss\", \"disgrace\", \"disgusting\", \"dishonest\", \"disrespectful\", \"divide\", \"do\", \"do\", \"do\", \"dollar\", \"donate\", \"donation\", \"donor\", \"dream\", \"drink\", \"drop\", \"drug\", \"dude\", \"dumb\", \"early\", \"earn\", \"easy\", \"eat\", \"economy\", \"effective\", \"elect\", \"elect\", \"elect\", \"election\", \"election\", \"else\", \"embarrassing\", \"embarrassment\", \"end\", \"enemy\", \"energy\", \"enough\", \"enough\", \"enough\", \"entire\", \"epic\", \"epipen_pricegouge\", \"even\", \"even\", \"even\", \"even\", \"even\", \"even\", \"even\", \"even\", \"even\", \"event\", \"ever\", \"ever\", \"ever\", \"ever\", \"everyday\", \"evil\", \"exactly\", \"excellent\", \"exle\", \"expect\", \"explain\", \"expose\", \"expose\", \"expose\", \"eye\", \"face\", \"face\", \"fact\", \"fact\", \"fact\", \"fail\", \"failure\", \"fair\", \"fake\", \"fake\", \"fakenew\", \"fakepresident\", \"fall\", \"false\", \"family\", \"family\", \"fan\", \"fantastic\", \"far\", \"far\", \"far\", \"far\", \"fast\", \"fat\", \"favor\", \"fear\", \"feed\", \"feel\", \"feel\", \"fight\", \"figure\", \"figure\", \"fill\", \"finally\", \"find\", \"find\", \"find\", \"find\", \"find\", \"find\", \"find\", \"fine\", \"fire\", \"fire\", \"first\", \"first\", \"first\", \"fix\", \"flag\", \"fly\", \"focus\", \"follow\", \"follower\", \"fool\", \"force\", \"foreign\", \"forget\", \"form\", \"foundation\", \"fraud\", \"free\", \"free\", \"friend\", \"friend\", \"front\", \"fuck\", \"fucking\", \"fucking\", \"fucking\", \"full\", \"full\", \"full\", \"fund\", \"funny\", \"future\", \"game\", \"get\", \"get\", \"get\", \"get\", \"get\", \"get\", \"get\", \"get\", \"get\", \"get\", \"get\", \"get\", \"get\", \"get\", \"get\", \"get\", \"get\", \"get\", \"girl\", \"give\", \"give\", \"give\", \"give\", \"give\", \"give\", \"go\", \"go\", \"go\", \"go\", \"go\", \"go\", \"go\", \"go\", \"go\", \"go\", \"go\", \"go\", \"go\", \"golf\", \"good\", \"good\", \"good\", \"good\", \"good\", \"good\", \"good\", \"good\", \"good\", \"good\", \"good\", \"good\", \"government\", \"government\", \"great\", \"great\", \"great\", \"great\", \"great\", \"great\", \"great\", \"great\", \"great\", \"gross\", \"group\", \"grow\", \"guess\", \"gun\", \"guy\", \"guy\", \"guy\", \"hack\", \"hair\", \"half\", \"hand\", \"handle\", \"happen\", \"happen\", \"happen\", \"happen\", \"happy\", \"happy\", \"happy\", \"hard\", \"hard\", \"hate\", \"hate\", \"hate\", \"hate\", \"hate\", \"hate\", \"have\", \"have\", \"have\", \"have\", \"have\", \"head\", \"health\", \"health\", \"healthcare\", \"hear\", \"hear\", \"hear\", \"heart\", \"hell\", \"hell\", \"help\", \"help\", \"help\", \"help\", \"help\", \"help\", \"here\", \"hide\", \"hide\", \"high\", \"high\", \"high\", \"high\", \"hillaryclinton\", \"hillarys\", \"hire\", \"hispanic\", \"history\", \"hit\", \"hold\", \"hold\", \"home\", \"home\", \"honest\", \"honest\", \"hope\", \"hope\", \"hope\", \"hopefully\", \"horrible\", \"hour\", \"house\", \"how\", \"huge\", \"huge\", \"human\", \"hundred\", \"hurt\", \"hurt\", \"hypocrite\", \"idea\", \"idiot\", \"idiot\", \"ignorant\", \"ignore\", \"ill\", \"illegal\", \"illegal\", \"illegal_immigrant\", \"illegally\", \"illegally\", \"illegally\", \"immigrant\", \"immigration\", \"immigration\", \"impact_transparency\", \"impact_transparency\", \"impact_transparency\", \"impeach\", \"impeachment\", \"impeachtrump\", \"important\", \"important_fact\", \"important_fact\", \"important_fact\", \"important_fact\", \"imwithher\", \"imwithher\", \"include\", \"info\", \"inherit\", \"insane\", \"instead\", \"instead\", \"instead\", \"insult\", \"insurance\", \"invite\", \"issue\", \"issue\", \"issue\", \"jail\", \"job\", \"join\", \"joke\", \"joke\", \"journalist\", \"judge_garland\", \"justice\", \"keep\", \"keep\", \"keep\", \"keep\", \"keep\", \"keep\", \"keep\", \"keep\", \"kick\", \"kid\", \"kid\", \"kill\", \"kill\", \"kill\", \"kind\", \"know\", \"know\", \"know\", \"know\", \"know\", \"know\", \"know\", \"know\", \"know\", \"know\", \"know\", \"know\", \"large\", \"last\", \"last\", \"last\", \"last\", \"last\", \"last\", \"last\", \"late\", \"laugh\", \"law\", \"law\", \"law\", \"law\", \"lead\", \"leader\", \"leak\", \"learn\", \"least\", \"least\", \"leave\", \"leave\", \"leave\", \"left\", \"legal\", \"legal\", \"less\", \"let\", \"let\", \"let\", \"let\", \"let\", \"let\", \"let\", \"let\", \"let\", \"let\", \"let\", \"let\", \"let\", \"let\", \"let\", \"let\", \"let\", \"letter\", \"level\", \"liar\", \"liberal\", \"liberal\", \"lie\", \"lie\", \"lie\", \"lie\", \"lie\", \"lie\", \"lie\", \"lie\", \"lie\", \"lie\", \"life\", \"like\", \"limbaugh\", \"limbaugh\", \"line\", \"line\", \"list\", \"listen\", \"listen\", \"literally\", \"little\", \"live\", \"lock\", \"long\", \"look\", \"look\", \"look\", \"look\", \"look\", \"look\", \"look\", \"look\", \"look\", \"look\", \"look\", \"lose\", \"lose\", \"lose\", \"lose\", \"loser\", \"loss\", \"lot\", \"love\", \"love\", \"low\", \"lunatic\", \"lying\", \"machine\", \"mad\", \"maga\", \"maga\", \"make\", \"make\", \"make\", \"make\", \"make\", \"make\", \"make\", \"make\", \"make\", \"make\", \"make\", \"make\", \"make\", \"make\", \"make\", \"make\", \"make\", \"make\", \"man\", \"man\", \"man\", \"man\", \"man\", \"man\", \"man\", \"man\", \"man\", \"man\", \"man\", \"man\", \"many\", \"many\", \"many\", \"many\", \"many\", \"many\", \"many\", \"many\", \"many\", \"many\", \"many\", \"matter\", \"matter\", \"matter\", \"may\", \"may\", \"may\", \"may\", \"maybe\", \"maybe\", \"maybe\", \"mean\", \"mean\", \"mean\", \"mean\", \"meaning\", \"measure\", \"media\", \"media\", \"media\", \"medium\", \"medium\", \"medium\", \"medium\", \"medium\", \"medium\", \"meet\", \"meeting\", \"member\", \"mental\", \"mental\", \"mention\", \"mess\", \"message\", \"mexican\", \"military\", \"million\", \"mind\", \"mine\", \"miss\", \"mm_page\", \"mm_page\", \"mock\", \"moment\", \"money\", \"money\", \"month\", \"month\", \"morning\", \"moron\", \"mouth\", \"move\", \"move\", \"msm\", \"much\", \"much\", \"much\", \"much\", \"murder\", \"must\", \"must\", \"must\", \"must\", \"must\", \"must\", \"must\", \"must\", \"must\", \"must\", \"must\", \"must\", \"must\", \"must\", \"name\", \"nation\", \"nee\", \"need\", \"need\", \"need\", \"need\", \"need\", \"need\", \"need\", \"need\", \"need\", \"need\", \"need\", \"need\", \"need\", \"need\", \"need\", \"need\", \"negative\", \"never\", \"never\", \"never\", \"never\", \"never\", \"never\", \"neverhillary\", \"new\", \"new\", \"new\", \"new\", \"news\", \"news\", \"next\", \"next\", \"nice\", \"non\", \"none\", \"none\", \"nonsense\", \"normal\", \"notice\", \"number\", \"offer\", \"office\", \"official\", \"ok\", \"old\", \"old\", \"open\", \"open\", \"opinion\", \"opposite\", \"opposite\", \"order\", \"other\", \"own\", \"pander\", \"paper\", \"part\", \"part\", \"party\", \"party\", \"pass\", \"pathetic\", \"pay\", \"pay\", \"pay\", \"peace\", \"penny\", \"people\", \"people\", \"people\", \"people\", \"people\", \"people\", \"people\", \"people\", \"people\", \"people\", \"people\", \"people\", \"people\", \"people\", \"people\", \"people\", \"people\", \"people\", \"perhaps\", \"period\", \"person\", \"person\", \"personal\", \"pick\", \"piece\", \"piece\", \"pity\", \"place\", \"plan\", \"plan\", \"plan\", \"plan\", \"plan\", \"plan\", \"plan\", \"plane\", \"play\", \"pocket\", \"pocket\", \"point\", \"policy\", \"policy\", \"policy\", \"policy\", \"politic\", \"political\", \"political\", \"politician\", \"politician\", \"poll\", \"poll\", \"poll\", \"poor\", \"popular\", \"position\", \"positive\", \"possible\", \"post\", \"potu\", \"potu\", \"potu\", \"power\", \"power\", \"powerful\", \"ppl\", \"ppl\", \"ppl\", \"praise\", \"pray\", \"pre\", \"presidency\", \"president\", \"president\", \"president\", \"president\", \"president\", \"presidential\", \"presidential\", \"presidential\", \"press\", \"press_conference\", \"press_conference\", \"pretty\", \"pretty\", \"price\", \"prison\", \"prison\", \"probably\", \"probably\", \"problem\", \"problem\", \"promise\", \"proof\", \"propaganda\", \"protect\", \"proud\", \"proud\", \"prove\", \"provide\", \"public\", \"public\", \"puppet\", \"push\", \"put\", \"put\", \"put\", \"pwilliam\", \"pwilliam\", \"qualified\", \"question\", \"question\", \"question\", \"quit\", \"quite\", \"race\", \"racism\", \"racism\", \"racist\", \"racist\", \"racist\", \"raise\", \"rally\", \"rally\", \"rally\", \"rant\", \"rape\", \"rapist\", \"rat\", \"rather\", \"rating\", \"read\", \"read\", \"read\", \"ready\", \"ready\", \"real\", \"real\", \"real\", \"real\", \"real\", \"real\", \"real\", \"realdonaldtrump\", \"reality\", \"realize\", \"really\", \"really\", \"really\", \"really\", \"really\", \"really\", \"really\", \"really\", \"really\", \"reason\", \"reason\", \"recess\", \"record\", \"record\", \"record\", \"refuse\", \"rein\", \"release\", \"release\", \"remember\", \"remember\", \"remember\", \"remind\", \"repeal\", \"repeat\", \"replace\", \"replacement\", \"reply\", \"report\", \"report\", \"report\", \"reporter\", \"represent\", \"republican\", \"research\", \"resign\", \"resist\", \"resist\", \"respect\", \"response\", \"rest\", \"retweete\", \"review\", \"rich\", \"right\", \"right\", \"right\", \"right\", \"rise\", \"rock\", \"room\", \"rule\", \"run\", \"run\", \"run\", \"rush\", \"russian\", \"russian\", \"russian\", \"s\", \"s\", \"s\", \"s\", \"s\", \"s\", \"s\", \"s\", \"s\", \"s\", \"s\", \"s\", \"s\", \"s\", \"s\", \"s\", \"s\", \"sad\", \"sad\", \"safe\", \"sarcastic\", \"save\", \"say\", \"say\", \"say\", \"say\", \"say\", \"say\", \"say\", \"say\", \"say\", \"say\", \"say\", \"say\", \"say\", \"say\", \"say\", \"say\", \"scandal\", \"scare\", \"scared\", \"scary\", \"school\", \"screw\", \"second\", \"secret\", \"secure\", \"security\", \"see\", \"see\", \"see\", \"see\", \"see\", \"see\", \"see\", \"see\", \"see\", \"see\", \"see\", \"see\", \"see\", \"see\", \"see\", \"seem\", \"seem\", \"seem\", \"self\", \"sell\", \"sell\", \"sell\", \"senate_leader\", \"send\", \"send\", \"send\", \"send\", \"send\", \"send\", \"send\", \"sense\", \"sentence\", \"serious\", \"seriously\", \"seriously\", \"serve\", \"server\", \"server\", \"service\", \"set\", \"several\", \"shame\", \"share\", \"ship\", \"shit\", \"shit\", \"shit\", \"shit\", \"short\", \"should\", \"show\", \"show\", \"show\", \"shut\", \"sick\", \"sick\", \"sick\", \"sick\", \"side\", \"side\", \"sign\", \"simply\", \"sit\", \"sleep\", \"slow\", \"small\", \"smart\", \"son\", \"soon\", \"soon\", \"sorry\", \"sound\", \"sound\", \"sound\", \"sound\", \"source\", \"source\", \"source\", \"speak\", \"speak\", \"speak\", \"speak\", \"speak\", \"speak\", \"speak\", \"special\", \"speech\", \"speech\", \"speech\", \"speech\", \"speech\", \"spend\", \"spin\", \"spotlight\", \"spread\", \"staff\", \"stage\", \"stand\", \"star\", \"start\", \"start\", \"start\", \"start\", \"start\", \"start\", \"state\", \"state\", \"state\", \"state\", \"statement\", \"stay\", \"stay\", \"steal\", \"step\", \"step\", \"still\", \"still\", \"still\", \"still\", \"still\", \"stop\", \"stop\", \"stop\", \"stop\", \"stop\", \"stop\", \"stop\", \"stop\", \"story\", \"story\", \"straight\", \"strong\", \"strong\", \"stuff\", \"stuff\", \"stuff\", \"stupid\", \"stupid\", \"suck\", \"suck\", \"suggest\", \"support\", \"support\", \"support\", \"support\", \"support\", \"support\", \"support\", \"supporter\", \"supporter\", \"suppose\", \"sure\", \"system\", \"take\", \"take\", \"take\", \"take\", \"take\", \"take\", \"talk\", \"talk\", \"talk\", \"tax\", \"tax\", \"tax\", \"taxis\", \"taxis\", \"taxis\", \"taxpayer\", \"team\", \"team\", \"tell\", \"tell\", \"tell\", \"tell\", \"tell\", \"tell\", \"tell\", \"tell\", \"tell\", \"term\", \"terrible\", \"terrorism\", \"terrorist\", \"thank\", \"thank\", \"there\", \"thing\", \"thing\", \"thing\", \"thing\", \"thing\", \"thing\", \"thing\", \"thing\", \"thing\", \"think\", \"think\", \"think\", \"think\", \"think\", \"think\", \"thought\", \"thousands_reminding\", \"throw\", \"tie\", \"time\", \"time\", \"time\", \"time\", \"time\", \"time\", \"tired\", \"tired\", \"tired\", \"today\", \"today\", \"together\", \"tomorrow\", \"tone\", \"top\", \"total\", \"totally\", \"totally\", \"train\", \"traitor\", \"travel\", \"treason\", \"treat\", \"troll\", \"true\", \"true\", \"truly\", \"trump\", \"trump\", \"trump\", \"trump\", \"trump\", \"trump\", \"trump\", \"trump\", \"trump\", \"trump\", \"trump\", \"trump\", \"trump\", \"trump\", \"trump\", \"trump\", \"trump\", \"trump\", \"trumppence\", \"trumptrain\", \"trumptrain_member\", \"trust\", \"truth\", \"truth\", \"truth\", \"truth\", \"truth\", \"truth\", \"truth\", \"truth\", \"try\", \"try\", \"try\", \"try\", \"try\", \"try\", \"try\", \"turn\", \"tv\", \"tv\", \"tweet\", \"tweet\", \"tweet\", \"twitter\", \"typical\", \"ugly\", \"ugly\", \"understand\", \"understand\", \"understand\", \"understand\", \"unfit\", \"uranium\", \"use\", \"use\", \"use\", \"use\", \"usual\", \"value\", \"vet\", \"veteran\", \"video\", \"view\", \"visit\", \"voice\", \"vote\", \"vote\", \"vote\", \"vote\", \"vote\", \"vote\", \"vote\", \"vote\", \"vote\", \"vote\", \"vote\", \"voter\", \"voter\", \"voter\", \"voter\", \"voting\", \"wait\", \"wait\", \"wait\", \"wait\", \"wake\", \"walk\", \"wall\", \"want\", \"want\", \"want\", \"want\", \"war\", \"war\", \"waste\", \"watch\", \"watch\", \"watch\", \"watch\", \"watch\", \"water\", \"way\", \"way\", \"weak\", \"wear\", \"week\", \"week\", \"welcome\", \"well\", \"well\", \"well\", \"well\", \"well\", \"well\", \"well\", \"where\", \"white\", \"white_supremacist\", \"whole\", \"wife\", \"wife\", \"wife\", \"will\", \"will\", \"will\", \"will\", \"win\", \"win\", \"win\", \"win\", \"win\", \"win\", \"win\", \"win\", \"win\", \"win\", \"win\", \"wish\", \"witness\", \"woman\", \"wonder\", \"wonderful\", \"word\", \"word\", \"work\", \"work\", \"work\", \"work\", \"work\", \"work\", \"worker\", \"world\", \"world\", \"world\", \"world\", \"world\", \"world\", \"world\", \"worry\", \"would\", \"would\", \"would\", \"would\", \"would\", \"would\", \"would\", \"would\", \"would\", \"would\", \"would\", \"would\", \"would\", \"would\", \"would\", \"would\", \"would\", \"write\", \"wrong\", \"wrong\", \"year\", \"year\", \"year\", \"year\", \"year\", \"yesterday\", \"yesterday\", \"yesterday\", \"yesterday\", \"yet\", \"yet\", \"yet\", \"young\"]}, \"R\": 30, \"lambda.step\": 0.01, \"plot.opts\": {\"xlab\": \"PC1\", \"ylab\": \"PC2\"}, \"topic.order\": [4, 19, 9, 5, 17, 16, 15, 2, 7, 14, 18, 11, 3, 13, 20, 8, 12, 1, 10, 6]};\n",
              "\n",
              "function LDAvis_load_lib(url, callback){\n",
              "  var s = document.createElement('script');\n",
              "  s.src = url;\n",
              "  s.async = true;\n",
              "  s.onreadystatechange = s.onload = callback;\n",
              "  s.onerror = function(){console.warn(\"failed to load library \" + url);};\n",
              "  document.getElementsByTagName(\"head\")[0].appendChild(s);\n",
              "}\n",
              "\n",
              "if(typeof(LDAvis) !== \"undefined\"){\n",
              "   // already loaded: just create the visualization\n",
              "   !function(LDAvis){\n",
              "       new LDAvis(\"#\" + \"ldavis_el8961398578264382249094745863\", ldavis_el8961398578264382249094745863_data);\n",
              "   }(LDAvis);\n",
              "}else if(typeof define === \"function\" && define.amd){\n",
              "   // require.js is available: use it to load d3/LDAvis\n",
              "   require.config({paths: {d3: \"https://cdnjs.cloudflare.com/ajax/libs/d3/3.5.5/d3.min\"}});\n",
              "   require([\"d3\"], function(d3){\n",
              "      window.d3 = d3;\n",
              "      LDAvis_load_lib(\"https://cdn.rawgit.com/bmabey/pyLDAvis/files/ldavis.v1.0.0.js\", function(){\n",
              "        new LDAvis(\"#\" + \"ldavis_el8961398578264382249094745863\", ldavis_el8961398578264382249094745863_data);\n",
              "      });\n",
              "    });\n",
              "}else{\n",
              "    // require.js not available: dynamically load d3 & LDAvis\n",
              "    LDAvis_load_lib(\"https://cdnjs.cloudflare.com/ajax/libs/d3/3.5.5/d3.min.js\", function(){\n",
              "         LDAvis_load_lib(\"https://cdn.rawgit.com/bmabey/pyLDAvis/files/ldavis.v1.0.0.js\", function(){\n",
              "                 new LDAvis(\"#\" + \"ldavis_el8961398578264382249094745863\", ldavis_el8961398578264382249094745863_data);\n",
              "            })\n",
              "         });\n",
              "}\n",
              "</script>"
            ],
            "text/plain": [
              "PreparedData(topic_coordinates=              x         y  topics  cluster      Freq\n",
              "topic                                               \n",
              "3     -0.164340  0.178369       1        1  6.308962\n",
              "18    -0.107921 -0.196363       2        1  6.218766\n",
              "8     -0.147086 -0.010986       3        1  5.873045\n",
              "4      0.160790 -0.065617       4        1  5.871795\n",
              "16    -0.152484  0.013344       5        1  5.481558\n",
              "15     0.072898 -0.096402       6        1  5.450532\n",
              "14     0.022089 -0.125183       7        1  5.198139\n",
              "1     -0.125626 -0.045686       8        1  5.106892\n",
              "6      0.033780 -0.077365       9        1  5.067193\n",
              "13    -0.085964 -0.084085      10        1  5.032815\n",
              "17    -0.074326  0.009990      11        1  4.779757\n",
              "10     0.114959  0.154664      12        1  4.714754\n",
              "2     -0.076038  0.048074      13        1  4.682740\n",
              "12     0.060524  0.074480      14        1  4.677915\n",
              "19     0.061416 -0.023303      15        1  4.640757\n",
              "7      0.015060  0.215502      16        1  4.605909\n",
              "11     0.088080 -0.047029      17        1  4.495146\n",
              "0      0.085383 -0.015556      18        1  4.266343\n",
              "9      0.037227  0.087414      19        1  3.932101\n",
              "5      0.181577  0.005735      20        1  3.594882, topic_info=        Term         Freq        Total Category  logprob  loglift\n",
              "90        be  2280.000000  2280.000000  Default  30.0000  30.0000\n",
              "139       go  2215.000000  2215.000000  Default  29.0000  29.0000\n",
              "76       say  2010.000000  2010.000000  Default  28.0000  28.0000\n",
              "39       lie  1376.000000  1376.000000  Default  27.0000  27.0000\n",
              "78      know  1468.000000  1468.000000  Default  26.0000  26.0000\n",
              "...      ...          ...          ...      ...      ...      ...\n",
              "539   afraid    66.476836    68.673677  Topic20  -4.7744   3.2931\n",
              "1206   month    95.486462   109.761638  Topic20  -4.4123   3.1863\n",
              "675     have   197.497207   367.674618  Topic20  -3.6856   2.7042\n",
              "186    great   146.124978  1161.983325  Topic20  -3.9868   1.2522\n",
              "56     trump    89.035376  2374.181856  Topic20  -4.4822   0.0423\n",
              "\n",
              "[891 rows x 6 columns], token_table=      Topic      Freq        Term\n",
              "term                             \n",
              "967       4  0.985480  absolutely\n",
              "1296     12  0.988233      accept\n",
              "1078     17  0.978059      accord\n",
              "1951     10  0.989118     account\n",
              "572       8  0.981273         act\n",
              "...     ...       ...         ...\n",
              "795      11  0.824470   yesterday\n",
              "395       7  0.005092         yet\n",
              "395      16  0.005092         yet\n",
              "395      17  0.987804         yet\n",
              "15       14  0.971217       young\n",
              "\n",
              "[1668 rows x 3 columns], R=30, lambda_step=0.01, plot_opts={'xlab': 'PC1', 'ylab': 'PC2'}, topic_order=[4, 19, 9, 5, 17, 16, 15, 2, 7, 14, 18, 11, 3, 13, 20, 8, 12, 1, 10, 6])"
            ]
          },
          "metadata": {
            "tags": []
          },
          "execution_count": 259
        }
      ]
    },
    {
      "cell_type": "code",
      "metadata": {
        "colab": {
          "base_uri": "https://localhost:8080/"
        },
        "id": "TS-Ftfswncdc",
        "outputId": "8385c403-a2b8-4b41-86d8-07c7567328df"
      },
      "source": [
        "# !wget http://mallet.cs.umass.edu/dist/mallet-2.0.8.zip\n",
        "# !unzip mallet-2.0.8.zip"
      ],
      "execution_count": null,
      "outputs": [
        {
          "output_type": "stream",
          "text": [
            "--2021-04-12 23:59:56--  http://mallet.cs.umass.edu/dist/mallet-2.0.8.zip\n",
            "Resolving mallet.cs.umass.edu (mallet.cs.umass.edu)... 128.119.246.70\n",
            "Connecting to mallet.cs.umass.edu (mallet.cs.umass.edu)|128.119.246.70|:80... connected.\n",
            "HTTP request sent, awaiting response... 200 OK\n",
            "Length: 16184794 (15M) [application/zip]\n",
            "Saving to: ‘mallet-2.0.8.zip.2’\n",
            "\n",
            "mallet-2.0.8.zip.2  100%[===================>]  15.43M  17.9MB/s    in 0.9s    \n",
            "\n",
            "2021-04-12 23:59:57 (17.9 MB/s) - ‘mallet-2.0.8.zip.2’ saved [16184794/16184794]\n",
            "\n",
            "Archive:  mallet-2.0.8.zip\n",
            "replace mallet-2.0.8/bin/classifier2info? [y]es, [n]o, [A]ll, [N]one, [r]ename: "
          ],
          "name": "stdout"
        }
      ]
    },
    {
      "cell_type": "code",
      "metadata": {
        "id": "zwC_CYoTMY-r"
      },
      "source": [
        "from gensim.models.wrappers import LdaMallet\n",
        "import os.path\n",
        "\n",
        "mallet_path = '/content/mallet-2.0.8/bin/mallet' # update this path\n",
        "gensimmodel30 = gensim.models.wrappers.LdaMallet(mallet_path, corpus=corpus, num_topics=20, id2word=id2word)\n"
      ],
      "execution_count": null,
      "outputs": []
    },
    {
      "cell_type": "code",
      "metadata": {
        "colab": {
          "base_uri": "https://localhost:8080/"
        },
        "id": "toF1GU8bMJtr",
        "outputId": "34b72f89-6082-4e6c-da2b-83efcf09524c"
      },
      "source": [
        "# Show Topics\n",
        "pprint(gensimmodel30.show_topics(formatted=False))\n",
        "\n",
        "# Compute Coherence Score\n",
        "coherence_model_ldamallet = CoherenceModel(model=gensimmodel30, texts=data_lemmatized, dictionary=id2word, coherence='c_v')\n",
        "coherence_ldamallet = coherence_model_ldamallet.get_coherence()\n",
        "print('\\nCoherence Score: ', coherence_ldamallet)"
      ],
      "execution_count": null,
      "outputs": [
        {
          "output_type": "stream",
          "text": [
            "[(2,\n",
            "  [('president', 0.060663061368445806),\n",
            "   ('run', 0.047966141547143196),\n",
            "   ('word', 0.03891370797084411),\n",
            "   ('person', 0.03280037620503174),\n",
            "   ('leader', 0.025628967787444158),\n",
            "   ('forget', 0.024453327063249472),\n",
            "   ('head', 0.021631789325182223),\n",
            "   ('move', 0.021514225252762757),\n",
            "   ('dumb', 0.020573712673407008),\n",
            "   ('fight', 0.0202210204561486)]),\n",
            " (7,\n",
            "  [('trump', 0.27031823021412515),\n",
            "   ('job', 0.1484679995267952),\n",
            "   ('join', 0.10434165385070389),\n",
            "   ('thousands_reminding', 0.04317993611735479),\n",
            "   ('create', 0.038921093103040344),\n",
            "   ('member', 0.022713829409677037),\n",
            "   ('mm_page', 0.02153081746125636),\n",
            "   ('hire', 0.013368035017153673),\n",
            "   ('economy', 0.010292203951259907),\n",
            "   ('company', 0.009937300366733704)]),\n",
            " (19,\n",
            "  [('plan', 0.0628718068354135),\n",
            "   ('illegal', 0.0527236673276566),\n",
            "   ('wall', 0.04770792021462732),\n",
            "   ('hear', 0.047008048524437185),\n",
            "   ('build', 0.04269217310159804),\n",
            "   ('law', 0.04210894669310626),\n",
            "   ('vote', 0.037326490143473695),\n",
            "   ('immigration', 0.03569345619969672),\n",
            "   ('policy', 0.033827131692523035),\n",
            "   ('criminal', 0.026011897818733233)]),\n",
            " (11,\n",
            "  [('lie', 0.17628393465742156),\n",
            "   ('stop', 0.08614408273592666),\n",
            "   ('big', 0.05476554236690563),\n",
            "   ('world', 0.04313080267951581),\n",
            "   ('true', 0.04136796333294159),\n",
            "   ('liar', 0.037724762016688215),\n",
            "   ('corrupt', 0.022916911505464804),\n",
            "   ('poor', 0.016688212480902572),\n",
            "   ('open', 0.016688212480902572),\n",
            "   ('fraud', 0.015160418380538254)]),\n",
            " (17,\n",
            "  [('watch', 0.0688547984302533),\n",
            "   ('wait', 0.04673564038530146),\n",
            "   ('read', 0.03734094422642407),\n",
            "   ('long', 0.030086811749316208),\n",
            "   ('face', 0.028421928885717682),\n",
            "   ('back', 0.02735164704483292),\n",
            "   ('line', 0.02425972172672137),\n",
            "   ('sick', 0.022119158044951837),\n",
            "   ('video', 0.018432631704126533),\n",
            "   ('story', 0.01641098822689975)]),\n",
            " (18,\n",
            "  [('time', 0.10476302205537306),\n",
            "   ('show', 0.07672454246832473),\n",
            "   ('poll', 0.058188643829188175),\n",
            "   ('lose', 0.0500938526513374),\n",
            "   ('liberal', 0.02111684655091506),\n",
            "   ('mind', 0.015837634913186297),\n",
            "   ('respect', 0.015251055842327546),\n",
            "   ('race', 0.013960581886438292),\n",
            "   ('hope', 0.01325668700140779),\n",
            "   ('close', 0.012670107930549039)]),\n",
            " (4,\n",
            "  [('day', 0.06281793446113806),\n",
            "   ('email', 0.05039630900272093),\n",
            "   ('supporter', 0.04223352655861824),\n",
            "   ('stupid', 0.03631846681651485),\n",
            "   ('turn', 0.033360936945463146),\n",
            "   ('delete', 0.030048503489885248),\n",
            "   ('send', 0.026972672423991484),\n",
            "   ('remember', 0.026144564060097006),\n",
            "   ('benghazi', 0.02200402224062463),\n",
            "   ('caign', 0.021767419850940495)]),\n",
            " (6,\n",
            "  [('people', 0.19983504182867914),\n",
            "   ('hate', 0.04465653352185696),\n",
            "   ('american', 0.042653470012961),\n",
            "   ('speak', 0.03864734299516908),\n",
            "   ('state', 0.03216684340756451),\n",
            "   ('problem', 0.029928125368210205),\n",
            "   ('lot', 0.027925061859314246),\n",
            "   ('life', 0.01979498055850124),\n",
            "   ('trust', 0.0181453988452928),\n",
            "   ('government', 0.01519971721456345)]),\n",
            " (5,\n",
            "  [('work', 0.09056780854059127),\n",
            "   ('care', 0.05290943219145941),\n",
            "   ('find', 0.039535429375879866),\n",
            "   ('agree', 0.03625058657907086),\n",
            "   ('wrong', 0.0321445330830596),\n",
            "   ('family', 0.03144063819802909),\n",
            "   ('hard', 0.02698263725950258),\n",
            "   ('elect', 0.02616142656030033),\n",
            "   ('happen', 0.025574847489441575),\n",
            "   ('child', 0.020999530736743315)]),\n",
            " (0,\n",
            "  [('give', 0.09309379374708353),\n",
            "   ('money', 0.04958002799813346),\n",
            "   ('back', 0.03674755016332244),\n",
            "   ('kill', 0.03173121791880541),\n",
            "   ('hold', 0.02041530564629025),\n",
            "   ('free', 0.02006532897806813),\n",
            "   ('high', 0.01959869342043864),\n",
            "   ('sell', 0.018315445636957535),\n",
            "   ('tax', 0.018315445636957535),\n",
            "   ('deal', 0.017848810079328044)])]\n",
            "\n",
            "Coherence Score:  0.3926035721101285\n"
          ],
          "name": "stdout"
        }
      ]
    },
    {
      "cell_type": "code",
      "metadata": {
        "id": "iXUaH1T2wfkU"
      },
      "source": [
        "def compute_coherence_values_LDA(dictionary, corpus, texts, limit, start=2, step=3):\n",
        "    \"\"\"\n",
        "    Compute c_v coherence for various number of topics\n",
        "\n",
        "    Parameters:\n",
        "    ----------\n",
        "    dictionary : Gensim dictionary\n",
        "    corpus : Gensim corpus\n",
        "    texts : List of input texts\n",
        "    limit : Max num of topics\n",
        "\n",
        "    Returns:\n",
        "    -------\n",
        "    model_list : List of LDA  topic models\n",
        "    coherence_values : Coherence values corresponding to the LDA model with respective number of topics\n",
        "    \"\"\"\n",
        "    coherence_values = []\n",
        "    model_list = []\n",
        "    for num_topics in range(start, limit, step):\n",
        "      model=gensim.models.ldamodel.LdaModel(corpus=corpus, num_topics=num_topics,id2word=id2word)\n",
        "      #model = gensim.models.wrappers.LdaMallet(mallet_path, corpus=corpus, num_topics=num_topics, id2word=id2word)\n",
        "      model_list.append(model)\n",
        "      coherencemodel = CoherenceModel(model=model, texts=texts, dictionary=dictionary, coherence='c_v')\n",
        "      coherence_values.append(coherencemodel.get_coherence())\n",
        "\n",
        "    return model_list, coherence_values"
      ],
      "execution_count": null,
      "outputs": []
    },
    {
      "cell_type": "code",
      "metadata": {
        "id": "jXgYNfX9wmj_"
      },
      "source": [
        "# Can take a long time to run.\n",
        "model_list, coherence_values = compute_coherence_values_LDA(dictionary=id2word, corpus=corpus, texts=data_lemmatized, start=2, limit=40, step=6)"
      ],
      "execution_count": null,
      "outputs": []
    },
    {
      "cell_type": "code",
      "metadata": {
        "colab": {
          "base_uri": "https://localhost:8080/",
          "height": 279
        },
        "id": "nXtjmOCUwx7x",
        "outputId": "fcbf7f06-588f-4c9c-f508-12b2ce3b7591"
      },
      "source": [
        "# Show graph\n",
        "limit=40; start=2; step=6;\n",
        "x = range(start, limit, step)\n",
        "plt.plot(x, coherence_values)\n",
        "plt.xlabel(\"Num Topics\")\n",
        "plt.ylabel(\"Coherence score_LDA\")\n",
        "plt.legend((\"coherence_values\"), loc='best')\n",
        "plt.show()"
      ],
      "execution_count": null,
      "outputs": [
        {
          "output_type": "display_data",
          "data": {
            "image/png": "[encoded data removed]",
            "text/plain": [
              "<Figure size 432x288 with 1 Axes>"
            ]
          },
          "metadata": {
            "tags": [],
            "needs_background": "light"
          }
        }
      ]
    },
    {
      "cell_type": "code",
      "metadata": {
        "id": "W2nzddMDC6V3"
      },
      "source": [
        "def compute_coherence_values(dictionary, corpus, texts, limit, start=2, step=3):\n",
        "    \"\"\"\n",
        "    Compute c_v coherence for various number of topics\n",
        "\n",
        "    Parameters:\n",
        "    ----------\n",
        "    dictionary : Gensim dictionary\n",
        "    corpus : Gensim corpus\n",
        "    texts : List of input texts\n",
        "    limit : Max num of topics\n",
        "\n",
        "    Returns:\n",
        "    -------\n",
        "    model_list : List of LDA Mallet topic models\n",
        "    coherence_values : Coherence values corresponding to the LDA model with respective number of topics\n",
        "    \"\"\"\n",
        "    coherence_values = []\n",
        "    model_list = []\n",
        "    for num_topics in range(start, limit, step):\n",
        "      #model=gensim.models.ldamodel.LdaModel(corpus=corpus, num_topics=num_topics,id2word=id2word)\n",
        "      model = gensim.models.wrappers.LdaMallet(mallet_path, corpus=corpus, num_topics=num_topics, id2word=id2word)\n",
        "      model_list.append(model)\n",
        "      coherencemodel = CoherenceModel(model=model, texts=texts, dictionary=dictionary, coherence='c_v')\n",
        "      coherence_values.append(coherencemodel.get_coherence())\n",
        "\n",
        "    return model_list, coherence_values"
      ],
      "execution_count": null,
      "outputs": []
    },
    {
      "cell_type": "code",
      "metadata": {
        "id": "1WV3biaN5TGp"
      },
      "source": [
        "# Can take a long time to run.\n",
        "model_list, coherence_values_MALLET = compute_coherence_values(dictionary=id2word, corpus=corpus, texts=data_lemmatized, start=2, limit=40, step=6)"
      ],
      "execution_count": null,
      "outputs": []
    },
    {
      "cell_type": "code",
      "metadata": {
        "colab": {
          "base_uri": "https://localhost:8080/",
          "height": 279
        },
        "id": "Ih9oKk7H5UWz",
        "outputId": "f64e821b-09ed-4534-d507-12bafbbc8ab6"
      },
      "source": [
        "# Show graph\n",
        "limit=40; start=2; step=6;\n",
        "x = range(start, limit, step)\n",
        "plt.plot(x, coherence_values_MALLET)\n",
        "plt.xlabel(\"Num Topics\")\n",
        "plt.ylabel(\"Coherence score_LDA_MALLET\")\n",
        "plt.legend((\"coherence_values\"), loc='best')\n",
        "plt.show()"
      ],
      "execution_count": null,
      "outputs": [
        {
          "output_type": "display_data",
          "data": {
            "image/png": "[encoded data removed]",
            "text/plain": [
              "<Figure size 432x288 with 1 Axes>"
            ]
          },
          "metadata": {
            "tags": [],
            "needs_background": "light"
          }
        }
      ]
    },
    {
      "cell_type": "code",
      "metadata": {
        "colab": {
          "base_uri": "https://localhost:8080/"
        },
        "id": "pfLmt4so5joU",
        "outputId": "b56624e7-09bf-4cb9-9970-117f0adfdf7e"
      },
      "source": [
        "# Print the coherence scores LDA\n",
        "for m, cv in zip(x, coherence_values):\n",
        "    print(\"Num Topics =\", m, \" has Coherence Value of\", round(cv, 4))"
      ],
      "execution_count": null,
      "outputs": [
        {
          "output_type": "stream",
          "text": [
            "Num Topics = 2  has Coherence Value of 0.1325\n",
            "Num Topics = 8  has Coherence Value of 0.2585\n",
            "Num Topics = 14  has Coherence Value of 0.3168\n",
            "Num Topics = 20  has Coherence Value of 0.3549\n",
            "Num Topics = 26  has Coherence Value of 0.3983\n",
            "Num Topics = 32  has Coherence Value of 0.4507\n",
            "Num Topics = 38  has Coherence Value of 0.4727\n"
          ],
          "name": "stdout"
        }
      ]
    },
    {
      "cell_type": "code",
      "metadata": {
        "colab": {
          "base_uri": "https://localhost:8080/"
        },
        "id": "9C6gKbpo0Mt8",
        "outputId": "e40a4743-9daf-40df-f586-078b9c6c6fd7"
      },
      "source": [
        "# Print the coherence scores LDA\n",
        "for m, cv in zip(x, coherence_values_MALLET):\n",
        "    print(\"Num Topics =\", m, \" has Coherence Value of\", round(cv, 4))"
      ],
      "execution_count": null,
      "outputs": [
        {
          "output_type": "stream",
          "text": [
            "Num Topics = 2  has Coherence Value of 0.2375\n",
            "Num Topics = 8  has Coherence Value of 0.2908\n",
            "Num Topics = 14  has Coherence Value of 0.3509\n",
            "Num Topics = 20  has Coherence Value of 0.4092\n",
            "Num Topics = 26  has Coherence Value of 0.4375\n",
            "Num Topics = 32  has Coherence Value of 0.4561\n",
            "Num Topics = 38  has Coherence Value of 0.4479\n"
          ],
          "name": "stdout"
        }
      ]
    },
    {
      "cell_type": "code",
      "metadata": {
        "colab": {
          "background_save": true
        },
        "id": "hmp9ob7cOL2P",
        "outputId": "6c25698b-373d-4440-fc3d-f21fed9c3ca2"
      },
      "source": [
        "# Select the model and print the topics\n",
        "optimal_model = model_list[3]\n",
        "model_topics = optimal_model.show_topics(formatted=False)\n",
        "pprint(optimal_model.print_topics(num_words=10))"
      ],
      "execution_count": null,
      "outputs": [
        {
          "output_type": "stream",
          "text": [
            "[(0,\n",
            "  '0.085*\"love\" + 0.075*\"country\" + 0.041*\"run\" + 0.039*\"tweet\" + 0.037*\"put\" '\n",
            "  '+ 0.035*\"state\" + 0.025*\"guy\" + 0.021*\"caign\" + 0.020*\"free\" + '\n",
            "  '0.017*\"poor\"'),\n",
            " (1,\n",
            "  '0.079*\"show\" + 0.060*\"poll\" + 0.050*\"fact\" + 0.034*\"turn\" + 0.030*\"happen\" '\n",
            "  '+ 0.027*\"check\" + 0.025*\"lead\" + 0.023*\"nice\" + 0.020*\"kid\" + '\n",
            "  '0.019*\"reality\"'),\n",
            " (2,\n",
            "  '0.069*\"talk\" + 0.045*\"wait\" + 0.044*\"debate\" + 0.033*\"point\" + '\n",
            "  '0.031*\"today\" + 0.030*\"issue\" + 0.026*\"leader\" + 0.019*\"meet\" + '\n",
            "  '0.017*\"high\" + 0.017*\"low\"'),\n",
            " (3,\n",
            "  '0.096*\"support\" + 0.051*\"illegal\" + 0.038*\"liar\" + 0.032*\"kill\" + '\n",
            "  '0.032*\"family\" + 0.029*\"candidate\" + 0.026*\"criminal\" + 0.021*\"deport\" + '\n",
            "  '0.019*\"fire\" + 0.016*\"crooked\"'),\n",
            " (4,\n",
            "  '0.151*\"job\" + 0.077*\"join\" + 0.050*\"lose\" + 0.044*\"thousands_reminding\" + '\n",
            "  '0.037*\"give\" + 0.036*\"stand\" + 0.022*\"elect\" + 0.015*\"fraud\" + '\n",
            "  '0.014*\"loser\" + 0.012*\"raise\"'),\n",
            " (5,\n",
            "  '0.172*\"vote\" + 0.051*\"truth\" + 0.048*\"hear\" + 0.042*\"bring\" + '\n",
            "  '0.033*\"change\" + 0.032*\"stay\" + 0.026*\"imwithher\" + 0.018*\"expect\" + '\n",
            "  '0.017*\"open\" + 0.017*\"voting\"'),\n",
            " (6,\n",
            "  '0.054*\"big\" + 0.042*\"leave\" + 0.041*\"true\" + 0.041*\"supporter\" + '\n",
            "  '0.036*\"read\" + 0.035*\"speech\" + 0.027*\"sound\" + 0.024*\"give\" + '\n",
            "  '0.021*\"history\" + 0.015*\"hell\"'),\n",
            " (7,\n",
            "  '0.093*\"fake\" + 0.081*\"medium\" + 0.066*\"news\" + 0.061*\"president\" + '\n",
            "  '0.058*\"real\" + 0.036*\"agree\" + 0.025*\"liberal\" + 0.025*\"press\" + '\n",
            "  '0.024*\"proud\" + 0.022*\"rush\"'),\n",
            " (8,\n",
            "  '0.071*\"back\" + 0.044*\"live\" + 0.043*\"world\" + 0.028*\"life\" + 0.027*\"send\" + '\n",
            "  '0.026*\"end\" + 0.023*\"continue\" + 0.022*\"head\" + 0.022*\"child\" + '\n",
            "  '0.022*\"fail\"'),\n",
            " (9,\n",
            "  '0.179*\"lie\" + 0.088*\"stop\" + 0.053*\"care\" + 0.023*\"corrupt\" + 0.021*\"sick\" '\n",
            "  '+ 0.019*\"trust\" + 0.018*\"million\" + 0.016*\"die\" + 0.014*\"corruption\" + '\n",
            "  '0.013*\"ad\"'),\n",
            " (10,\n",
            "  '0.075*\"thing\" + 0.072*\"bad\" + 0.068*\"watch\" + 0.041*\"sad\" + 0.029*\"hope\" + '\n",
            "  '0.020*\"guess\" + 0.018*\"video\" + 0.018*\"listen\" + 0.016*\"idea\" + '\n",
            "  '0.016*\"office\"'),\n",
            " (11,\n",
            "  '0.203*\"people\" + 0.076*\"time\" + 0.045*\"hate\" + 0.043*\"american\" + '\n",
            "  '0.036*\"voter\" + 0.035*\"work\" + 0.030*\"problem\" + 0.028*\"lot\" + '\n",
            "  '0.026*\"white\" + 0.016*\"happy\"'),\n",
            " (12,\n",
            "  '0.043*\"realdonaldtrump\" + 0.039*\"start\" + 0.033*\"give\" + 0.023*\"yesterday\" '\n",
            "  '+ 0.023*\"public\" + 0.022*\"forget\" + 0.022*\"feel\" + 0.021*\"friend\" + '\n",
            "  '0.019*\"potu\" + 0.018*\"crazy\"'),\n",
            " (13,\n",
            "  '0.230*\"make\" + 0.147*\"good\" + 0.120*\"great\" + 0.056*\"work\" + '\n",
            "  '0.026*\"clinton\" + 0.020*\"fight\" + 0.013*\"blacklive\" + 0.013*\"sense\" + '\n",
            "  '0.010*\"easy\" + 0.009*\"difference\"'),\n",
            " (14,\n",
            "  '0.328*\"trump\" + 0.039*\"create\" + 0.039*\"word\" + 0.028*\"join\" + '\n",
            "  '0.023*\"member\" + 0.022*\"mm_page\" + 0.021*\"maga\" + 0.019*\"trumppence\" + '\n",
            "  '0.017*\"reason\" + 0.015*\"story\"'),\n",
            " (15,\n",
            "  '0.078*\"win\" + 0.064*\"election\" + 0.056*\"man\" + 0.048*\"woman\" + '\n",
            "  '0.039*\"speak\" + 0.023*\"wrong\" + 0.022*\"move\" + 0.022*\"dem\" + 0.020*\"hand\" + '\n",
            "  '0.018*\"attack\"'),\n",
            " (16,\n",
            "  '0.075*\"call\" + 0.055*\"black\" + 0.055*\"racist\" + 0.041*\"year\" + '\n",
            "  '0.031*\"person\" + 0.027*\"face\" + 0.026*\"shit\" + 0.022*\"idiot\" + 0.021*\"ass\" '\n",
            "  '+ 0.020*\"dumb\"'),\n",
            " (17,\n",
            "  '0.062*\"day\" + 0.051*\"email\" + 0.044*\"find\" + 0.036*\"question\" + '\n",
            "  '0.033*\"hide\" + 0.030*\"delete\" + 0.027*\"hard\" + 0.026*\"remember\" + '\n",
            "  '0.026*\"rally\" + 0.022*\"answer\"'),\n",
            " (18,\n",
            "  '0.063*\"plan\" + 0.042*\"law\" + 0.035*\"policy\" + 0.035*\"immigration\" + '\n",
            "  '0.033*\"release\" + 0.032*\"taxis\" + 0.026*\"follow\" + 0.022*\"break\" + '\n",
            "  '0.019*\"understand\" + 0.018*\"business\"'),\n",
            " (19,\n",
            "  '0.081*\"pay\" + 0.050*\"money\" + 0.048*\"wall\" + 0.043*\"build\" + 0.037*\"stupid\" '\n",
            "  '+ 0.030*\"long\" + 0.028*\"play\" + 0.026*\"time\" + 0.024*\"line\" + 0.019*\"buy\"')]\n"
          ],
          "name": "stdout"
        }
      ]
    }
  ]
}